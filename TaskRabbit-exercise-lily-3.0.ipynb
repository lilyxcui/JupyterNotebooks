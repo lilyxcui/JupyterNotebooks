{
 "cells": [
  {
   "cell_type": "markdown",
   "id": "ba10f4ba",
   "metadata": {},
   "source": [
    "# Introduction\n",
    "Welcome to the TaskRabbit data analysis exercise. \n",
    "\n",
    "We appreciate your time and effort in completing this exercise. \n",
    "\n",
    "It helps TaskRabbit focus on candidates who are the best fit for the Data Analyst role, and also helps the candidate get an idea of the type of data we work with and the technical skills required to be successful in the role.\n",
    "\n",
    "For this exercise, a sample data file is provided which contains information about \"recommendations\". \n",
    "\n",
    "A \"recommendation\" is the group of Taskers from which the Client can choose one to book.\n",
    "\n",
    "The sample data file is a CSV file of the form:"
   ]
  },
  {
   "cell_type": "markdown",
   "id": "a70b99c6",
   "metadata": {},
   "source": [
    "## Data Information"
   ]
  },
  {
   "cell_type": "code",
   "execution_count": 1,
   "id": "ecdc3a1f",
   "metadata": {},
   "outputs": [],
   "source": [
    "# import libraries\n",
    "import pandas as pd\n",
    "import numpy as np\n",
    "import seaborn as sns\n",
    "import matplotlib.pyplot as plt"
   ]
  },
  {
   "cell_type": "code",
   "execution_count": 2,
   "id": "ede403eb",
   "metadata": {
    "scrolled": false
   },
   "outputs": [
    {
     "data": {
      "text/html": [
       "<div>\n",
       "<style scoped>\n",
       "    .dataframe tbody tr th:only-of-type {\n",
       "        vertical-align: middle;\n",
       "    }\n",
       "\n",
       "    .dataframe tbody tr th {\n",
       "        vertical-align: top;\n",
       "    }\n",
       "\n",
       "    .dataframe thead th {\n",
       "        text-align: right;\n",
       "    }\n",
       "</style>\n",
       "<table border=\"1\" class=\"dataframe\">\n",
       "  <thead>\n",
       "    <tr style=\"text-align: right;\">\n",
       "      <th></th>\n",
       "      <th>recommendation_id</th>\n",
       "      <th>created_at</th>\n",
       "      <th>tasker_id</th>\n",
       "      <th>position</th>\n",
       "      <th>hourly_rate</th>\n",
       "      <th>num_completed_tasks</th>\n",
       "      <th>hired</th>\n",
       "      <th>category</th>\n",
       "    </tr>\n",
       "  </thead>\n",
       "  <tbody>\n",
       "    <tr>\n",
       "      <th>0</th>\n",
       "      <td>0-0-70cf97d7-37af-4834-901c-ce3ad4893b8c</td>\n",
       "      <td>2017-09-01 00:32:00</td>\n",
       "      <td>1009185352</td>\n",
       "      <td>1</td>\n",
       "      <td>38</td>\n",
       "      <td>151</td>\n",
       "      <td>0</td>\n",
       "      <td>Furniture Assembly</td>\n",
       "    </tr>\n",
       "    <tr>\n",
       "      <th>1</th>\n",
       "      <td>0-0-70cf97d7-37af-4834-901c-ce3ad4893b8c</td>\n",
       "      <td>2017-09-01 00:32:00</td>\n",
       "      <td>1006892359</td>\n",
       "      <td>2</td>\n",
       "      <td>40</td>\n",
       "      <td>193</td>\n",
       "      <td>0</td>\n",
       "      <td>Furniture Assembly</td>\n",
       "    </tr>\n",
       "    <tr>\n",
       "      <th>2</th>\n",
       "      <td>0-0-70cf97d7-37af-4834-901c-ce3ad4893b8c</td>\n",
       "      <td>2017-09-01 00:32:00</td>\n",
       "      <td>1012023956</td>\n",
       "      <td>3</td>\n",
       "      <td>28</td>\n",
       "      <td>0</td>\n",
       "      <td>0</td>\n",
       "      <td>Furniture Assembly</td>\n",
       "    </tr>\n",
       "    <tr>\n",
       "      <th>3</th>\n",
       "      <td>0-0-70cf97d7-37af-4834-901c-ce3ad4893b8c</td>\n",
       "      <td>2017-09-01 00:32:00</td>\n",
       "      <td>1009733517</td>\n",
       "      <td>4</td>\n",
       "      <td>43</td>\n",
       "      <td>303</td>\n",
       "      <td>0</td>\n",
       "      <td>Furniture Assembly</td>\n",
       "    </tr>\n",
       "    <tr>\n",
       "      <th>4</th>\n",
       "      <td>0-0-70cf97d7-37af-4834-901c-ce3ad4893b8c</td>\n",
       "      <td>2017-09-01 00:32:00</td>\n",
       "      <td>1013579273</td>\n",
       "      <td>5</td>\n",
       "      <td>29</td>\n",
       "      <td>39</td>\n",
       "      <td>0</td>\n",
       "      <td>Furniture Assembly</td>\n",
       "    </tr>\n",
       "  </tbody>\n",
       "</table>\n",
       "</div>"
      ],
      "text/plain": [
       "                          recommendation_id          created_at   tasker_id  \\\n",
       "0  0-0-70cf97d7-37af-4834-901c-ce3ad4893b8c 2017-09-01 00:32:00  1009185352   \n",
       "1  0-0-70cf97d7-37af-4834-901c-ce3ad4893b8c 2017-09-01 00:32:00  1006892359   \n",
       "2  0-0-70cf97d7-37af-4834-901c-ce3ad4893b8c 2017-09-01 00:32:00  1012023956   \n",
       "3  0-0-70cf97d7-37af-4834-901c-ce3ad4893b8c 2017-09-01 00:32:00  1009733517   \n",
       "4  0-0-70cf97d7-37af-4834-901c-ce3ad4893b8c 2017-09-01 00:32:00  1013579273   \n",
       "\n",
       "   position  hourly_rate  num_completed_tasks  hired            category  \n",
       "0         1           38                  151      0  Furniture Assembly  \n",
       "1         2           40                  193      0  Furniture Assembly  \n",
       "2         3           28                    0      0  Furniture Assembly  \n",
       "3         4           43                  303      0  Furniture Assembly  \n",
       "4         5           29                   39      0  Furniture Assembly  "
      ]
     },
     "execution_count": 2,
     "metadata": {},
     "output_type": "execute_result"
    }
   ],
   "source": [
    "# read in data\n",
    "df = pd.read_csv(\"TaskRabbit-sample-data.csv\", parse_dates = [1])\n",
    "df.head()"
   ]
  },
  {
   "cell_type": "code",
   "execution_count": 3,
   "id": "ea6d3ba8",
   "metadata": {
    "scrolled": true
   },
   "outputs": [
    {
     "name": "stdout",
     "output_type": "stream",
     "text": [
      "<class 'pandas.core.frame.DataFrame'>\n",
      "RangeIndex: 30000 entries, 0 to 29999\n",
      "Data columns (total 8 columns):\n",
      " #   Column               Non-Null Count  Dtype         \n",
      "---  ------               --------------  -----         \n",
      " 0   recommendation_id    30000 non-null  object        \n",
      " 1   created_at           30000 non-null  datetime64[ns]\n",
      " 2   tasker_id            30000 non-null  int64         \n",
      " 3   position             30000 non-null  int64         \n",
      " 4   hourly_rate          30000 non-null  int64         \n",
      " 5   num_completed_tasks  30000 non-null  int64         \n",
      " 6   hired                30000 non-null  int64         \n",
      " 7   category             30000 non-null  object        \n",
      "dtypes: datetime64[ns](1), int64(5), object(2)\n",
      "memory usage: 1.8+ MB\n"
     ]
    }
   ],
   "source": [
    "df.info()"
   ]
  },
  {
   "cell_type": "markdown",
   "id": "9d0bb2ee",
   "metadata": {},
   "source": [
    "## Column Information\n",
    "The columns are as follows:\n",
    "1. `recommendation_id`: unique identifier for this recommendation, or set of taskers shown\n",
    "2. `created_at`: when this recommendation was shown to the client\n",
    "3. `tasker_id`: unique identifier for the Tasker\n",
    "4. `position`: the position of the Tasker in the recommendation set, 1 - first, 2 - second, etc.\n",
    "5. `hourly_rate`: the hourly rate for the Tasker when they were shown\n",
    "6. `num_completed_tasks`: the number of Tasks the Tasker had completed in that category, when they were shown \n",
    "7. `hired`: was the Tasker hired or not? Only 1 tasker out of a set of recommendations can be hired\n",
    "8. `category`: the category of work the Client needs help with"
   ]
  },
  {
   "cell_type": "markdown",
   "id": "33c85f49",
   "metadata": {},
   "source": [
    "# Question 1\n",
    "How many recommendation sets are in this data sample?"
   ]
  },
  {
   "cell_type": "code",
   "execution_count": 4,
   "id": "3b774abb",
   "metadata": {},
   "outputs": [
    {
     "data": {
      "text/plain": [
       "(30000, 8)"
      ]
     },
     "execution_count": 4,
     "metadata": {},
     "output_type": "execute_result"
    }
   ],
   "source": [
    "df.shape"
   ]
  },
  {
   "cell_type": "markdown",
   "id": "ae07477c",
   "metadata": {},
   "source": [
    "There are 30,000 recommendation sets in this sample."
   ]
  },
  {
   "cell_type": "markdown",
   "id": "1a3b0dcc",
   "metadata": {},
   "source": [
    "# Question 2\n",
    "Each recommendation set shows from 1 to 15 Taskers, what is...\n",
    "- average number of Taskers shown\n",
    "- median number of Taskers shown"
   ]
  },
  {
   "cell_type": "code",
   "execution_count": 5,
   "id": "a13a4fdf",
   "metadata": {},
   "outputs": [
    {
     "data": {
      "text/plain": [
       "(7.8736, 8.0)"
      ]
     },
     "execution_count": 5,
     "metadata": {},
     "output_type": "execute_result"
    }
   ],
   "source": [
    "(df[\"position\"].mean(), df[\"position\"].median())"
   ]
  },
  {
   "cell_type": "markdown",
   "id": "fee72669",
   "metadata": {},
   "source": [
    "The average number of Taskers shown is 7.87.\n",
    "\n",
    "The median nunber of Taskers shown is 8.0."
   ]
  },
  {
   "cell_type": "markdown",
   "id": "9dfcf440",
   "metadata": {},
   "source": [
    "# Question 3 \n",
    "If we define the \"booking rate\" as the number of hires divided by number of tasker displayed, what the distribution of booking rate by position for each category? i.e\n",
    "```\n",
    "booking_rate  position       category\n",
    "     0.7          1      Furniture Assembly\n",
    "     0.5          2      Furniture Assembly\n",
    "     ...         ...           ...\n",
    "```"
   ]
  },
  {
   "cell_type": "code",
   "execution_count": 6,
   "id": "77d539c8",
   "metadata": {
    "scrolled": true
   },
   "outputs": [
    {
     "data": {
      "text/html": [
       "<div>\n",
       "<style scoped>\n",
       "    .dataframe tbody tr th:only-of-type {\n",
       "        vertical-align: middle;\n",
       "    }\n",
       "\n",
       "    .dataframe tbody tr th {\n",
       "        vertical-align: top;\n",
       "    }\n",
       "\n",
       "    .dataframe thead th {\n",
       "        text-align: right;\n",
       "    }\n",
       "</style>\n",
       "<table border=\"1\" class=\"dataframe\">\n",
       "  <thead>\n",
       "    <tr style=\"text-align: right;\">\n",
       "      <th></th>\n",
       "      <th>recommendation_id</th>\n",
       "      <th>created_at</th>\n",
       "      <th>tasker_id</th>\n",
       "      <th>position</th>\n",
       "      <th>hourly_rate</th>\n",
       "      <th>num_completed_tasks</th>\n",
       "      <th>hired</th>\n",
       "      <th>category</th>\n",
       "      <th>day</th>\n",
       "      <th>hour</th>\n",
       "    </tr>\n",
       "  </thead>\n",
       "  <tbody>\n",
       "    <tr>\n",
       "      <th>0</th>\n",
       "      <td>0-0-70cf97d7-37af-4834-901c-ce3ad4893b8c</td>\n",
       "      <td>2017-09-01 00:32:00</td>\n",
       "      <td>1009185352</td>\n",
       "      <td>1</td>\n",
       "      <td>38</td>\n",
       "      <td>151</td>\n",
       "      <td>0</td>\n",
       "      <td>Furniture Assembly</td>\n",
       "      <td>1</td>\n",
       "      <td>0</td>\n",
       "    </tr>\n",
       "    <tr>\n",
       "      <th>1</th>\n",
       "      <td>0-0-70cf97d7-37af-4834-901c-ce3ad4893b8c</td>\n",
       "      <td>2017-09-01 00:32:00</td>\n",
       "      <td>1006892359</td>\n",
       "      <td>2</td>\n",
       "      <td>40</td>\n",
       "      <td>193</td>\n",
       "      <td>0</td>\n",
       "      <td>Furniture Assembly</td>\n",
       "      <td>1</td>\n",
       "      <td>0</td>\n",
       "    </tr>\n",
       "    <tr>\n",
       "      <th>2</th>\n",
       "      <td>0-0-70cf97d7-37af-4834-901c-ce3ad4893b8c</td>\n",
       "      <td>2017-09-01 00:32:00</td>\n",
       "      <td>1012023956</td>\n",
       "      <td>3</td>\n",
       "      <td>28</td>\n",
       "      <td>0</td>\n",
       "      <td>0</td>\n",
       "      <td>Furniture Assembly</td>\n",
       "      <td>1</td>\n",
       "      <td>0</td>\n",
       "    </tr>\n",
       "    <tr>\n",
       "      <th>3</th>\n",
       "      <td>0-0-70cf97d7-37af-4834-901c-ce3ad4893b8c</td>\n",
       "      <td>2017-09-01 00:32:00</td>\n",
       "      <td>1009733517</td>\n",
       "      <td>4</td>\n",
       "      <td>43</td>\n",
       "      <td>303</td>\n",
       "      <td>0</td>\n",
       "      <td>Furniture Assembly</td>\n",
       "      <td>1</td>\n",
       "      <td>0</td>\n",
       "    </tr>\n",
       "    <tr>\n",
       "      <th>4</th>\n",
       "      <td>0-0-70cf97d7-37af-4834-901c-ce3ad4893b8c</td>\n",
       "      <td>2017-09-01 00:32:00</td>\n",
       "      <td>1013579273</td>\n",
       "      <td>5</td>\n",
       "      <td>29</td>\n",
       "      <td>39</td>\n",
       "      <td>0</td>\n",
       "      <td>Furniture Assembly</td>\n",
       "      <td>1</td>\n",
       "      <td>0</td>\n",
       "    </tr>\n",
       "  </tbody>\n",
       "</table>\n",
       "</div>"
      ],
      "text/plain": [
       "                          recommendation_id          created_at   tasker_id  \\\n",
       "0  0-0-70cf97d7-37af-4834-901c-ce3ad4893b8c 2017-09-01 00:32:00  1009185352   \n",
       "1  0-0-70cf97d7-37af-4834-901c-ce3ad4893b8c 2017-09-01 00:32:00  1006892359   \n",
       "2  0-0-70cf97d7-37af-4834-901c-ce3ad4893b8c 2017-09-01 00:32:00  1012023956   \n",
       "3  0-0-70cf97d7-37af-4834-901c-ce3ad4893b8c 2017-09-01 00:32:00  1009733517   \n",
       "4  0-0-70cf97d7-37af-4834-901c-ce3ad4893b8c 2017-09-01 00:32:00  1013579273   \n",
       "\n",
       "   position  hourly_rate  num_completed_tasks  hired            category  day  \\\n",
       "0         1           38                  151      0  Furniture Assembly    1   \n",
       "1         2           40                  193      0  Furniture Assembly    1   \n",
       "2         3           28                    0      0  Furniture Assembly    1   \n",
       "3         4           43                  303      0  Furniture Assembly    1   \n",
       "4         5           29                   39      0  Furniture Assembly    1   \n",
       "\n",
       "   hour  \n",
       "0     0  \n",
       "1     0  \n",
       "2     0  \n",
       "3     0  \n",
       "4     0  "
      ]
     },
     "execution_count": 6,
     "metadata": {},
     "output_type": "execute_result"
    }
   ],
   "source": [
    "# add colums 'day' and 'hour'\n",
    "df[\"day\"] = df.created_at.dt.day\n",
    "df[\"hour\"] = df.created_at.dt.hour\n",
    "df.head()"
   ]
  },
  {
   "cell_type": "code",
   "execution_count": 7,
   "id": "c5b7e54a",
   "metadata": {
    "scrolled": true
   },
   "outputs": [
    {
     "data": {
      "text/html": [
       "<div>\n",
       "<style scoped>\n",
       "    .dataframe tbody tr th:only-of-type {\n",
       "        vertical-align: middle;\n",
       "    }\n",
       "\n",
       "    .dataframe tbody tr th {\n",
       "        vertical-align: top;\n",
       "    }\n",
       "\n",
       "    .dataframe thead th {\n",
       "        text-align: right;\n",
       "    }\n",
       "</style>\n",
       "<table border=\"1\" class=\"dataframe\">\n",
       "  <thead>\n",
       "    <tr style=\"text-align: right;\">\n",
       "      <th></th>\n",
       "      <th></th>\n",
       "      <th>booking_rate</th>\n",
       "    </tr>\n",
       "    <tr>\n",
       "      <th>position</th>\n",
       "      <th>category</th>\n",
       "      <th></th>\n",
       "    </tr>\n",
       "  </thead>\n",
       "  <tbody>\n",
       "    <tr>\n",
       "      <th rowspan=\"3\" valign=\"top\">1</th>\n",
       "      <th>Furniture Assembly</th>\n",
       "      <td>0.333809</td>\n",
       "    </tr>\n",
       "    <tr>\n",
       "      <th>Mounting</th>\n",
       "      <td>0.283688</td>\n",
       "    </tr>\n",
       "    <tr>\n",
       "      <th>Moving Help</th>\n",
       "      <td>0.276012</td>\n",
       "    </tr>\n",
       "    <tr>\n",
       "      <th rowspan=\"3\" valign=\"top\">2</th>\n",
       "      <th>Furniture Assembly</th>\n",
       "      <td>0.144509</td>\n",
       "    </tr>\n",
       "    <tr>\n",
       "      <th>Mounting</th>\n",
       "      <td>0.098712</td>\n",
       "    </tr>\n",
       "    <tr>\n",
       "      <th>Moving Help</th>\n",
       "      <td>0.114162</td>\n",
       "    </tr>\n",
       "    <tr>\n",
       "      <th rowspan=\"3\" valign=\"top\">3</th>\n",
       "      <th>Furniture Assembly</th>\n",
       "      <td>0.010174</td>\n",
       "    </tr>\n",
       "    <tr>\n",
       "      <th>Mounting</th>\n",
       "      <td>0.032023</td>\n",
       "    </tr>\n",
       "    <tr>\n",
       "      <th>Moving Help</th>\n",
       "      <td>0.050946</td>\n",
       "    </tr>\n",
       "    <tr>\n",
       "      <th rowspan=\"3\" valign=\"top\">4</th>\n",
       "      <th>Furniture Assembly</th>\n",
       "      <td>0.093431</td>\n",
       "    </tr>\n",
       "    <tr>\n",
       "      <th>Mounting</th>\n",
       "      <td>0.075802</td>\n",
       "    </tr>\n",
       "    <tr>\n",
       "      <th>Moving Help</th>\n",
       "      <td>0.089181</td>\n",
       "    </tr>\n",
       "    <tr>\n",
       "      <th rowspan=\"3\" valign=\"top\">5</th>\n",
       "      <th>Furniture Assembly</th>\n",
       "      <td>0.042647</td>\n",
       "    </tr>\n",
       "    <tr>\n",
       "      <th>Mounting</th>\n",
       "      <td>0.063235</td>\n",
       "    </tr>\n",
       "    <tr>\n",
       "      <th>Moving Help</th>\n",
       "      <td>0.073206</td>\n",
       "    </tr>\n",
       "    <tr>\n",
       "      <th rowspan=\"3\" valign=\"top\">6</th>\n",
       "      <th>Furniture Assembly</th>\n",
       "      <td>0.040000</td>\n",
       "    </tr>\n",
       "    <tr>\n",
       "      <th>Mounting</th>\n",
       "      <td>0.034175</td>\n",
       "    </tr>\n",
       "    <tr>\n",
       "      <th>Moving Help</th>\n",
       "      <td>0.033824</td>\n",
       "    </tr>\n",
       "    <tr>\n",
       "      <th rowspan=\"3\" valign=\"top\">7</th>\n",
       "      <th>Furniture Assembly</th>\n",
       "      <td>0.038981</td>\n",
       "    </tr>\n",
       "    <tr>\n",
       "      <th>Mounting</th>\n",
       "      <td>0.028486</td>\n",
       "    </tr>\n",
       "    <tr>\n",
       "      <th>Moving Help</th>\n",
       "      <td>0.051929</td>\n",
       "    </tr>\n",
       "    <tr>\n",
       "      <th rowspan=\"3\" valign=\"top\">8</th>\n",
       "      <th>Furniture Assembly</th>\n",
       "      <td>0.019578</td>\n",
       "    </tr>\n",
       "    <tr>\n",
       "      <th>Mounting</th>\n",
       "      <td>0.024024</td>\n",
       "    </tr>\n",
       "    <tr>\n",
       "      <th>Moving Help</th>\n",
       "      <td>0.029806</td>\n",
       "    </tr>\n",
       "    <tr>\n",
       "      <th rowspan=\"3\" valign=\"top\">9</th>\n",
       "      <th>Furniture Assembly</th>\n",
       "      <td>0.031770</td>\n",
       "    </tr>\n",
       "    <tr>\n",
       "      <th>Mounting</th>\n",
       "      <td>0.033486</td>\n",
       "    </tr>\n",
       "    <tr>\n",
       "      <th>Moving Help</th>\n",
       "      <td>0.017991</td>\n",
       "    </tr>\n",
       "    <tr>\n",
       "      <th rowspan=\"3\" valign=\"top\">10</th>\n",
       "      <th>Furniture Assembly</th>\n",
       "      <td>0.027356</td>\n",
       "    </tr>\n",
       "    <tr>\n",
       "      <th>Mounting</th>\n",
       "      <td>0.033588</td>\n",
       "    </tr>\n",
       "    <tr>\n",
       "      <th>Moving Help</th>\n",
       "      <td>0.027190</td>\n",
       "    </tr>\n",
       "    <tr>\n",
       "      <th rowspan=\"3\" valign=\"top\">11</th>\n",
       "      <th>Furniture Assembly</th>\n",
       "      <td>0.026074</td>\n",
       "    </tr>\n",
       "    <tr>\n",
       "      <th>Mounting</th>\n",
       "      <td>0.020000</td>\n",
       "    </tr>\n",
       "    <tr>\n",
       "      <th>Moving Help</th>\n",
       "      <td>0.016768</td>\n",
       "    </tr>\n",
       "    <tr>\n",
       "      <th rowspan=\"3\" valign=\"top\">12</th>\n",
       "      <th>Furniture Assembly</th>\n",
       "      <td>0.012365</td>\n",
       "    </tr>\n",
       "    <tr>\n",
       "      <th>Mounting</th>\n",
       "      <td>0.032407</td>\n",
       "    </tr>\n",
       "    <tr>\n",
       "      <th>Moving Help</th>\n",
       "      <td>0.026114</td>\n",
       "    </tr>\n",
       "    <tr>\n",
       "      <th rowspan=\"3\" valign=\"top\">13</th>\n",
       "      <th>Furniture Assembly</th>\n",
       "      <td>0.004644</td>\n",
       "    </tr>\n",
       "    <tr>\n",
       "      <th>Mounting</th>\n",
       "      <td>0.031008</td>\n",
       "    </tr>\n",
       "    <tr>\n",
       "      <th>Moving Help</th>\n",
       "      <td>0.009331</td>\n",
       "    </tr>\n",
       "    <tr>\n",
       "      <th rowspan=\"3\" valign=\"top\">14</th>\n",
       "      <th>Furniture Assembly</th>\n",
       "      <td>0.006231</td>\n",
       "    </tr>\n",
       "    <tr>\n",
       "      <th>Mounting</th>\n",
       "      <td>0.024961</td>\n",
       "    </tr>\n",
       "    <tr>\n",
       "      <th>Moving Help</th>\n",
       "      <td>0.015798</td>\n",
       "    </tr>\n",
       "    <tr>\n",
       "      <th rowspan=\"3\" valign=\"top\">15</th>\n",
       "      <th>Furniture Assembly</th>\n",
       "      <td>0.001558</td>\n",
       "    </tr>\n",
       "    <tr>\n",
       "      <th>Mounting</th>\n",
       "      <td>0.006240</td>\n",
       "    </tr>\n",
       "    <tr>\n",
       "      <th>Moving Help</th>\n",
       "      <td>0.004800</td>\n",
       "    </tr>\n",
       "  </tbody>\n",
       "</table>\n",
       "</div>"
      ],
      "text/plain": [
       "                             booking_rate\n",
       "position category                        \n",
       "1        Furniture Assembly      0.333809\n",
       "         Mounting                0.283688\n",
       "         Moving Help             0.276012\n",
       "2        Furniture Assembly      0.144509\n",
       "         Mounting                0.098712\n",
       "         Moving Help             0.114162\n",
       "3        Furniture Assembly      0.010174\n",
       "         Mounting                0.032023\n",
       "         Moving Help             0.050946\n",
       "4        Furniture Assembly      0.093431\n",
       "         Mounting                0.075802\n",
       "         Moving Help             0.089181\n",
       "5        Furniture Assembly      0.042647\n",
       "         Mounting                0.063235\n",
       "         Moving Help             0.073206\n",
       "6        Furniture Assembly      0.040000\n",
       "         Mounting                0.034175\n",
       "         Moving Help             0.033824\n",
       "7        Furniture Assembly      0.038981\n",
       "         Mounting                0.028486\n",
       "         Moving Help             0.051929\n",
       "8        Furniture Assembly      0.019578\n",
       "         Mounting                0.024024\n",
       "         Moving Help             0.029806\n",
       "9        Furniture Assembly      0.031770\n",
       "         Mounting                0.033486\n",
       "         Moving Help             0.017991\n",
       "10       Furniture Assembly      0.027356\n",
       "         Mounting                0.033588\n",
       "         Moving Help             0.027190\n",
       "11       Furniture Assembly      0.026074\n",
       "         Mounting                0.020000\n",
       "         Moving Help             0.016768\n",
       "12       Furniture Assembly      0.012365\n",
       "         Mounting                0.032407\n",
       "         Moving Help             0.026114\n",
       "13       Furniture Assembly      0.004644\n",
       "         Mounting                0.031008\n",
       "         Moving Help             0.009331\n",
       "14       Furniture Assembly      0.006231\n",
       "         Mounting                0.024961\n",
       "         Moving Help             0.015798\n",
       "15       Furniture Assembly      0.001558\n",
       "         Mounting                0.006240\n",
       "         Moving Help             0.004800"
      ]
     },
     "execution_count": 7,
     "metadata": {},
     "output_type": "execute_result"
    }
   ],
   "source": [
    "# group by position and category\n",
    "df_pos_cat = df.groupby([\"position\", \"category\"])\n",
    "booking_rate_s = df_pos_cat.hired.sum()/df_pos_cat.hired.count()\n",
    "booking_rate_df = booking_rate_s.to_frame(name = \"booking_rate\")\n",
    "booking_rate_df"
   ]
  },
  {
   "cell_type": "code",
   "execution_count": 8,
   "id": "8bea4add",
   "metadata": {
    "scrolled": false
   },
   "outputs": [
    {
     "data": {
      "image/png": "[encoded data removed]",
      "text/plain": [
       "<Figure size 864x360 with 2 Axes>"
      ]
     },
     "metadata": {
      "needs_background": "light"
     },
     "output_type": "display_data"
    }
   ],
   "source": [
    "fig, axes = plt.subplots(1, 2, figsize = (12, 5))\n",
    "df3 = booking_rate_df.unstack(level = 'category')\n",
    "df3.columns = df3.columns.droplevel()\n",
    "df3.plot(kind = \"bar\", ax = axes[0])\n",
    "df3.plot(kind = \"line\", ax = axes[1])\n",
    "plt.show()"
   ]
  },
  {
   "cell_type": "markdown",
   "id": "f2527d03",
   "metadata": {},
   "source": [
    "## Why position 3 has a sudden drop?"
   ]
  },
  {
   "cell_type": "code",
   "execution_count": 9,
   "id": "f333576c",
   "metadata": {
    "scrolled": true
   },
   "outputs": [
    {
     "data": {
      "text/html": [
       "<div>\n",
       "<style scoped>\n",
       "    .dataframe tbody tr th:only-of-type {\n",
       "        vertical-align: middle;\n",
       "    }\n",
       "\n",
       "    .dataframe tbody tr th {\n",
       "        vertical-align: top;\n",
       "    }\n",
       "\n",
       "    .dataframe thead th {\n",
       "        text-align: right;\n",
       "    }\n",
       "</style>\n",
       "<table border=\"1\" class=\"dataframe\">\n",
       "  <thead>\n",
       "    <tr style=\"text-align: right;\">\n",
       "      <th></th>\n",
       "      <th>hourly_rate</th>\n",
       "      <th>num_completed_tasks</th>\n",
       "      <th>hired</th>\n",
       "    </tr>\n",
       "    <tr>\n",
       "      <th>position</th>\n",
       "      <th></th>\n",
       "      <th></th>\n",
       "      <th></th>\n",
       "    </tr>\n",
       "  </thead>\n",
       "  <tbody>\n",
       "    <tr>\n",
       "      <th>1</th>\n",
       "      <td>3.180867</td>\n",
       "      <td>15.595433</td>\n",
       "      <td>0.020833</td>\n",
       "    </tr>\n",
       "    <tr>\n",
       "      <th>2</th>\n",
       "      <td>3.458467</td>\n",
       "      <td>15.073933</td>\n",
       "      <td>0.008267</td>\n",
       "    </tr>\n",
       "    <tr>\n",
       "      <th>3</th>\n",
       "      <td>3.333033</td>\n",
       "      <td>4.845800</td>\n",
       "      <td>0.002133</td>\n",
       "    </tr>\n",
       "    <tr>\n",
       "      <th>4</th>\n",
       "      <td>3.706033</td>\n",
       "      <td>15.282733</td>\n",
       "      <td>0.005900</td>\n",
       "    </tr>\n",
       "    <tr>\n",
       "      <th>5</th>\n",
       "      <td>3.739833</td>\n",
       "      <td>16.498733</td>\n",
       "      <td>0.004067</td>\n",
       "    </tr>\n",
       "    <tr>\n",
       "      <th>6</th>\n",
       "      <td>3.908933</td>\n",
       "      <td>16.845467</td>\n",
       "      <td>0.002433</td>\n",
       "    </tr>\n",
       "    <tr>\n",
       "      <th>7</th>\n",
       "      <td>3.912667</td>\n",
       "      <td>16.594900</td>\n",
       "      <td>0.002667</td>\n",
       "    </tr>\n",
       "    <tr>\n",
       "      <th>8</th>\n",
       "      <td>3.996900</td>\n",
       "      <td>17.233233</td>\n",
       "      <td>0.001633</td>\n",
       "    </tr>\n",
       "    <tr>\n",
       "      <th>9</th>\n",
       "      <td>4.050933</td>\n",
       "      <td>16.321367</td>\n",
       "      <td>0.001833</td>\n",
       "    </tr>\n",
       "    <tr>\n",
       "      <th>10</th>\n",
       "      <td>4.101067</td>\n",
       "      <td>16.002300</td>\n",
       "      <td>0.001933</td>\n",
       "    </tr>\n",
       "    <tr>\n",
       "      <th>11</th>\n",
       "      <td>4.091000</td>\n",
       "      <td>16.472767</td>\n",
       "      <td>0.001367</td>\n",
       "    </tr>\n",
       "    <tr>\n",
       "      <th>12</th>\n",
       "      <td>4.106167</td>\n",
       "      <td>15.886267</td>\n",
       "      <td>0.001533</td>\n",
       "    </tr>\n",
       "    <tr>\n",
       "      <th>13</th>\n",
       "      <td>4.055167</td>\n",
       "      <td>15.254933</td>\n",
       "      <td>0.000967</td>\n",
       "    </tr>\n",
       "    <tr>\n",
       "      <th>14</th>\n",
       "      <td>4.017833</td>\n",
       "      <td>14.690967</td>\n",
       "      <td>0.001000</td>\n",
       "    </tr>\n",
       "    <tr>\n",
       "      <th>15</th>\n",
       "      <td>3.823633</td>\n",
       "      <td>8.636867</td>\n",
       "      <td>0.000267</td>\n",
       "    </tr>\n",
       "  </tbody>\n",
       "</table>\n",
       "</div>"
      ],
      "text/plain": [
       "          hourly_rate  num_completed_tasks     hired\n",
       "position                                            \n",
       "1            3.180867            15.595433  0.020833\n",
       "2            3.458467            15.073933  0.008267\n",
       "3            3.333033             4.845800  0.002133\n",
       "4            3.706033            15.282733  0.005900\n",
       "5            3.739833            16.498733  0.004067\n",
       "6            3.908933            16.845467  0.002433\n",
       "7            3.912667            16.594900  0.002667\n",
       "8            3.996900            17.233233  0.001633\n",
       "9            4.050933            16.321367  0.001833\n",
       "10           4.101067            16.002300  0.001933\n",
       "11           4.091000            16.472767  0.001367\n",
       "12           4.106167            15.886267  0.001533\n",
       "13           4.055167            15.254933  0.000967\n",
       "14           4.017833            14.690967  0.001000\n",
       "15           3.823633             8.636867  0.000267"
      ]
     },
     "execution_count": 9,
     "metadata": {},
     "output_type": "execute_result"
    }
   ],
   "source": [
    "# booking rate := # hires / # tasker displayed\n",
    "# hourly rate per tasker := total hourly rate / # tasker displayed\n",
    "# number of completed tasks per tasker := total number of completed tasks / # tasker displayed\n",
    "df_pos = df[[\"position\", \"hourly_rate\", \"num_completed_tasks\", \"hired\"]]\n",
    "# df_pos = df_pos[df_pos[\"hired\"] == 1] \n",
    "df_pos_per_tasker = df_pos.groupby(\"position\").sum()/df_pos.hired.count()\n",
    "df_pos_per_tasker"
   ]
  },
  {
   "cell_type": "code",
   "execution_count": 10,
   "id": "a7222474",
   "metadata": {
    "scrolled": true
   },
   "outputs": [],
   "source": [
    "df_pos_day_hour = df[[\"position\", \"day\", \"hour\", \"hired\"]]\n",
    "df_pos_day_hour = df_pos_day_hour[df_pos_day_hour[\"hired\"] == 1]\n",
    "df_pos_day_hour_median = df_pos_day_hour.groupby(\"position\").median()"
   ]
  },
  {
   "cell_type": "code",
   "execution_count": 11,
   "id": "7169c824",
   "metadata": {
    "scrolled": true
   },
   "outputs": [
    {
     "data": {
      "text/html": [
       "<div>\n",
       "<style scoped>\n",
       "    .dataframe tbody tr th:only-of-type {\n",
       "        vertical-align: middle;\n",
       "    }\n",
       "\n",
       "    .dataframe tbody tr th {\n",
       "        vertical-align: top;\n",
       "    }\n",
       "\n",
       "    .dataframe thead th {\n",
       "        text-align: right;\n",
       "    }\n",
       "</style>\n",
       "<table border=\"1\" class=\"dataframe\">\n",
       "  <thead>\n",
       "    <tr style=\"text-align: right;\">\n",
       "      <th></th>\n",
       "      <th>position</th>\n",
       "      <th>day</th>\n",
       "      <th>hour</th>\n",
       "      <th>hired</th>\n",
       "    </tr>\n",
       "  </thead>\n",
       "  <tbody>\n",
       "    <tr>\n",
       "      <th>12</th>\n",
       "      <td>13</td>\n",
       "      <td>1</td>\n",
       "      <td>0</td>\n",
       "      <td>1</td>\n",
       "    </tr>\n",
       "    <tr>\n",
       "      <th>24</th>\n",
       "      <td>10</td>\n",
       "      <td>1</td>\n",
       "      <td>0</td>\n",
       "      <td>1</td>\n",
       "    </tr>\n",
       "    <tr>\n",
       "      <th>32</th>\n",
       "      <td>3</td>\n",
       "      <td>1</td>\n",
       "      <td>0</td>\n",
       "      <td>1</td>\n",
       "    </tr>\n",
       "    <tr>\n",
       "      <th>48</th>\n",
       "      <td>4</td>\n",
       "      <td>1</td>\n",
       "      <td>0</td>\n",
       "      <td>1</td>\n",
       "    </tr>\n",
       "    <tr>\n",
       "      <th>81</th>\n",
       "      <td>11</td>\n",
       "      <td>1</td>\n",
       "      <td>1</td>\n",
       "      <td>1</td>\n",
       "    </tr>\n",
       "    <tr>\n",
       "      <th>...</th>\n",
       "      <td>...</td>\n",
       "      <td>...</td>\n",
       "      <td>...</td>\n",
       "      <td>...</td>\n",
       "    </tr>\n",
       "    <tr>\n",
       "      <th>29932</th>\n",
       "      <td>1</td>\n",
       "      <td>30</td>\n",
       "      <td>22</td>\n",
       "      <td>1</td>\n",
       "    </tr>\n",
       "    <tr>\n",
       "      <th>29951</th>\n",
       "      <td>5</td>\n",
       "      <td>30</td>\n",
       "      <td>22</td>\n",
       "      <td>1</td>\n",
       "    </tr>\n",
       "    <tr>\n",
       "      <th>29962</th>\n",
       "      <td>1</td>\n",
       "      <td>30</td>\n",
       "      <td>22</td>\n",
       "      <td>1</td>\n",
       "    </tr>\n",
       "    <tr>\n",
       "      <th>29986</th>\n",
       "      <td>10</td>\n",
       "      <td>30</td>\n",
       "      <td>23</td>\n",
       "      <td>1</td>\n",
       "    </tr>\n",
       "    <tr>\n",
       "      <th>29998</th>\n",
       "      <td>7</td>\n",
       "      <td>30</td>\n",
       "      <td>23</td>\n",
       "      <td>1</td>\n",
       "    </tr>\n",
       "  </tbody>\n",
       "</table>\n",
       "<p>1705 rows × 4 columns</p>\n",
       "</div>"
      ],
      "text/plain": [
       "       position  day  hour  hired\n",
       "12           13    1     0      1\n",
       "24           10    1     0      1\n",
       "32            3    1     0      1\n",
       "48            4    1     0      1\n",
       "81           11    1     1      1\n",
       "...         ...  ...   ...    ...\n",
       "29932         1   30    22      1\n",
       "29951         5   30    22      1\n",
       "29962         1   30    22      1\n",
       "29986        10   30    23      1\n",
       "29998         7   30    23      1\n",
       "\n",
       "[1705 rows x 4 columns]"
      ]
     },
     "execution_count": 11,
     "metadata": {},
     "output_type": "execute_result"
    }
   ],
   "source": [
    "df_pos_day_hour"
   ]
  },
  {
   "cell_type": "code",
   "execution_count": 12,
   "id": "84d074d9",
   "metadata": {},
   "outputs": [
    {
     "data": {
      "image/png": "[encoded data removed]",
      "text/plain": [
       "<Figure size 864x360 with 2 Axes>"
      ]
     },
     "metadata": {
      "needs_background": "light"
     },
     "output_type": "display_data"
    }
   ],
   "source": [
    "fig, axes = plt.subplots(1, 2, figsize = (12, 5))\n",
    "df_pos_day_hour_median[[\"day\", \"hour\"]].plot(ax = axes[0])\n",
    "df_pos_day_hour_median[[\"day\", \"hour\"]].plot(kind = \"bar\", ax = axes[1])\n",
    "axes[0].set_title(\"Median day and median hour by position\")\n",
    "axes[0].set_ylim(0, 24)\n",
    "axes[1].set_title(\"Median day and median hour by position\")\n",
    "plt.show()"
   ]
  },
  {
   "cell_type": "code",
   "execution_count": 13,
   "id": "1022c517",
   "metadata": {
    "scrolled": true
   },
   "outputs": [
    {
     "data": {
      "image/png": "[encoded data removed]",
      "text/plain": [
       "<Figure size 1296x360 with 3 Axes>"
      ]
     },
     "metadata": {
      "needs_background": "light"
     },
     "output_type": "display_data"
    }
   ],
   "source": [
    "fig, ax = plt.subplots(1, 3, figsize = (18, 5))\n",
    "# booking rate\n",
    "ax[0].plot(df_pos_per_tasker[\"hired\"])\n",
    "ax[0].set_title(\"booking rate vs. position (per tasker)\")\n",
    "# hourly rate per tasker\n",
    "ax[1].plot(df_pos_per_tasker[\"hourly_rate\"])\n",
    "ax[1].set_title(\"hourly rate vs. position (per tasker)\")\n",
    "# num of tasks per tasker\n",
    "ax[2].plot(df_pos_per_tasker[\"num_completed_tasks\"])\n",
    "ax[2].set_title(\"num completed tasks vs. position (per tasker)\")\n",
    "plt.show()"
   ]
  },
  {
   "cell_type": "markdown",
   "id": "f16f8470",
   "metadata": {},
   "source": [
    "## Heatmap of booking rate vs. position and num_completed_tasks"
   ]
  },
  {
   "cell_type": "code",
   "execution_count": 14,
   "id": "229fbb39",
   "metadata": {
    "scrolled": false
   },
   "outputs": [
    {
     "data": {
      "text/html": [
       "<div>\n",
       "<style scoped>\n",
       "    .dataframe tbody tr th:only-of-type {\n",
       "        vertical-align: middle;\n",
       "    }\n",
       "\n",
       "    .dataframe tbody tr th {\n",
       "        vertical-align: top;\n",
       "    }\n",
       "\n",
       "    .dataframe thead th {\n",
       "        text-align: right;\n",
       "    }\n",
       "</style>\n",
       "<table border=\"1\" class=\"dataframe\">\n",
       "  <thead>\n",
       "    <tr style=\"text-align: right;\">\n",
       "      <th>num_completed_tasks</th>\n",
       "      <th>(0, 100]</th>\n",
       "      <th>(100, 200]</th>\n",
       "      <th>(200, 300]</th>\n",
       "      <th>(300, 400]</th>\n",
       "      <th>(400, 500]</th>\n",
       "      <th>(500, 600]</th>\n",
       "      <th>(600, 700]</th>\n",
       "      <th>(700, 800]</th>\n",
       "      <th>(800, 900]</th>\n",
       "      <th>(900, 1000]</th>\n",
       "      <th>(1000, 1100]</th>\n",
       "      <th>(1100, 1200]</th>\n",
       "      <th>(1200, 1300]</th>\n",
       "      <th>(1300, 1400]</th>\n",
       "    </tr>\n",
       "    <tr>\n",
       "      <th>position</th>\n",
       "      <th></th>\n",
       "      <th></th>\n",
       "      <th></th>\n",
       "      <th></th>\n",
       "      <th></th>\n",
       "      <th></th>\n",
       "      <th></th>\n",
       "      <th></th>\n",
       "      <th></th>\n",
       "      <th></th>\n",
       "      <th></th>\n",
       "      <th></th>\n",
       "      <th></th>\n",
       "      <th></th>\n",
       "    </tr>\n",
       "  </thead>\n",
       "  <tbody>\n",
       "    <tr>\n",
       "      <th>1</th>\n",
       "      <td>0.366771</td>\n",
       "      <td>0.232026</td>\n",
       "      <td>0.294118</td>\n",
       "      <td>0.355372</td>\n",
       "      <td>0.326531</td>\n",
       "      <td>0.323529</td>\n",
       "      <td>0.428571</td>\n",
       "      <td>0.186047</td>\n",
       "      <td>0.333333</td>\n",
       "      <td>0.274194</td>\n",
       "      <td>0.125000</td>\n",
       "      <td>0.583333</td>\n",
       "      <td>NaN</td>\n",
       "      <td>NaN</td>\n",
       "    </tr>\n",
       "    <tr>\n",
       "      <th>2</th>\n",
       "      <td>0.121891</td>\n",
       "      <td>0.110320</td>\n",
       "      <td>0.115044</td>\n",
       "      <td>0.120968</td>\n",
       "      <td>0.112360</td>\n",
       "      <td>0.152778</td>\n",
       "      <td>0.242424</td>\n",
       "      <td>0.063830</td>\n",
       "      <td>0.200000</td>\n",
       "      <td>0.105263</td>\n",
       "      <td>0.125000</td>\n",
       "      <td>0.000000</td>\n",
       "      <td>0.000000</td>\n",
       "      <td>NaN</td>\n",
       "    </tr>\n",
       "    <tr>\n",
       "      <th>3</th>\n",
       "      <td>0.055652</td>\n",
       "      <td>0.021739</td>\n",
       "      <td>0.065789</td>\n",
       "      <td>0.130435</td>\n",
       "      <td>0.047619</td>\n",
       "      <td>0.090909</td>\n",
       "      <td>0.222222</td>\n",
       "      <td>0.266667</td>\n",
       "      <td>0.043478</td>\n",
       "      <td>0.714286</td>\n",
       "      <td>0.105263</td>\n",
       "      <td>0.000000</td>\n",
       "      <td>0.000000</td>\n",
       "      <td>NaN</td>\n",
       "    </tr>\n",
       "    <tr>\n",
       "      <th>4</th>\n",
       "      <td>0.079422</td>\n",
       "      <td>0.046908</td>\n",
       "      <td>0.071146</td>\n",
       "      <td>0.140845</td>\n",
       "      <td>0.069767</td>\n",
       "      <td>0.142857</td>\n",
       "      <td>0.217391</td>\n",
       "      <td>0.343750</td>\n",
       "      <td>0.121951</td>\n",
       "      <td>0.235294</td>\n",
       "      <td>0.095238</td>\n",
       "      <td>0.222222</td>\n",
       "      <td>0.000000</td>\n",
       "      <td>0.000000</td>\n",
       "    </tr>\n",
       "    <tr>\n",
       "      <th>5</th>\n",
       "      <td>0.055886</td>\n",
       "      <td>0.034483</td>\n",
       "      <td>0.057348</td>\n",
       "      <td>0.047619</td>\n",
       "      <td>0.065789</td>\n",
       "      <td>0.038462</td>\n",
       "      <td>0.152174</td>\n",
       "      <td>0.020833</td>\n",
       "      <td>0.258621</td>\n",
       "      <td>0.214286</td>\n",
       "      <td>0.049180</td>\n",
       "      <td>0.181818</td>\n",
       "      <td>0.000000</td>\n",
       "      <td>0.000000</td>\n",
       "    </tr>\n",
       "    <tr>\n",
       "      <th>6</th>\n",
       "      <td>0.034351</td>\n",
       "      <td>0.020115</td>\n",
       "      <td>0.012862</td>\n",
       "      <td>0.029197</td>\n",
       "      <td>0.048544</td>\n",
       "      <td>0.069307</td>\n",
       "      <td>0.022222</td>\n",
       "      <td>0.102564</td>\n",
       "      <td>0.085106</td>\n",
       "      <td>0.230769</td>\n",
       "      <td>0.078431</td>\n",
       "      <td>0.181818</td>\n",
       "      <td>0.071429</td>\n",
       "      <td>0.000000</td>\n",
       "    </tr>\n",
       "    <tr>\n",
       "      <th>7</th>\n",
       "      <td>0.043849</td>\n",
       "      <td>0.028986</td>\n",
       "      <td>0.034091</td>\n",
       "      <td>0.029940</td>\n",
       "      <td>0.042254</td>\n",
       "      <td>0.043478</td>\n",
       "      <td>0.017241</td>\n",
       "      <td>0.020000</td>\n",
       "      <td>0.085714</td>\n",
       "      <td>0.157895</td>\n",
       "      <td>0.068966</td>\n",
       "      <td>0.181818</td>\n",
       "      <td>0.000000</td>\n",
       "      <td>0.000000</td>\n",
       "    </tr>\n",
       "    <tr>\n",
       "      <th>8</th>\n",
       "      <td>0.021640</td>\n",
       "      <td>0.021978</td>\n",
       "      <td>0.009302</td>\n",
       "      <td>0.019108</td>\n",
       "      <td>0.053763</td>\n",
       "      <td>0.010870</td>\n",
       "      <td>0.021739</td>\n",
       "      <td>0.021739</td>\n",
       "      <td>0.075472</td>\n",
       "      <td>0.064516</td>\n",
       "      <td>0.017544</td>\n",
       "      <td>0.285714</td>\n",
       "      <td>0.071429</td>\n",
       "      <td>NaN</td>\n",
       "    </tr>\n",
       "    <tr>\n",
       "      <th>9</th>\n",
       "      <td>0.025913</td>\n",
       "      <td>0.027211</td>\n",
       "      <td>0.012821</td>\n",
       "      <td>0.048485</td>\n",
       "      <td>0.065421</td>\n",
       "      <td>0.030303</td>\n",
       "      <td>0.000000</td>\n",
       "      <td>0.028169</td>\n",
       "      <td>0.048780</td>\n",
       "      <td>0.000000</td>\n",
       "      <td>0.000000</td>\n",
       "      <td>0.076923</td>\n",
       "      <td>0.000000</td>\n",
       "      <td>0.000000</td>\n",
       "    </tr>\n",
       "    <tr>\n",
       "      <th>10</th>\n",
       "      <td>0.020856</td>\n",
       "      <td>0.045752</td>\n",
       "      <td>0.034014</td>\n",
       "      <td>0.047337</td>\n",
       "      <td>0.031579</td>\n",
       "      <td>0.038462</td>\n",
       "      <td>0.000000</td>\n",
       "      <td>0.022222</td>\n",
       "      <td>0.093023</td>\n",
       "      <td>0.032258</td>\n",
       "      <td>0.000000</td>\n",
       "      <td>0.000000</td>\n",
       "      <td>0.000000</td>\n",
       "      <td>0.000000</td>\n",
       "    </tr>\n",
       "    <tr>\n",
       "      <th>11</th>\n",
       "      <td>0.012387</td>\n",
       "      <td>0.007299</td>\n",
       "      <td>0.010695</td>\n",
       "      <td>0.059211</td>\n",
       "      <td>0.021978</td>\n",
       "      <td>0.016949</td>\n",
       "      <td>0.020408</td>\n",
       "      <td>0.043478</td>\n",
       "      <td>0.023810</td>\n",
       "      <td>0.027027</td>\n",
       "      <td>0.150000</td>\n",
       "      <td>0.000000</td>\n",
       "      <td>0.035714</td>\n",
       "      <td>0.000000</td>\n",
       "    </tr>\n",
       "    <tr>\n",
       "      <th>12</th>\n",
       "      <td>0.018889</td>\n",
       "      <td>0.024561</td>\n",
       "      <td>0.005650</td>\n",
       "      <td>0.044025</td>\n",
       "      <td>0.073684</td>\n",
       "      <td>0.027778</td>\n",
       "      <td>0.025000</td>\n",
       "      <td>0.000000</td>\n",
       "      <td>0.037736</td>\n",
       "      <td>0.081081</td>\n",
       "      <td>0.000000</td>\n",
       "      <td>0.000000</td>\n",
       "      <td>0.000000</td>\n",
       "      <td>0.000000</td>\n",
       "    </tr>\n",
       "    <tr>\n",
       "      <th>13</th>\n",
       "      <td>0.006529</td>\n",
       "      <td>0.029304</td>\n",
       "      <td>0.024096</td>\n",
       "      <td>0.022222</td>\n",
       "      <td>0.008333</td>\n",
       "      <td>0.000000</td>\n",
       "      <td>0.052632</td>\n",
       "      <td>0.013889</td>\n",
       "      <td>0.000000</td>\n",
       "      <td>0.047619</td>\n",
       "      <td>0.033333</td>\n",
       "      <td>0.000000</td>\n",
       "      <td>0.000000</td>\n",
       "      <td>0.333333</td>\n",
       "    </tr>\n",
       "    <tr>\n",
       "      <th>14</th>\n",
       "      <td>0.010846</td>\n",
       "      <td>0.007547</td>\n",
       "      <td>0.018072</td>\n",
       "      <td>0.057851</td>\n",
       "      <td>0.008333</td>\n",
       "      <td>0.017544</td>\n",
       "      <td>0.030303</td>\n",
       "      <td>0.031746</td>\n",
       "      <td>0.083333</td>\n",
       "      <td>0.000000</td>\n",
       "      <td>0.000000</td>\n",
       "      <td>0.000000</td>\n",
       "      <td>0.032258</td>\n",
       "      <td>0.000000</td>\n",
       "    </tr>\n",
       "    <tr>\n",
       "      <th>15</th>\n",
       "      <td>0.003407</td>\n",
       "      <td>0.006897</td>\n",
       "      <td>0.000000</td>\n",
       "      <td>0.000000</td>\n",
       "      <td>0.000000</td>\n",
       "      <td>0.000000</td>\n",
       "      <td>0.000000</td>\n",
       "      <td>0.000000</td>\n",
       "      <td>0.000000</td>\n",
       "      <td>0.031250</td>\n",
       "      <td>0.040000</td>\n",
       "      <td>0.000000</td>\n",
       "      <td>0.071429</td>\n",
       "      <td>0.250000</td>\n",
       "    </tr>\n",
       "  </tbody>\n",
       "</table>\n",
       "</div>"
      ],
      "text/plain": [
       "num_completed_tasks  (0, 100]  (100, 200]  (200, 300]  (300, 400]  (400, 500]  \\\n",
       "position                                                                        \n",
       "1                    0.366771    0.232026    0.294118    0.355372    0.326531   \n",
       "2                    0.121891    0.110320    0.115044    0.120968    0.112360   \n",
       "3                    0.055652    0.021739    0.065789    0.130435    0.047619   \n",
       "4                    0.079422    0.046908    0.071146    0.140845    0.069767   \n",
       "5                    0.055886    0.034483    0.057348    0.047619    0.065789   \n",
       "6                    0.034351    0.020115    0.012862    0.029197    0.048544   \n",
       "7                    0.043849    0.028986    0.034091    0.029940    0.042254   \n",
       "8                    0.021640    0.021978    0.009302    0.019108    0.053763   \n",
       "9                    0.025913    0.027211    0.012821    0.048485    0.065421   \n",
       "10                   0.020856    0.045752    0.034014    0.047337    0.031579   \n",
       "11                   0.012387    0.007299    0.010695    0.059211    0.021978   \n",
       "12                   0.018889    0.024561    0.005650    0.044025    0.073684   \n",
       "13                   0.006529    0.029304    0.024096    0.022222    0.008333   \n",
       "14                   0.010846    0.007547    0.018072    0.057851    0.008333   \n",
       "15                   0.003407    0.006897    0.000000    0.000000    0.000000   \n",
       "\n",
       "num_completed_tasks  (500, 600]  (600, 700]  (700, 800]  (800, 900]  \\\n",
       "position                                                              \n",
       "1                      0.323529    0.428571    0.186047    0.333333   \n",
       "2                      0.152778    0.242424    0.063830    0.200000   \n",
       "3                      0.090909    0.222222    0.266667    0.043478   \n",
       "4                      0.142857    0.217391    0.343750    0.121951   \n",
       "5                      0.038462    0.152174    0.020833    0.258621   \n",
       "6                      0.069307    0.022222    0.102564    0.085106   \n",
       "7                      0.043478    0.017241    0.020000    0.085714   \n",
       "8                      0.010870    0.021739    0.021739    0.075472   \n",
       "9                      0.030303    0.000000    0.028169    0.048780   \n",
       "10                     0.038462    0.000000    0.022222    0.093023   \n",
       "11                     0.016949    0.020408    0.043478    0.023810   \n",
       "12                     0.027778    0.025000    0.000000    0.037736   \n",
       "13                     0.000000    0.052632    0.013889    0.000000   \n",
       "14                     0.017544    0.030303    0.031746    0.083333   \n",
       "15                     0.000000    0.000000    0.000000    0.000000   \n",
       "\n",
       "num_completed_tasks  (900, 1000]  (1000, 1100]  (1100, 1200]  (1200, 1300]  \\\n",
       "position                                                                     \n",
       "1                       0.274194      0.125000      0.583333           NaN   \n",
       "2                       0.105263      0.125000      0.000000      0.000000   \n",
       "3                       0.714286      0.105263      0.000000      0.000000   \n",
       "4                       0.235294      0.095238      0.222222      0.000000   \n",
       "5                       0.214286      0.049180      0.181818      0.000000   \n",
       "6                       0.230769      0.078431      0.181818      0.071429   \n",
       "7                       0.157895      0.068966      0.181818      0.000000   \n",
       "8                       0.064516      0.017544      0.285714      0.071429   \n",
       "9                       0.000000      0.000000      0.076923      0.000000   \n",
       "10                      0.032258      0.000000      0.000000      0.000000   \n",
       "11                      0.027027      0.150000      0.000000      0.035714   \n",
       "12                      0.081081      0.000000      0.000000      0.000000   \n",
       "13                      0.047619      0.033333      0.000000      0.000000   \n",
       "14                      0.000000      0.000000      0.000000      0.032258   \n",
       "15                      0.031250      0.040000      0.000000      0.071429   \n",
       "\n",
       "num_completed_tasks  (1300, 1400]  \n",
       "position                           \n",
       "1                             NaN  \n",
       "2                             NaN  \n",
       "3                             NaN  \n",
       "4                        0.000000  \n",
       "5                        0.000000  \n",
       "6                        0.000000  \n",
       "7                        0.000000  \n",
       "8                             NaN  \n",
       "9                        0.000000  \n",
       "10                       0.000000  \n",
       "11                       0.000000  \n",
       "12                       0.000000  \n",
       "13                       0.333333  \n",
       "14                       0.000000  \n",
       "15                       0.250000  "
      ]
     },
     "execution_count": 14,
     "metadata": {},
     "output_type": "execute_result"
    }
   ],
   "source": [
    "bins1 = list(range(0, 1500, 100))\n",
    "groups1 = df.groupby(['position', pd.cut(df.num_completed_tasks, bins1)])\n",
    "booking_rate_mx1 = groups1.hired.sum()/groups1.hired.count()\n",
    "booking_rate_mx1 = booking_rate_mx1.unstack()\n",
    "booking_rate_mx1 "
   ]
  },
  {
   "cell_type": "code",
   "execution_count": 15,
   "id": "455715ef",
   "metadata": {
    "scrolled": true
   },
   "outputs": [
    {
     "data": {
      "text/html": [
       "<div>\n",
       "<style scoped>\n",
       "    .dataframe tbody tr th:only-of-type {\n",
       "        vertical-align: middle;\n",
       "    }\n",
       "\n",
       "    .dataframe tbody tr th {\n",
       "        vertical-align: top;\n",
       "    }\n",
       "\n",
       "    .dataframe thead th {\n",
       "        text-align: right;\n",
       "    }\n",
       "</style>\n",
       "<table border=\"1\" class=\"dataframe\">\n",
       "  <thead>\n",
       "    <tr style=\"text-align: right;\">\n",
       "      <th>hourly_rate</th>\n",
       "      <th>(0, 20]</th>\n",
       "      <th>(20, 40]</th>\n",
       "      <th>(40, 60]</th>\n",
       "      <th>(60, 80]</th>\n",
       "      <th>(80, 100]</th>\n",
       "      <th>(100, 120]</th>\n",
       "      <th>(120, 140]</th>\n",
       "      <th>(140, 160]</th>\n",
       "      <th>(160, 180]</th>\n",
       "    </tr>\n",
       "    <tr>\n",
       "      <th>position</th>\n",
       "      <th></th>\n",
       "      <th></th>\n",
       "      <th></th>\n",
       "      <th></th>\n",
       "      <th></th>\n",
       "      <th></th>\n",
       "      <th></th>\n",
       "      <th></th>\n",
       "      <th></th>\n",
       "    </tr>\n",
       "  </thead>\n",
       "  <tbody>\n",
       "    <tr>\n",
       "      <th>1</th>\n",
       "      <td>0.00</td>\n",
       "      <td>0.291480</td>\n",
       "      <td>0.298839</td>\n",
       "      <td>0.342657</td>\n",
       "      <td>0.352941</td>\n",
       "      <td>NaN</td>\n",
       "      <td>NaN</td>\n",
       "      <td>0.000000</td>\n",
       "      <td>0.200000</td>\n",
       "    </tr>\n",
       "    <tr>\n",
       "      <th>2</th>\n",
       "      <td>NaN</td>\n",
       "      <td>0.123810</td>\n",
       "      <td>0.112745</td>\n",
       "      <td>0.148472</td>\n",
       "      <td>0.080645</td>\n",
       "      <td>0.500000</td>\n",
       "      <td>0.100000</td>\n",
       "      <td>0.000000</td>\n",
       "      <td>0.000000</td>\n",
       "    </tr>\n",
       "    <tr>\n",
       "      <th>3</th>\n",
       "      <td>0.00</td>\n",
       "      <td>0.016229</td>\n",
       "      <td>0.021084</td>\n",
       "      <td>0.116751</td>\n",
       "      <td>0.078014</td>\n",
       "      <td>0.125000</td>\n",
       "      <td>0.000000</td>\n",
       "      <td>0.000000</td>\n",
       "      <td>0.000000</td>\n",
       "    </tr>\n",
       "    <tr>\n",
       "      <th>4</th>\n",
       "      <td>0.25</td>\n",
       "      <td>0.087613</td>\n",
       "      <td>0.090462</td>\n",
       "      <td>0.051613</td>\n",
       "      <td>0.115385</td>\n",
       "      <td>0.142857</td>\n",
       "      <td>0.222222</td>\n",
       "      <td>0.000000</td>\n",
       "      <td>0.000000</td>\n",
       "    </tr>\n",
       "    <tr>\n",
       "      <th>5</th>\n",
       "      <td>0.60</td>\n",
       "      <td>0.052227</td>\n",
       "      <td>0.055444</td>\n",
       "      <td>0.094488</td>\n",
       "      <td>0.067901</td>\n",
       "      <td>0.214286</td>\n",
       "      <td>0.120000</td>\n",
       "      <td>0.000000</td>\n",
       "      <td>0.041667</td>\n",
       "    </tr>\n",
       "    <tr>\n",
       "      <th>6</th>\n",
       "      <td>0.00</td>\n",
       "      <td>0.042623</td>\n",
       "      <td>0.029762</td>\n",
       "      <td>0.046729</td>\n",
       "      <td>0.055901</td>\n",
       "      <td>0.000000</td>\n",
       "      <td>0.055556</td>\n",
       "      <td>0.083333</td>\n",
       "      <td>0.000000</td>\n",
       "    </tr>\n",
       "    <tr>\n",
       "      <th>7</th>\n",
       "      <td>1.00</td>\n",
       "      <td>0.039246</td>\n",
       "      <td>0.033508</td>\n",
       "      <td>0.056075</td>\n",
       "      <td>0.051948</td>\n",
       "      <td>0.238095</td>\n",
       "      <td>0.000000</td>\n",
       "      <td>0.066667</td>\n",
       "      <td>0.022222</td>\n",
       "    </tr>\n",
       "    <tr>\n",
       "      <th>8</th>\n",
       "      <td>NaN</td>\n",
       "      <td>0.026562</td>\n",
       "      <td>0.020474</td>\n",
       "      <td>0.009709</td>\n",
       "      <td>0.013793</td>\n",
       "      <td>0.272727</td>\n",
       "      <td>0.000000</td>\n",
       "      <td>0.054054</td>\n",
       "      <td>0.054054</td>\n",
       "    </tr>\n",
       "    <tr>\n",
       "      <th>9</th>\n",
       "      <td>0.00</td>\n",
       "      <td>0.027375</td>\n",
       "      <td>0.033917</td>\n",
       "      <td>0.015748</td>\n",
       "      <td>0.009434</td>\n",
       "      <td>0.166667</td>\n",
       "      <td>0.000000</td>\n",
       "      <td>0.020833</td>\n",
       "      <td>0.000000</td>\n",
       "    </tr>\n",
       "    <tr>\n",
       "      <th>10</th>\n",
       "      <td>0.00</td>\n",
       "      <td>0.033546</td>\n",
       "      <td>0.031710</td>\n",
       "      <td>0.028777</td>\n",
       "      <td>0.069444</td>\n",
       "      <td>0.000000</td>\n",
       "      <td>0.000000</td>\n",
       "      <td>0.000000</td>\n",
       "      <td>0.000000</td>\n",
       "    </tr>\n",
       "    <tr>\n",
       "      <th>11</th>\n",
       "      <td>0.00</td>\n",
       "      <td>0.015601</td>\n",
       "      <td>0.024038</td>\n",
       "      <td>0.018868</td>\n",
       "      <td>0.074627</td>\n",
       "      <td>0.066667</td>\n",
       "      <td>0.000000</td>\n",
       "      <td>0.000000</td>\n",
       "      <td>0.018182</td>\n",
       "    </tr>\n",
       "    <tr>\n",
       "      <th>12</th>\n",
       "      <td>0.00</td>\n",
       "      <td>0.018838</td>\n",
       "      <td>0.024722</td>\n",
       "      <td>0.040698</td>\n",
       "      <td>0.016949</td>\n",
       "      <td>0.111111</td>\n",
       "      <td>0.020408</td>\n",
       "      <td>0.000000</td>\n",
       "      <td>0.000000</td>\n",
       "    </tr>\n",
       "    <tr>\n",
       "      <th>13</th>\n",
       "      <td>0.00</td>\n",
       "      <td>0.008982</td>\n",
       "      <td>0.023841</td>\n",
       "      <td>0.010638</td>\n",
       "      <td>0.024390</td>\n",
       "      <td>0.017857</td>\n",
       "      <td>0.000000</td>\n",
       "      <td>0.016949</td>\n",
       "      <td>0.000000</td>\n",
       "    </tr>\n",
       "    <tr>\n",
       "      <th>14</th>\n",
       "      <td>0.00</td>\n",
       "      <td>0.012066</td>\n",
       "      <td>0.025886</td>\n",
       "      <td>0.004950</td>\n",
       "      <td>0.000000</td>\n",
       "      <td>0.020408</td>\n",
       "      <td>0.000000</td>\n",
       "      <td>0.000000</td>\n",
       "      <td>0.000000</td>\n",
       "    </tr>\n",
       "    <tr>\n",
       "      <th>15</th>\n",
       "      <td>0.00</td>\n",
       "      <td>0.003043</td>\n",
       "      <td>0.002793</td>\n",
       "      <td>0.005682</td>\n",
       "      <td>0.010989</td>\n",
       "      <td>0.017241</td>\n",
       "      <td>0.000000</td>\n",
       "      <td>0.014085</td>\n",
       "      <td>0.000000</td>\n",
       "    </tr>\n",
       "  </tbody>\n",
       "</table>\n",
       "</div>"
      ],
      "text/plain": [
       "hourly_rate  (0, 20]  (20, 40]  (40, 60]  (60, 80]  (80, 100]  (100, 120]  \\\n",
       "position                                                                    \n",
       "1               0.00  0.291480  0.298839  0.342657   0.352941         NaN   \n",
       "2                NaN  0.123810  0.112745  0.148472   0.080645    0.500000   \n",
       "3               0.00  0.016229  0.021084  0.116751   0.078014    0.125000   \n",
       "4               0.25  0.087613  0.090462  0.051613   0.115385    0.142857   \n",
       "5               0.60  0.052227  0.055444  0.094488   0.067901    0.214286   \n",
       "6               0.00  0.042623  0.029762  0.046729   0.055901    0.000000   \n",
       "7               1.00  0.039246  0.033508  0.056075   0.051948    0.238095   \n",
       "8                NaN  0.026562  0.020474  0.009709   0.013793    0.272727   \n",
       "9               0.00  0.027375  0.033917  0.015748   0.009434    0.166667   \n",
       "10              0.00  0.033546  0.031710  0.028777   0.069444    0.000000   \n",
       "11              0.00  0.015601  0.024038  0.018868   0.074627    0.066667   \n",
       "12              0.00  0.018838  0.024722  0.040698   0.016949    0.111111   \n",
       "13              0.00  0.008982  0.023841  0.010638   0.024390    0.017857   \n",
       "14              0.00  0.012066  0.025886  0.004950   0.000000    0.020408   \n",
       "15              0.00  0.003043  0.002793  0.005682   0.010989    0.017241   \n",
       "\n",
       "hourly_rate  (120, 140]  (140, 160]  (160, 180]  \n",
       "position                                         \n",
       "1                   NaN    0.000000    0.200000  \n",
       "2              0.100000    0.000000    0.000000  \n",
       "3              0.000000    0.000000    0.000000  \n",
       "4              0.222222    0.000000    0.000000  \n",
       "5              0.120000    0.000000    0.041667  \n",
       "6              0.055556    0.083333    0.000000  \n",
       "7              0.000000    0.066667    0.022222  \n",
       "8              0.000000    0.054054    0.054054  \n",
       "9              0.000000    0.020833    0.000000  \n",
       "10             0.000000    0.000000    0.000000  \n",
       "11             0.000000    0.000000    0.018182  \n",
       "12             0.020408    0.000000    0.000000  \n",
       "13             0.000000    0.016949    0.000000  \n",
       "14             0.000000    0.000000    0.000000  \n",
       "15             0.000000    0.014085    0.000000  "
      ]
     },
     "execution_count": 15,
     "metadata": {},
     "output_type": "execute_result"
    }
   ],
   "source": [
    "bins2 = list(range(0, 200, 20))\n",
    "groups2 = df.groupby(['position', pd.cut(df.hourly_rate, bins2)])\n",
    "booking_rate_mx2 = groups2.hired.sum()/groups2.hired.count()\n",
    "booking_rate_mx2 = booking_rate_mx2.unstack()\n",
    "booking_rate_mx2 "
   ]
  },
  {
   "cell_type": "code",
   "execution_count": 84,
   "id": "4a8ad89e",
   "metadata": {},
   "outputs": [
    {
     "data": {
      "text/html": [
       "<div>\n",
       "<style scoped>\n",
       "    .dataframe tbody tr th:only-of-type {\n",
       "        vertical-align: middle;\n",
       "    }\n",
       "\n",
       "    .dataframe tbody tr th {\n",
       "        vertical-align: top;\n",
       "    }\n",
       "\n",
       "    .dataframe thead th {\n",
       "        text-align: right;\n",
       "    }\n",
       "</style>\n",
       "<table border=\"1\" class=\"dataframe\">\n",
       "  <thead>\n",
       "    <tr style=\"text-align: right;\">\n",
       "      <th>hourly_rate</th>\n",
       "      <th>(0, 20]</th>\n",
       "      <th>(20, 40]</th>\n",
       "      <th>(40, 60]</th>\n",
       "      <th>(60, 80]</th>\n",
       "      <th>(80, 100]</th>\n",
       "      <th>(100, 120]</th>\n",
       "      <th>(120, 140]</th>\n",
       "      <th>(140, 160]</th>\n",
       "      <th>(160, 180]</th>\n",
       "    </tr>\n",
       "    <tr>\n",
       "      <th>num_completed_tasks</th>\n",
       "      <th></th>\n",
       "      <th></th>\n",
       "      <th></th>\n",
       "      <th></th>\n",
       "      <th></th>\n",
       "      <th></th>\n",
       "      <th></th>\n",
       "      <th></th>\n",
       "      <th></th>\n",
       "    </tr>\n",
       "  </thead>\n",
       "  <tbody>\n",
       "    <tr>\n",
       "      <th>(0, 100]</th>\n",
       "      <td>0.092593</td>\n",
       "      <td>0.063002</td>\n",
       "      <td>0.037944</td>\n",
       "      <td>0.056955</td>\n",
       "      <td>0.030488</td>\n",
       "      <td>0.142857</td>\n",
       "      <td>0.000000</td>\n",
       "      <td>0.008264</td>\n",
       "      <td>0.000000</td>\n",
       "    </tr>\n",
       "    <tr>\n",
       "      <th>(100, 200]</th>\n",
       "      <td>NaN</td>\n",
       "      <td>0.068311</td>\n",
       "      <td>0.065848</td>\n",
       "      <td>0.063087</td>\n",
       "      <td>0.084507</td>\n",
       "      <td>0.000000</td>\n",
       "      <td>0.010101</td>\n",
       "      <td>0.016260</td>\n",
       "      <td>0.000000</td>\n",
       "    </tr>\n",
       "    <tr>\n",
       "      <th>(200, 300]</th>\n",
       "      <td>NaN</td>\n",
       "      <td>0.049123</td>\n",
       "      <td>0.083427</td>\n",
       "      <td>0.033613</td>\n",
       "      <td>0.050147</td>\n",
       "      <td>0.000000</td>\n",
       "      <td>NaN</td>\n",
       "      <td>0.000000</td>\n",
       "      <td>0.000000</td>\n",
       "    </tr>\n",
       "    <tr>\n",
       "      <th>(300, 400]</th>\n",
       "      <td>NaN</td>\n",
       "      <td>0.090909</td>\n",
       "      <td>0.086512</td>\n",
       "      <td>0.000000</td>\n",
       "      <td>0.060241</td>\n",
       "      <td>0.000000</td>\n",
       "      <td>0.034483</td>\n",
       "      <td>0.000000</td>\n",
       "      <td>0.000000</td>\n",
       "    </tr>\n",
       "    <tr>\n",
       "      <th>(400, 500]</th>\n",
       "      <td>NaN</td>\n",
       "      <td>0.066860</td>\n",
       "      <td>0.079046</td>\n",
       "      <td>0.145631</td>\n",
       "      <td>0.032258</td>\n",
       "      <td>0.037037</td>\n",
       "      <td>0.041667</td>\n",
       "      <td>0.000000</td>\n",
       "      <td>NaN</td>\n",
       "    </tr>\n",
       "    <tr>\n",
       "      <th>(500, 600]</th>\n",
       "      <td>NaN</td>\n",
       "      <td>0.076923</td>\n",
       "      <td>0.074839</td>\n",
       "      <td>0.027027</td>\n",
       "      <td>0.000000</td>\n",
       "      <td>NaN</td>\n",
       "      <td>NaN</td>\n",
       "      <td>NaN</td>\n",
       "      <td>NaN</td>\n",
       "    </tr>\n",
       "    <tr>\n",
       "      <th>(600, 700]</th>\n",
       "      <td>NaN</td>\n",
       "      <td>0.000000</td>\n",
       "      <td>0.060976</td>\n",
       "      <td>0.194030</td>\n",
       "      <td>0.061538</td>\n",
       "      <td>0.000000</td>\n",
       "      <td>0.062500</td>\n",
       "      <td>NaN</td>\n",
       "      <td>0.000000</td>\n",
       "    </tr>\n",
       "    <tr>\n",
       "      <th>(700, 800]</th>\n",
       "      <td>NaN</td>\n",
       "      <td>0.057143</td>\n",
       "      <td>0.060440</td>\n",
       "      <td>0.047619</td>\n",
       "      <td>0.000000</td>\n",
       "      <td>NaN</td>\n",
       "      <td>0.000000</td>\n",
       "      <td>NaN</td>\n",
       "      <td>NaN</td>\n",
       "    </tr>\n",
       "    <tr>\n",
       "      <th>(800, 900]</th>\n",
       "      <td>NaN</td>\n",
       "      <td>0.000000</td>\n",
       "      <td>0.084746</td>\n",
       "      <td>0.240000</td>\n",
       "      <td>0.119718</td>\n",
       "      <td>0.119048</td>\n",
       "      <td>0.039216</td>\n",
       "      <td>0.000000</td>\n",
       "      <td>NaN</td>\n",
       "    </tr>\n",
       "    <tr>\n",
       "      <th>(900, 1000]</th>\n",
       "      <td>NaN</td>\n",
       "      <td>0.186567</td>\n",
       "      <td>0.142857</td>\n",
       "      <td>0.687500</td>\n",
       "      <td>0.045455</td>\n",
       "      <td>0.080000</td>\n",
       "      <td>0.000000</td>\n",
       "      <td>0.000000</td>\n",
       "      <td>0.117647</td>\n",
       "    </tr>\n",
       "    <tr>\n",
       "      <th>(1000, 1100]</th>\n",
       "      <td>NaN</td>\n",
       "      <td>NaN</td>\n",
       "      <td>0.031250</td>\n",
       "      <td>0.000000</td>\n",
       "      <td>0.073077</td>\n",
       "      <td>0.285714</td>\n",
       "      <td>0.000000</td>\n",
       "      <td>0.000000</td>\n",
       "      <td>NaN</td>\n",
       "    </tr>\n",
       "    <tr>\n",
       "      <th>(1100, 1200]</th>\n",
       "      <td>NaN</td>\n",
       "      <td>NaN</td>\n",
       "      <td>0.375000</td>\n",
       "      <td>NaN</td>\n",
       "      <td>0.200000</td>\n",
       "      <td>NaN</td>\n",
       "      <td>NaN</td>\n",
       "      <td>0.083333</td>\n",
       "      <td>0.111111</td>\n",
       "    </tr>\n",
       "    <tr>\n",
       "      <th>(1200, 1300]</th>\n",
       "      <td>NaN</td>\n",
       "      <td>NaN</td>\n",
       "      <td>0.026906</td>\n",
       "      <td>NaN</td>\n",
       "      <td>NaN</td>\n",
       "      <td>NaN</td>\n",
       "      <td>NaN</td>\n",
       "      <td>0.000000</td>\n",
       "      <td>NaN</td>\n",
       "    </tr>\n",
       "    <tr>\n",
       "      <th>(1300, 1400]</th>\n",
       "      <td>NaN</td>\n",
       "      <td>NaN</td>\n",
       "      <td>0.027027</td>\n",
       "      <td>0.500000</td>\n",
       "      <td>NaN</td>\n",
       "      <td>NaN</td>\n",
       "      <td>NaN</td>\n",
       "      <td>NaN</td>\n",
       "      <td>NaN</td>\n",
       "    </tr>\n",
       "  </tbody>\n",
       "</table>\n",
       "</div>"
      ],
      "text/plain": [
       "hourly_rate           (0, 20]  (20, 40]  (40, 60]  (60, 80]  (80, 100]  \\\n",
       "num_completed_tasks                                                      \n",
       "(0, 100]             0.092593  0.063002  0.037944  0.056955   0.030488   \n",
       "(100, 200]                NaN  0.068311  0.065848  0.063087   0.084507   \n",
       "(200, 300]                NaN  0.049123  0.083427  0.033613   0.050147   \n",
       "(300, 400]                NaN  0.090909  0.086512  0.000000   0.060241   \n",
       "(400, 500]                NaN  0.066860  0.079046  0.145631   0.032258   \n",
       "(500, 600]                NaN  0.076923  0.074839  0.027027   0.000000   \n",
       "(600, 700]                NaN  0.000000  0.060976  0.194030   0.061538   \n",
       "(700, 800]                NaN  0.057143  0.060440  0.047619   0.000000   \n",
       "(800, 900]                NaN  0.000000  0.084746  0.240000   0.119718   \n",
       "(900, 1000]               NaN  0.186567  0.142857  0.687500   0.045455   \n",
       "(1000, 1100]              NaN       NaN  0.031250  0.000000   0.073077   \n",
       "(1100, 1200]              NaN       NaN  0.375000       NaN   0.200000   \n",
       "(1200, 1300]              NaN       NaN  0.026906       NaN        NaN   \n",
       "(1300, 1400]              NaN       NaN  0.027027  0.500000        NaN   \n",
       "\n",
       "hourly_rate          (100, 120]  (120, 140]  (140, 160]  (160, 180]  \n",
       "num_completed_tasks                                                  \n",
       "(0, 100]               0.142857    0.000000    0.008264    0.000000  \n",
       "(100, 200]             0.000000    0.010101    0.016260    0.000000  \n",
       "(200, 300]             0.000000         NaN    0.000000    0.000000  \n",
       "(300, 400]             0.000000    0.034483    0.000000    0.000000  \n",
       "(400, 500]             0.037037    0.041667    0.000000         NaN  \n",
       "(500, 600]                  NaN         NaN         NaN         NaN  \n",
       "(600, 700]             0.000000    0.062500         NaN    0.000000  \n",
       "(700, 800]                  NaN    0.000000         NaN         NaN  \n",
       "(800, 900]             0.119048    0.039216    0.000000         NaN  \n",
       "(900, 1000]            0.080000    0.000000    0.000000    0.117647  \n",
       "(1000, 1100]           0.285714    0.000000    0.000000         NaN  \n",
       "(1100, 1200]                NaN         NaN    0.083333    0.111111  \n",
       "(1200, 1300]                NaN         NaN    0.000000         NaN  \n",
       "(1300, 1400]                NaN         NaN         NaN         NaN  "
      ]
     },
     "execution_count": 84,
     "metadata": {},
     "output_type": "execute_result"
    }
   ],
   "source": [
    "bins1 = list(range(0, 1500, 100))\n",
    "bins2 = list(range(0, 200, 20))\n",
    "groups3 = df.groupby([pd.cut(df.num_completed_tasks, bins1), pd.cut(df.hourly_rate, bins2)])\n",
    "booking_rate_mx3 = groups3.hired.sum()/groups3.hired.count()\n",
    "booking_rate_mx3 = booking_rate_mx3.unstack()\n",
    "booking_rate_mx3"
   ]
  },
  {
   "cell_type": "code",
   "execution_count": 85,
   "id": "911593a9",
   "metadata": {},
   "outputs": [
    {
     "data": {
      "image/png": "[encoded data removed]",
      "text/plain": [
       "<Figure size 1296x360 with 6 Axes>"
      ]
     },
     "metadata": {
      "needs_background": "light"
     },
     "output_type": "display_data"
    }
   ],
   "source": [
    "fig, axes = plt.subplots(1, 3, figsize = (18, 5))\n",
    "sns.heatmap(booking_rate_mx1, ax = axes[0])\n",
    "sns.heatmap(booking_rate_mx2, ax = axes[1])\n",
    "sns.heatmap(booking_rate_mx3, ax = axes[2])\n",
    "axes[0].set_title(\"Booking rate as of position and number of completed tasks\")\n",
    "axes[1].set_title(\"Booking rate as of position and hourly rate\")\n",
    "axes[2].set_title(\"Booking rate as of number of completed tasks and hourly rate\")\n",
    "plt.show()"
   ]
  },
  {
   "cell_type": "markdown",
   "id": "b9400dd8",
   "metadata": {},
   "source": [
    "## Question 3 Analysis\n",
    "\n",
    "1. Regardless of the category, the booking rate generally decreases as the tasker's position grows higher. Taskers at position 1 has the highest booking rate and taskers at position 15 has the lowest booking rate. \n",
    "\n",
    "2. There is a sharp decrease of the booking rate from position 1 to 3-4. Then the speed of the decreasing trend becomes much slower from position 4 to 15.\n",
    "\n",
    "3. Roughly from position 1 to 3, \"Furniture Assembly\" tends to have the highest booking rate. Then from position 5 to 8, \"Moving Help\" tends to have the highest booking rate. Finally from position 9 to 15, \"Mounting\" tends to the the highest booking rate among the three categories. \n",
    "\n",
    "### Regarding the sudden drop of booking rate at position 3\n",
    "I ploted the median day and median hour for each position but did not observe obvious trends. The median hour fluctuates between 15 and 20. The median day flucturates between 10 and 20. \n",
    "\n",
    "\n",
    "Since booking rate is defined as: # taskers hired / # taskers displayed, I define two more rates following the same logic:\n",
    "- sum of hourly rate / # taskers displayed\n",
    "- sum of number of completed tasks / # taskers displayed\n",
    "\n",
    "\n",
    "Based on the plots above, I noticed there is also a sudden drop of `number of completed tasks per tasker` at position 3. Whereas the `hourly rate` vs. `position` follows an oppotisite trend as `booking rate` vs. `position`. This makes sense since higher hourly rate generally leads to lower booking rate. One possible explanation for the sudden drop at position 3 could be the unusually low number of completed tasks undermines customers' trust in taskers at position 3. \n",
    "\n",
    "Based on the heatmap of `booking rate` vs. `hourly rate`, `num completed tasks`, and `postion`, I did not notice significant collinearity issues. Therefore, I decide to keep all the predictors in the following modeling section. "
   ]
  },
  {
   "cell_type": "markdown",
   "id": "7d5b5e99",
   "metadata": {},
   "source": [
    "# Question 4\n",
    "For each category, what is the average position of the Tasker who is hired?"
   ]
  },
  {
   "cell_type": "code",
   "execution_count": 17,
   "id": "f3e1de38",
   "metadata": {
    "scrolled": true
   },
   "outputs": [
    {
     "data": {
      "text/plain": [
       "category\n",
       "Furniture Assembly    3.611888\n",
       "Mounting              4.596085\n",
       "Moving Help           4.145359\n",
       "Name: position, dtype: float64"
      ]
     },
     "execution_count": 17,
     "metadata": {},
     "output_type": "execute_result"
    }
   ],
   "source": [
    "df4 = df[df[\"hired\"] == 1].groupby(\"category\").position.mean()\n",
    "df4"
   ]
  },
  {
   "cell_type": "code",
   "execution_count": 18,
   "id": "58ceb60b",
   "metadata": {
    "scrolled": false
   },
   "outputs": [
    {
     "data": {
      "image/png": "[encoded data removed]",
      "text/plain": [
       "<Figure size 432x288 with 1 Axes>"
      ]
     },
     "metadata": {
      "needs_background": "light"
     },
     "output_type": "display_data"
    }
   ],
   "source": [
    "df4.plot(kind = \"bar\", title = \"Average position per category\")\n",
    "plt.xticks(rotation = 0);"
   ]
  },
  {
   "cell_type": "code",
   "execution_count": 19,
   "id": "49f18499",
   "metadata": {
    "scrolled": false
   },
   "outputs": [
    {
     "data": {
      "text/html": [
       "<div>\n",
       "<style scoped>\n",
       "    .dataframe tbody tr th:only-of-type {\n",
       "        vertical-align: middle;\n",
       "    }\n",
       "\n",
       "    .dataframe tbody tr th {\n",
       "        vertical-align: top;\n",
       "    }\n",
       "\n",
       "    .dataframe thead th {\n",
       "        text-align: right;\n",
       "    }\n",
       "</style>\n",
       "<table border=\"1\" class=\"dataframe\">\n",
       "  <thead>\n",
       "    <tr style=\"text-align: right;\">\n",
       "      <th></th>\n",
       "      <th>Furniture Assembly</th>\n",
       "      <th>Mounting</th>\n",
       "      <th>Moving Help</th>\n",
       "    </tr>\n",
       "  </thead>\n",
       "  <tbody>\n",
       "    <tr>\n",
       "      <th>0.1</th>\n",
       "      <td>1.0</td>\n",
       "      <td>1.0</td>\n",
       "      <td>1.0</td>\n",
       "    </tr>\n",
       "    <tr>\n",
       "      <th>0.2</th>\n",
       "      <td>1.0</td>\n",
       "      <td>1.0</td>\n",
       "      <td>1.0</td>\n",
       "    </tr>\n",
       "    <tr>\n",
       "      <th>0.3</th>\n",
       "      <td>1.0</td>\n",
       "      <td>1.0</td>\n",
       "      <td>1.0</td>\n",
       "    </tr>\n",
       "    <tr>\n",
       "      <th>0.4</th>\n",
       "      <td>1.0</td>\n",
       "      <td>2.0</td>\n",
       "      <td>2.0</td>\n",
       "    </tr>\n",
       "    <tr>\n",
       "      <th>0.5</th>\n",
       "      <td>2.0</td>\n",
       "      <td>3.0</td>\n",
       "      <td>3.0</td>\n",
       "    </tr>\n",
       "    <tr>\n",
       "      <th>0.6</th>\n",
       "      <td>4.0</td>\n",
       "      <td>4.0</td>\n",
       "      <td>4.0</td>\n",
       "    </tr>\n",
       "    <tr>\n",
       "      <th>0.7</th>\n",
       "      <td>4.0</td>\n",
       "      <td>6.0</td>\n",
       "      <td>5.0</td>\n",
       "    </tr>\n",
       "    <tr>\n",
       "      <th>0.8</th>\n",
       "      <td>6.0</td>\n",
       "      <td>9.0</td>\n",
       "      <td>7.0</td>\n",
       "    </tr>\n",
       "    <tr>\n",
       "      <th>0.9</th>\n",
       "      <td>9.0</td>\n",
       "      <td>12.0</td>\n",
       "      <td>10.0</td>\n",
       "    </tr>\n",
       "  </tbody>\n",
       "</table>\n",
       "</div>"
      ],
      "text/plain": [
       "     Furniture Assembly  Mounting  Moving Help\n",
       "0.1                 1.0       1.0          1.0\n",
       "0.2                 1.0       1.0          1.0\n",
       "0.3                 1.0       1.0          1.0\n",
       "0.4                 1.0       2.0          2.0\n",
       "0.5                 2.0       3.0          3.0\n",
       "0.6                 4.0       4.0          4.0\n",
       "0.7                 4.0       6.0          5.0\n",
       "0.8                 6.0       9.0          7.0\n",
       "0.9                 9.0      12.0         10.0"
      ]
     },
     "execution_count": 19,
     "metadata": {},
     "output_type": "execute_result"
    }
   ],
   "source": [
    "# df_pos = df[[\"position\", \"category\", \"hourly_rate\", \"num_completed_tasks\", \"day\", \"hour\", \"hired\"]]\n",
    "df_hired = df[df[\"hired\"] == 1]\n",
    "df_cat = df_hired[[\"position\", \"category\"]]\n",
    "df_cat_qt = df_cat.groupby(\"category\").quantile(q = [0.1, 0.2, 0.3, 0.4, 0.5, 0.6, 0.7, 0.8, 0.9])\n",
    "df_cat_qt = df_cat_qt.unstack(\"category\")\n",
    "df_cat_qt.columns = [\"Furniture Assembly\", \"Mounting\", \"Moving Help\"]\n",
    "df_cat_qt"
   ]
  },
  {
   "cell_type": "code",
   "execution_count": 20,
   "id": "7e11d02e",
   "metadata": {},
   "outputs": [
    {
     "data": {
      "text/html": [
       "<div>\n",
       "<style scoped>\n",
       "    .dataframe tbody tr th:only-of-type {\n",
       "        vertical-align: middle;\n",
       "    }\n",
       "\n",
       "    .dataframe tbody tr th {\n",
       "        vertical-align: top;\n",
       "    }\n",
       "\n",
       "    .dataframe thead th {\n",
       "        text-align: right;\n",
       "    }\n",
       "</style>\n",
       "<table border=\"1\" class=\"dataframe\">\n",
       "  <thead>\n",
       "    <tr style=\"text-align: right;\">\n",
       "      <th></th>\n",
       "      <th>position</th>\n",
       "      <th>category</th>\n",
       "    </tr>\n",
       "  </thead>\n",
       "  <tbody>\n",
       "    <tr>\n",
       "      <th>12</th>\n",
       "      <td>13</td>\n",
       "      <td>Furniture Assembly</td>\n",
       "    </tr>\n",
       "    <tr>\n",
       "      <th>24</th>\n",
       "      <td>10</td>\n",
       "      <td>Furniture Assembly</td>\n",
       "    </tr>\n",
       "    <tr>\n",
       "      <th>32</th>\n",
       "      <td>3</td>\n",
       "      <td>Moving Help</td>\n",
       "    </tr>\n",
       "    <tr>\n",
       "      <th>48</th>\n",
       "      <td>4</td>\n",
       "      <td>Moving Help</td>\n",
       "    </tr>\n",
       "    <tr>\n",
       "      <th>81</th>\n",
       "      <td>11</td>\n",
       "      <td>Furniture Assembly</td>\n",
       "    </tr>\n",
       "    <tr>\n",
       "      <th>...</th>\n",
       "      <td>...</td>\n",
       "      <td>...</td>\n",
       "    </tr>\n",
       "    <tr>\n",
       "      <th>29932</th>\n",
       "      <td>1</td>\n",
       "      <td>Furniture Assembly</td>\n",
       "    </tr>\n",
       "    <tr>\n",
       "      <th>29951</th>\n",
       "      <td>5</td>\n",
       "      <td>Moving Help</td>\n",
       "    </tr>\n",
       "    <tr>\n",
       "      <th>29962</th>\n",
       "      <td>1</td>\n",
       "      <td>Furniture Assembly</td>\n",
       "    </tr>\n",
       "    <tr>\n",
       "      <th>29986</th>\n",
       "      <td>10</td>\n",
       "      <td>Mounting</td>\n",
       "    </tr>\n",
       "    <tr>\n",
       "      <th>29998</th>\n",
       "      <td>7</td>\n",
       "      <td>Moving Help</td>\n",
       "    </tr>\n",
       "  </tbody>\n",
       "</table>\n",
       "<p>1705 rows × 2 columns</p>\n",
       "</div>"
      ],
      "text/plain": [
       "       position            category\n",
       "12           13  Furniture Assembly\n",
       "24           10  Furniture Assembly\n",
       "32            3         Moving Help\n",
       "48            4         Moving Help\n",
       "81           11  Furniture Assembly\n",
       "...         ...                 ...\n",
       "29932         1  Furniture Assembly\n",
       "29951         5         Moving Help\n",
       "29962         1  Furniture Assembly\n",
       "29986        10            Mounting\n",
       "29998         7         Moving Help\n",
       "\n",
       "[1705 rows x 2 columns]"
      ]
     },
     "execution_count": 20,
     "metadata": {},
     "output_type": "execute_result"
    }
   ],
   "source": [
    "df_cat"
   ]
  },
  {
   "cell_type": "code",
   "execution_count": 21,
   "id": "abf120ef",
   "metadata": {
    "scrolled": false
   },
   "outputs": [
    {
     "data": {
      "image/png": "[encoded data removed]",
      "text/plain": [
       "<Figure size 1296x360 with 3 Axes>"
      ]
     },
     "metadata": {
      "needs_background": "light"
     },
     "output_type": "display_data"
    }
   ],
   "source": [
    "fig, axes = plt.subplots(1, 3, figsize = (18, 5))\n",
    "df_cat[df_cat.category ==\"Furniture Assembly\"].hist(cumulative = True, bins = 16, ax = axes[0])\n",
    "df_cat[df_cat.category ==\"Mounting\"].hist(cumulative = True, bins = 16, ax = axes[1])\n",
    "df_cat[df_cat.category ==\"Moving Help\"].hist(cumulative = True, bins = 16, ax = axes[2])\n",
    "\n",
    "fig.suptitle(\"Cumulative distribution of hired taskers vs. position\")\n",
    "axes[0].set_title(\"Furniture Assemply\")\n",
    "axes[1].set_title(\"Mounting\")\n",
    "axes[2].set_title(\"Moving Help\")\n",
    "\n",
    "for i in range(3):  \n",
    "    axes[i].set_ylabel(\"Hired taskers number\")\n",
    "    axes[i].set_xlabel(\"Hired taksers position\")\n",
    "plt.show()"
   ]
  },
  {
   "cell_type": "code",
   "execution_count": 22,
   "id": "06a900de",
   "metadata": {
    "scrolled": false
   },
   "outputs": [
    {
     "data": {
      "image/png": "[encoded data removed]",
      "text/plain": [
       "<Figure size 432x288 with 1 Axes>"
      ]
     },
     "metadata": {
      "needs_background": "light"
     },
     "output_type": "display_data"
    }
   ],
   "source": [
    "df_cat_qt.plot(kind = \"bar\", title = \"Quantile of positions by category\")\n",
    "plt.xlabel(\"quantile\")\n",
    "plt.ylabel(\"position\")\n",
    "plt.show()"
   ]
  },
  {
   "cell_type": "markdown",
   "id": "fe09fa58",
   "metadata": {},
   "source": [
    "## Question 4 Analysis\n",
    "1. The average positions for the hired taskers are around 3 to 4. \"Mounting\" has the highest average booking rate and \"Furniture Assembly\" has the lowest average booking rate. \n",
    "\n",
    "2. However, position 1 still has the highest proability to get hired becuase this is an average. Average can be misleading if the data distribution is skewed."
   ]
  },
  {
   "cell_type": "markdown",
   "id": "4b51ad10",
   "metadata": {},
   "source": [
    "# Question 5\n",
    "For each category, what is the average hourly rate and average number of completed tasks for the Taskers who are hired?"
   ]
  },
  {
   "cell_type": "code",
   "execution_count": 23,
   "id": "a2f1b79f",
   "metadata": {
    "scrolled": true
   },
   "outputs": [
    {
     "data": {
      "text/html": [
       "<div>\n",
       "<style scoped>\n",
       "    .dataframe tbody tr th:only-of-type {\n",
       "        vertical-align: middle;\n",
       "    }\n",
       "\n",
       "    .dataframe tbody tr th {\n",
       "        vertical-align: top;\n",
       "    }\n",
       "\n",
       "    .dataframe thead th {\n",
       "        text-align: right;\n",
       "    }\n",
       "</style>\n",
       "<table border=\"1\" class=\"dataframe\">\n",
       "  <thead>\n",
       "    <tr style=\"text-align: right;\">\n",
       "      <th>category</th>\n",
       "      <th>Furniture Assembly</th>\n",
       "      <th>Mounting</th>\n",
       "      <th>Moving Help</th>\n",
       "    </tr>\n",
       "  </thead>\n",
       "  <tbody>\n",
       "    <tr>\n",
       "      <th>hourly_rate</th>\n",
       "      <td>38.701049</td>\n",
       "      <td>50.154804</td>\n",
       "      <td>63.012259</td>\n",
       "    </tr>\n",
       "    <tr>\n",
       "      <th>num_completed_tasks</th>\n",
       "      <td>249.020979</td>\n",
       "      <td>284.096085</td>\n",
       "      <td>273.882662</td>\n",
       "    </tr>\n",
       "  </tbody>\n",
       "</table>\n",
       "</div>"
      ],
      "text/plain": [
       "category             Furniture Assembly    Mounting  Moving Help\n",
       "hourly_rate                   38.701049   50.154804    63.012259\n",
       "num_completed_tasks          249.020979  284.096085   273.882662"
      ]
     },
     "execution_count": 23,
     "metadata": {},
     "output_type": "execute_result"
    }
   ],
   "source": [
    "df5 = df[df[\"hired\"] == 1].groupby(\"category\")[[\"hourly_rate\", \"num_completed_tasks\"]].mean()\n",
    "df5 = df5.transpose()\n",
    "df5"
   ]
  },
  {
   "cell_type": "code",
   "execution_count": 24,
   "id": "fdb812ff",
   "metadata": {
    "scrolled": false
   },
   "outputs": [
    {
     "data": {
      "image/png": "[encoded data removed]",
      "text/plain": [
       "<Figure size 432x288 with 1 Axes>"
      ]
     },
     "metadata": {
      "needs_background": "light"
     },
     "output_type": "display_data"
    }
   ],
   "source": [
    "df5.plot(kind = \"bar\", title = \"Average hourly rate and average number of completed tasks of hired taskers\" )\n",
    "plt.xticks(rotation=0)\n",
    "plt.show()"
   ]
  },
  {
   "cell_type": "markdown",
   "id": "c3476322",
   "metadata": {},
   "source": [
    "## Question 5 Analysis\n",
    "1. The average hourly rates for the Taskers who are hired are between 38 and 64. The average number of completed tasks for the Taskers who are hired are between 249 and 273.\n",
    "\n",
    "2. \"Furniture Assembly\" has the lowest average hourly rate and the lowest averge number of completed tasks.\n",
    "\n",
    "3. \"Mounting\" has the highest average number of completed tasks. \"Moving Help\" has the highest average hourly rate. "
   ]
  },
  {
   "cell_type": "markdown",
   "id": "34708338",
   "metadata": {},
   "source": [
    "# Question 6\n",
    "For each category, what is the average hourly rate and average number of completed tasks the the Taskers who are not hired?"
   ]
  },
  {
   "cell_type": "code",
   "execution_count": 25,
   "id": "fc8fbca5",
   "metadata": {
    "scrolled": true
   },
   "outputs": [
    {
     "data": {
      "text/html": [
       "<div>\n",
       "<style scoped>\n",
       "    .dataframe tbody tr th:only-of-type {\n",
       "        vertical-align: middle;\n",
       "    }\n",
       "\n",
       "    .dataframe tbody tr th {\n",
       "        vertical-align: top;\n",
       "    }\n",
       "\n",
       "    .dataframe thead th {\n",
       "        text-align: right;\n",
       "    }\n",
       "</style>\n",
       "<table border=\"1\" class=\"dataframe\">\n",
       "  <thead>\n",
       "    <tr style=\"text-align: right;\">\n",
       "      <th>category</th>\n",
       "      <th>Furniture Assembly</th>\n",
       "      <th>Mounting</th>\n",
       "      <th>Moving Help</th>\n",
       "    </tr>\n",
       "  </thead>\n",
       "  <tbody>\n",
       "    <tr>\n",
       "      <th>hourly_rate</th>\n",
       "      <td>39.463301</td>\n",
       "      <td>50.493961</td>\n",
       "      <td>83.736345</td>\n",
       "    </tr>\n",
       "    <tr>\n",
       "      <th>num_completed_tasks</th>\n",
       "      <td>182.000212</td>\n",
       "      <td>216.470227</td>\n",
       "      <td>256.616608</td>\n",
       "    </tr>\n",
       "  </tbody>\n",
       "</table>\n",
       "</div>"
      ],
      "text/plain": [
       "category             Furniture Assembly    Mounting  Moving Help\n",
       "hourly_rate                   39.463301   50.493961    83.736345\n",
       "num_completed_tasks          182.000212  216.470227   256.616608"
      ]
     },
     "execution_count": 25,
     "metadata": {},
     "output_type": "execute_result"
    }
   ],
   "source": [
    "df6 = df[df[\"hired\"] == 0].groupby(\"category\")[[\"hourly_rate\", \"num_completed_tasks\"]].mean()\n",
    "df6 = df6.transpose()\n",
    "df6"
   ]
  },
  {
   "cell_type": "code",
   "execution_count": 26,
   "id": "5c6b5a44",
   "metadata": {
    "scrolled": false
   },
   "outputs": [
    {
     "data": {
      "image/png": "[encoded data removed]",
      "text/plain": [
       "<Figure size 432x288 with 1 Axes>"
      ]
     },
     "metadata": {
      "needs_background": "light"
     },
     "output_type": "display_data"
    }
   ],
   "source": [
    "df6.plot(kind = \"bar\", title = \"Average hourly rate and average number of completed tasks of unhired taskers\")\n",
    "plt.xticks(rotation=0)\n",
    "plt.show()"
   ]
  },
  {
   "cell_type": "code",
   "execution_count": 27,
   "id": "ccd9ba21",
   "metadata": {},
   "outputs": [
    {
     "data": {
      "image/png": "[encoded data removed]",
      "text/plain": [
       "<Figure size 720x360 with 2 Axes>"
      ]
     },
     "metadata": {
      "needs_background": "light"
     },
     "output_type": "display_data"
    }
   ],
   "source": [
    "fig, axes = plt.subplots(nrows=1, ncols=2, figsize = (10, 5))\n",
    "df5.plot(kind = \"bar\", title = \"hired taskers\" , ax = axes[0])\n",
    "df6.plot(kind = \"bar\", title = \"unhired taskers\", ax = axes[1])\n",
    "axes[0].tick_params(labelrotation = 0)\n",
    "axes[1].tick_params(labelrotation = 0)\n",
    "plt.show()"
   ]
  },
  {
   "cell_type": "markdown",
   "id": "95de0278",
   "metadata": {},
   "source": [
    "## Question 6 Analysis\n",
    "1. The average hourly rates for the Taskers who are not hired are between 39 and 83 (which are higher than the hired Taskers). The average number of completed tasks for the Taskers who are hired are between 182 and 265 (which are lower than the hired Taskers).\n",
    "\n",
    "2. \"Furniture Assembly\" has the lowest average hourly rate and the lowest averge number of completed tasks.\n",
    "\n",
    "3. \"Moving Help\" has the highest average hourly rate and the highest averge number of completed tasks."
   ]
  },
  {
   "cell_type": "markdown",
   "id": "6d932257",
   "metadata": {},
   "source": [
    "# Additional Comparasion between Hired and Not Hired"
   ]
  },
  {
   "cell_type": "code",
   "execution_count": 28,
   "id": "e264d502",
   "metadata": {
    "scrolled": false
   },
   "outputs": [],
   "source": [
    "df7 = df.groupby([\"hired\", \"category\"])[[\"position\", \"hourly_rate\", \"num_completed_tasks\"]].mean()\n",
    "df8 = df7.unstack(level = \"hired\")\n",
    "df9 = df.groupby([\"hired\", \"category\"])[[\"day\", \"hour\"]].median()\n",
    "df10 = df9.unstack(level = \"hired\")"
   ]
  },
  {
   "cell_type": "code",
   "execution_count": 29,
   "id": "45fed862",
   "metadata": {
    "scrolled": false
   },
   "outputs": [
    {
     "data": {
      "image/png": "[encoded data removed]",
      "text/plain": [
       "<Figure size 720x720 with 4 Axes>"
      ]
     },
     "metadata": {
      "needs_background": "light"
     },
     "output_type": "display_data"
    }
   ],
   "source": [
    "fig, axes = plt.subplots(nrows=2, ncols=2, figsize = (10,10))\n",
    "df10[[\"day\", \"hour\"]].transpose().plot(kind = \"bar\", ax = axes[0,0], title = \"median day and hour\")\n",
    "df8[\"position\"].transpose().plot(kind = \"bar\", ax = axes[0,1], title = \"average position\")\n",
    "df8[\"hourly_rate\"].transpose().plot(kind = \"bar\", ax = axes[1,0], title = \"average hourly rate\")\n",
    "df8[\"num_completed_tasks\"].transpose().plot(kind = \"bar\", ax = axes[1,1], title = \"average number of completed tasks\")\n",
    "axes[0,0].tick_params(labelrotation = 0)\n",
    "axes[1,0].tick_params(labelrotation = 0)\n",
    "axes[0,1].tick_params(labelrotation = 0)\n",
    "axes[1,1].tick_params(labelrotation = 0)\n",
    "plt.show()"
   ]
  },
  {
   "cell_type": "markdown",
   "id": "5638cd35",
   "metadata": {},
   "source": [
    "## Add buckets and scatter plot for hourly rate and scatter plot\n",
    "- buckets for hourly rate and num tasks, hired percentage in that bucket.\n",
    "- scatter plot of the hourly rate and num tasks, colored by hired or not hired."
   ]
  },
  {
   "cell_type": "code",
   "execution_count": 30,
   "id": "f6e99709",
   "metadata": {
    "scrolled": true
   },
   "outputs": [],
   "source": [
    "hour_38_50 = df[(df[\"hourly_rate\"] >= 38) & (df[\"hourly_rate\"] <= 50)]\n",
    "hour_38_50_hired_rate = hour_38_50[\"hired\"].sum() / hour_38_50[\"hired\"].count()\n",
    "\n",
    "hour_51_100 = df[(df[\"hourly_rate\"] >= 51) & (df[\"hourly_rate\"] <= 100)]\n",
    "hour_51_100_hired_rate = hour_51_100[\"hired\"].sum() / hour_51_100[\"hired\"].count()\n",
    "\n",
    "hour_101_150 = df[(df[\"hourly_rate\"] >= 101) & (df[\"hourly_rate\"] <= 150)]\n",
    "hour_101_150_hired_rate = hour_101_150[\"hired\"].sum() / hour_101_150[\"hired\"].count()\n",
    "\n",
    "hour_151_200 = df[(df[\"hourly_rate\"] >= 151) & (df[\"hourly_rate\"] <= 200)]\n",
    "hour_151_200_hired_rate = hour_151_200[\"hired\"].sum() / hour_151_200[\"hired\"].count()"
   ]
  },
  {
   "cell_type": "code",
   "execution_count": 31,
   "id": "bb3116cf",
   "metadata": {},
   "outputs": [],
   "source": [
    "task_0_300 = df[(df[\"num_completed_tasks\"] >= 0) & (df[\"num_completed_tasks\"] <= 300)]\n",
    "task_0_300_hired_rate = task_0_300[\"hired\"].sum() / task_0_300[\"hired\"].count()\n",
    "\n",
    "task_301_600 = df[(df[\"num_completed_tasks\"] >= 301) & (df[\"num_completed_tasks\"] <= 600)]\n",
    "task_301_600_hired_rate = task_301_600[\"hired\"].sum() / task_301_600[\"hired\"].count()\n",
    "\n",
    "task_601_900 = df[(df[\"num_completed_tasks\"] >= 601) & (df[\"num_completed_tasks\"] <= 900)]\n",
    "task_601_900_hired_rate = task_601_900[\"hired\"].sum() / task_601_900[\"hired\"].count()\n",
    "\n",
    "task_901_1200 = df[(df[\"num_completed_tasks\"] >= 901) & (df[\"num_completed_tasks\"] <= 1200)]\n",
    "task_901_1200_hired_rate = task_901_1200[\"hired\"].sum() / task_901_1200[\"hired\"].count()\n",
    "\n",
    "task_1201_1500 = df[(df[\"num_completed_tasks\"] >= 1201) & (df[\"num_completed_tasks\"] <= 1500)]\n",
    "task_1201_1500_hired_rate = task_1201_1500[\"hired\"].sum() / task_1201_1500[\"hired\"].count()"
   ]
  },
  {
   "cell_type": "code",
   "execution_count": 32,
   "id": "170b5e3b",
   "metadata": {
    "scrolled": false
   },
   "outputs": [
    {
     "data": {
      "text/html": [
       "<div>\n",
       "<style scoped>\n",
       "    .dataframe tbody tr th:only-of-type {\n",
       "        vertical-align: middle;\n",
       "    }\n",
       "\n",
       "    .dataframe tbody tr th {\n",
       "        vertical-align: top;\n",
       "    }\n",
       "\n",
       "    .dataframe thead th {\n",
       "        text-align: right;\n",
       "    }\n",
       "</style>\n",
       "<table border=\"1\" class=\"dataframe\">\n",
       "  <thead>\n",
       "    <tr style=\"text-align: right;\">\n",
       "      <th></th>\n",
       "      <th>hired_rate</th>\n",
       "    </tr>\n",
       "  </thead>\n",
       "  <tbody>\n",
       "    <tr>\n",
       "      <th>38-50</th>\n",
       "      <td>0.063753</td>\n",
       "    </tr>\n",
       "    <tr>\n",
       "      <th>51-100</th>\n",
       "      <td>0.055812</td>\n",
       "    </tr>\n",
       "    <tr>\n",
       "      <th>101-150</th>\n",
       "      <td>0.037008</td>\n",
       "    </tr>\n",
       "    <tr>\n",
       "      <th>151-200</th>\n",
       "      <td>0.006415</td>\n",
       "    </tr>\n",
       "  </tbody>\n",
       "</table>\n",
       "</div>"
      ],
      "text/plain": [
       "         hired_rate\n",
       "38-50      0.063753\n",
       "51-100     0.055812\n",
       "101-150    0.037008\n",
       "151-200    0.006415"
      ]
     },
     "execution_count": 32,
     "metadata": {},
     "output_type": "execute_result"
    }
   ],
   "source": [
    "hourly_bucket = [\"38-50\", \"51-100\", \"101-150\", \"151-200\"]\n",
    "hired_rate_h = [hour_38_50_hired_rate, hour_51_100_hired_rate, hour_101_150_hired_rate, hour_151_200_hired_rate]\n",
    "df_hourly = pd.DataFrame(hired_rate_h)\n",
    "df_hourly.index = hourly_bucket\n",
    "df_hourly.columns = [\"hired_rate\"]\n",
    "df_hourly"
   ]
  },
  {
   "cell_type": "code",
   "execution_count": 33,
   "id": "bb5e6f1a",
   "metadata": {},
   "outputs": [
    {
     "data": {
      "text/html": [
       "<div>\n",
       "<style scoped>\n",
       "    .dataframe tbody tr th:only-of-type {\n",
       "        vertical-align: middle;\n",
       "    }\n",
       "\n",
       "    .dataframe tbody tr th {\n",
       "        vertical-align: top;\n",
       "    }\n",
       "\n",
       "    .dataframe thead th {\n",
       "        text-align: right;\n",
       "    }\n",
       "</style>\n",
       "<table border=\"1\" class=\"dataframe\">\n",
       "  <thead>\n",
       "    <tr style=\"text-align: right;\">\n",
       "      <th></th>\n",
       "      <th>hired_rate</th>\n",
       "    </tr>\n",
       "  </thead>\n",
       "  <tbody>\n",
       "    <tr>\n",
       "      <th>0-300</th>\n",
       "      <td>0.051422</td>\n",
       "    </tr>\n",
       "    <tr>\n",
       "      <th>301-600</th>\n",
       "      <td>0.073027</td>\n",
       "    </tr>\n",
       "    <tr>\n",
       "      <th>601-900</th>\n",
       "      <td>0.071778</td>\n",
       "    </tr>\n",
       "    <tr>\n",
       "      <th>901-1200</th>\n",
       "      <td>0.086649</td>\n",
       "    </tr>\n",
       "    <tr>\n",
       "      <th>1201-1500</th>\n",
       "      <td>0.028070</td>\n",
       "    </tr>\n",
       "  </tbody>\n",
       "</table>\n",
       "</div>"
      ],
      "text/plain": [
       "           hired_rate\n",
       "0-300        0.051422\n",
       "301-600      0.073027\n",
       "601-900      0.071778\n",
       "901-1200     0.086649\n",
       "1201-1500    0.028070"
      ]
     },
     "execution_count": 33,
     "metadata": {},
     "output_type": "execute_result"
    }
   ],
   "source": [
    "task_bucket = [\"0-300\", \"301-600\", \"601-900\", \"901-1200\", \"1201-1500\"]\n",
    "hired_rate_t = [task_0_300_hired_rate, task_301_600_hired_rate, task_601_900_hired_rate, \n",
    "                task_901_1200_hired_rate, task_1201_1500_hired_rate]\n",
    "df_task = pd.DataFrame(hired_rate_t)\n",
    "df_task.index = task_bucket\n",
    "df_task.columns = [\"hired_rate\"]\n",
    "df_task"
   ]
  },
  {
   "cell_type": "code",
   "execution_count": 34,
   "id": "2e8e82f0",
   "metadata": {
    "scrolled": false
   },
   "outputs": [
    {
     "data": {
      "image/png": "[encoded data removed]",
      "text/plain": [
       "<Figure size 864x360 with 2 Axes>"
      ]
     },
     "metadata": {
      "needs_background": "light"
     },
     "output_type": "display_data"
    }
   ],
   "source": [
    "fig, axes = plt.subplots(1, 2, figsize = (12, 5))\n",
    "\n",
    "df_hourly.plot(kind = \"bar\", title = \"hired rate vs hourly rate\", ax = axes[0])\n",
    "axes[0].tick_params(labelrotation = 0)\n",
    "axes[0].set_xlabel(\"hourly rate\")\n",
    "axes[0].set_ylabel(\"hired rate\")\n",
    "\n",
    "df_task.plot(kind = \"bar\", title = \"hired rate vs number of completed tasks\", ax = axes[1])\n",
    "axes[1].tick_params(labelrotation = 0)\n",
    "axes[1].set_xlabel(\"number of completed tasks\")\n",
    "axes[1].set_ylabel(\"hired rate\")\n",
    "\n",
    "plt.show()"
   ]
  },
  {
   "cell_type": "code",
   "execution_count": 35,
   "id": "607820d1",
   "metadata": {
    "scrolled": true
   },
   "outputs": [
    {
     "data": {
      "image/png": "[encoded data removed]",
      "text/plain": [
       "<Figure size 576x576 with 1 Axes>"
      ]
     },
     "metadata": {
      "needs_background": "light"
     },
     "output_type": "display_data"
    }
   ],
   "source": [
    "colors = {0 : \"orange\", 1 : \"blue\"}\n",
    "df.plot.scatter(y = \"hourly_rate\", x = \"num_completed_tasks\",\n",
    "                c = df[\"hired\"].map(colors), figsize = (8, 8));"
   ]
  },
  {
   "cell_type": "code",
   "execution_count": 36,
   "id": "d4242d14",
   "metadata": {},
   "outputs": [
    {
     "data": {
      "image/png": "[encoded data removed]",
      "text/plain": [
       "<Figure size 576x576 with 1 Axes>"
      ]
     },
     "metadata": {
      "needs_background": "light"
     },
     "output_type": "display_data"
    }
   ],
   "source": [
    "import seaborn as sns\n",
    "plt.figure(figsize=(8,8))\n",
    "sns.scatterplot(y = df['hourly_rate'], x = df['num_completed_tasks'], hue = df['hired'])\n",
    "plt.show()"
   ]
  },
  {
   "cell_type": "markdown",
   "id": "bda18130",
   "metadata": {},
   "source": [
    "## Additional Comparasion\n",
    "\n",
    "1. The hired Taskers tend to have lower positions than those who are not hired.\n",
    "\n",
    "2. The hired Taskers tend to have lower hourly rates than those who are not hired.\n",
    "\n",
    "3. The hired Taskers tend to have higher number of completed taskers than those who are not hired. "
   ]
  },
  {
   "cell_type": "markdown",
   "id": "7d52f00b",
   "metadata": {},
   "source": [
    "# Question 7\n",
    "(Bonus) What factors do impact a client choice to select a tasker ?\n",
    "\n",
    "Feel free to build a predictive model to determine the factors."
   ]
  },
  {
   "cell_type": "markdown",
   "id": "c78dc3c8",
   "metadata": {},
   "source": [
    "classification problem, to predict \"hired\" - response\n",
    "\n",
    "objective: tell what factors have an impact "
   ]
  },
  {
   "cell_type": "code",
   "execution_count": 37,
   "id": "35b2b93f",
   "metadata": {},
   "outputs": [
    {
     "data": {
      "text/html": [
       "<div>\n",
       "<style scoped>\n",
       "    .dataframe tbody tr th:only-of-type {\n",
       "        vertical-align: middle;\n",
       "    }\n",
       "\n",
       "    .dataframe tbody tr th {\n",
       "        vertical-align: top;\n",
       "    }\n",
       "\n",
       "    .dataframe thead th {\n",
       "        text-align: right;\n",
       "    }\n",
       "</style>\n",
       "<table border=\"1\" class=\"dataframe\">\n",
       "  <thead>\n",
       "    <tr style=\"text-align: right;\">\n",
       "      <th></th>\n",
       "      <th>recommendation_id</th>\n",
       "      <th>created_at</th>\n",
       "      <th>tasker_id</th>\n",
       "      <th>position</th>\n",
       "      <th>hourly_rate</th>\n",
       "      <th>num_completed_tasks</th>\n",
       "      <th>hired</th>\n",
       "      <th>category</th>\n",
       "    </tr>\n",
       "  </thead>\n",
       "  <tbody>\n",
       "    <tr>\n",
       "      <th>0</th>\n",
       "      <td>0-0-70cf97d7-37af-4834-901c-ce3ad4893b8c</td>\n",
       "      <td>2017-09-01 00:32:00</td>\n",
       "      <td>1009185352</td>\n",
       "      <td>1</td>\n",
       "      <td>38</td>\n",
       "      <td>151</td>\n",
       "      <td>0</td>\n",
       "      <td>Furniture Assembly</td>\n",
       "    </tr>\n",
       "    <tr>\n",
       "      <th>1</th>\n",
       "      <td>0-0-70cf97d7-37af-4834-901c-ce3ad4893b8c</td>\n",
       "      <td>2017-09-01 00:32:00</td>\n",
       "      <td>1006892359</td>\n",
       "      <td>2</td>\n",
       "      <td>40</td>\n",
       "      <td>193</td>\n",
       "      <td>0</td>\n",
       "      <td>Furniture Assembly</td>\n",
       "    </tr>\n",
       "    <tr>\n",
       "      <th>2</th>\n",
       "      <td>0-0-70cf97d7-37af-4834-901c-ce3ad4893b8c</td>\n",
       "      <td>2017-09-01 00:32:00</td>\n",
       "      <td>1012023956</td>\n",
       "      <td>3</td>\n",
       "      <td>28</td>\n",
       "      <td>0</td>\n",
       "      <td>0</td>\n",
       "      <td>Furniture Assembly</td>\n",
       "    </tr>\n",
       "    <tr>\n",
       "      <th>3</th>\n",
       "      <td>0-0-70cf97d7-37af-4834-901c-ce3ad4893b8c</td>\n",
       "      <td>2017-09-01 00:32:00</td>\n",
       "      <td>1009733517</td>\n",
       "      <td>4</td>\n",
       "      <td>43</td>\n",
       "      <td>303</td>\n",
       "      <td>0</td>\n",
       "      <td>Furniture Assembly</td>\n",
       "    </tr>\n",
       "    <tr>\n",
       "      <th>4</th>\n",
       "      <td>0-0-70cf97d7-37af-4834-901c-ce3ad4893b8c</td>\n",
       "      <td>2017-09-01 00:32:00</td>\n",
       "      <td>1013579273</td>\n",
       "      <td>5</td>\n",
       "      <td>29</td>\n",
       "      <td>39</td>\n",
       "      <td>0</td>\n",
       "      <td>Furniture Assembly</td>\n",
       "    </tr>\n",
       "  </tbody>\n",
       "</table>\n",
       "</div>"
      ],
      "text/plain": [
       "                          recommendation_id          created_at   tasker_id  \\\n",
       "0  0-0-70cf97d7-37af-4834-901c-ce3ad4893b8c 2017-09-01 00:32:00  1009185352   \n",
       "1  0-0-70cf97d7-37af-4834-901c-ce3ad4893b8c 2017-09-01 00:32:00  1006892359   \n",
       "2  0-0-70cf97d7-37af-4834-901c-ce3ad4893b8c 2017-09-01 00:32:00  1012023956   \n",
       "3  0-0-70cf97d7-37af-4834-901c-ce3ad4893b8c 2017-09-01 00:32:00  1009733517   \n",
       "4  0-0-70cf97d7-37af-4834-901c-ce3ad4893b8c 2017-09-01 00:32:00  1013579273   \n",
       "\n",
       "   position  hourly_rate  num_completed_tasks  hired            category  \n",
       "0         1           38                  151      0  Furniture Assembly  \n",
       "1         2           40                  193      0  Furniture Assembly  \n",
       "2         3           28                    0      0  Furniture Assembly  \n",
       "3         4           43                  303      0  Furniture Assembly  \n",
       "4         5           29                   39      0  Furniture Assembly  "
      ]
     },
     "execution_count": 37,
     "metadata": {},
     "output_type": "execute_result"
    }
   ],
   "source": [
    "# import libraries\n",
    "import pandas as pd\n",
    "import seaborn as sns\n",
    "import matplotlib.pyplot as plt\n",
    "\n",
    "# read in data\n",
    "df = pd.read_csv(\"TaskRabbit-sample-data.csv\", parse_dates = [1])\n",
    "\n",
    "# convert 'created_at' to a date type object \n",
    "# df[\"created_at\"] = pd.to_datetime(df[\"created_at\"])\n",
    "df.head()"
   ]
  },
  {
   "cell_type": "code",
   "execution_count": 38,
   "id": "c4d723f1",
   "metadata": {},
   "outputs": [
    {
     "data": {
      "text/html": [
       "<div>\n",
       "<style scoped>\n",
       "    .dataframe tbody tr th:only-of-type {\n",
       "        vertical-align: middle;\n",
       "    }\n",
       "\n",
       "    .dataframe tbody tr th {\n",
       "        vertical-align: top;\n",
       "    }\n",
       "\n",
       "    .dataframe thead th {\n",
       "        text-align: right;\n",
       "    }\n",
       "</style>\n",
       "<table border=\"1\" class=\"dataframe\">\n",
       "  <thead>\n",
       "    <tr style=\"text-align: right;\">\n",
       "      <th></th>\n",
       "      <th>recommendation_id</th>\n",
       "      <th>created_at</th>\n",
       "      <th>tasker_id</th>\n",
       "      <th>position</th>\n",
       "      <th>hourly_rate</th>\n",
       "      <th>num_completed_tasks</th>\n",
       "      <th>hired</th>\n",
       "      <th>category</th>\n",
       "      <th>day</th>\n",
       "      <th>hour</th>\n",
       "    </tr>\n",
       "  </thead>\n",
       "  <tbody>\n",
       "    <tr>\n",
       "      <th>0</th>\n",
       "      <td>0-0-70cf97d7-37af-4834-901c-ce3ad4893b8c</td>\n",
       "      <td>2017-09-01 00:32:00</td>\n",
       "      <td>1009185352</td>\n",
       "      <td>1</td>\n",
       "      <td>38</td>\n",
       "      <td>151</td>\n",
       "      <td>0</td>\n",
       "      <td>Furniture Assembly</td>\n",
       "      <td>1</td>\n",
       "      <td>0</td>\n",
       "    </tr>\n",
       "    <tr>\n",
       "      <th>1</th>\n",
       "      <td>0-0-70cf97d7-37af-4834-901c-ce3ad4893b8c</td>\n",
       "      <td>2017-09-01 00:32:00</td>\n",
       "      <td>1006892359</td>\n",
       "      <td>2</td>\n",
       "      <td>40</td>\n",
       "      <td>193</td>\n",
       "      <td>0</td>\n",
       "      <td>Furniture Assembly</td>\n",
       "      <td>1</td>\n",
       "      <td>0</td>\n",
       "    </tr>\n",
       "    <tr>\n",
       "      <th>2</th>\n",
       "      <td>0-0-70cf97d7-37af-4834-901c-ce3ad4893b8c</td>\n",
       "      <td>2017-09-01 00:32:00</td>\n",
       "      <td>1012023956</td>\n",
       "      <td>3</td>\n",
       "      <td>28</td>\n",
       "      <td>0</td>\n",
       "      <td>0</td>\n",
       "      <td>Furniture Assembly</td>\n",
       "      <td>1</td>\n",
       "      <td>0</td>\n",
       "    </tr>\n",
       "    <tr>\n",
       "      <th>3</th>\n",
       "      <td>0-0-70cf97d7-37af-4834-901c-ce3ad4893b8c</td>\n",
       "      <td>2017-09-01 00:32:00</td>\n",
       "      <td>1009733517</td>\n",
       "      <td>4</td>\n",
       "      <td>43</td>\n",
       "      <td>303</td>\n",
       "      <td>0</td>\n",
       "      <td>Furniture Assembly</td>\n",
       "      <td>1</td>\n",
       "      <td>0</td>\n",
       "    </tr>\n",
       "    <tr>\n",
       "      <th>4</th>\n",
       "      <td>0-0-70cf97d7-37af-4834-901c-ce3ad4893b8c</td>\n",
       "      <td>2017-09-01 00:32:00</td>\n",
       "      <td>1013579273</td>\n",
       "      <td>5</td>\n",
       "      <td>29</td>\n",
       "      <td>39</td>\n",
       "      <td>0</td>\n",
       "      <td>Furniture Assembly</td>\n",
       "      <td>1</td>\n",
       "      <td>0</td>\n",
       "    </tr>\n",
       "  </tbody>\n",
       "</table>\n",
       "</div>"
      ],
      "text/plain": [
       "                          recommendation_id          created_at   tasker_id  \\\n",
       "0  0-0-70cf97d7-37af-4834-901c-ce3ad4893b8c 2017-09-01 00:32:00  1009185352   \n",
       "1  0-0-70cf97d7-37af-4834-901c-ce3ad4893b8c 2017-09-01 00:32:00  1006892359   \n",
       "2  0-0-70cf97d7-37af-4834-901c-ce3ad4893b8c 2017-09-01 00:32:00  1012023956   \n",
       "3  0-0-70cf97d7-37af-4834-901c-ce3ad4893b8c 2017-09-01 00:32:00  1009733517   \n",
       "4  0-0-70cf97d7-37af-4834-901c-ce3ad4893b8c 2017-09-01 00:32:00  1013579273   \n",
       "\n",
       "   position  hourly_rate  num_completed_tasks  hired            category  day  \\\n",
       "0         1           38                  151      0  Furniture Assembly    1   \n",
       "1         2           40                  193      0  Furniture Assembly    1   \n",
       "2         3           28                    0      0  Furniture Assembly    1   \n",
       "3         4           43                  303      0  Furniture Assembly    1   \n",
       "4         5           29                   39      0  Furniture Assembly    1   \n",
       "\n",
       "   hour  \n",
       "0     0  \n",
       "1     0  \n",
       "2     0  \n",
       "3     0  \n",
       "4     0  "
      ]
     },
     "execution_count": 38,
     "metadata": {},
     "output_type": "execute_result"
    }
   ],
   "source": [
    "df[\"day\"] = df.created_at.dt.day\n",
    "df[\"hour\"] = df.created_at.dt.hour\n",
    "df.head()"
   ]
  },
  {
   "cell_type": "code",
   "execution_count": 39,
   "id": "f5c3e250",
   "metadata": {},
   "outputs": [
    {
     "data": {
      "text/html": [
       "<div>\n",
       "<style scoped>\n",
       "    .dataframe tbody tr th:only-of-type {\n",
       "        vertical-align: middle;\n",
       "    }\n",
       "\n",
       "    .dataframe tbody tr th {\n",
       "        vertical-align: top;\n",
       "    }\n",
       "\n",
       "    .dataframe thead th {\n",
       "        text-align: right;\n",
       "    }\n",
       "</style>\n",
       "<table border=\"1\" class=\"dataframe\">\n",
       "  <thead>\n",
       "    <tr style=\"text-align: right;\">\n",
       "      <th></th>\n",
       "      <th>position</th>\n",
       "      <th>hourly_rate</th>\n",
       "      <th>num_completed_tasks</th>\n",
       "      <th>category</th>\n",
       "      <th>day</th>\n",
       "      <th>hour</th>\n",
       "    </tr>\n",
       "  </thead>\n",
       "  <tbody>\n",
       "    <tr>\n",
       "      <th>0</th>\n",
       "      <td>1</td>\n",
       "      <td>38</td>\n",
       "      <td>151</td>\n",
       "      <td>Furniture Assembly</td>\n",
       "      <td>1</td>\n",
       "      <td>0</td>\n",
       "    </tr>\n",
       "    <tr>\n",
       "      <th>1</th>\n",
       "      <td>2</td>\n",
       "      <td>40</td>\n",
       "      <td>193</td>\n",
       "      <td>Furniture Assembly</td>\n",
       "      <td>1</td>\n",
       "      <td>0</td>\n",
       "    </tr>\n",
       "    <tr>\n",
       "      <th>2</th>\n",
       "      <td>3</td>\n",
       "      <td>28</td>\n",
       "      <td>0</td>\n",
       "      <td>Furniture Assembly</td>\n",
       "      <td>1</td>\n",
       "      <td>0</td>\n",
       "    </tr>\n",
       "    <tr>\n",
       "      <th>3</th>\n",
       "      <td>4</td>\n",
       "      <td>43</td>\n",
       "      <td>303</td>\n",
       "      <td>Furniture Assembly</td>\n",
       "      <td>1</td>\n",
       "      <td>0</td>\n",
       "    </tr>\n",
       "    <tr>\n",
       "      <th>4</th>\n",
       "      <td>5</td>\n",
       "      <td>29</td>\n",
       "      <td>39</td>\n",
       "      <td>Furniture Assembly</td>\n",
       "      <td>1</td>\n",
       "      <td>0</td>\n",
       "    </tr>\n",
       "  </tbody>\n",
       "</table>\n",
       "</div>"
      ],
      "text/plain": [
       "   position  hourly_rate  num_completed_tasks            category  day  hour\n",
       "0         1           38                  151  Furniture Assembly    1     0\n",
       "1         2           40                  193  Furniture Assembly    1     0\n",
       "2         3           28                    0  Furniture Assembly    1     0\n",
       "3         4           43                  303  Furniture Assembly    1     0\n",
       "4         5           29                   39  Furniture Assembly    1     0"
      ]
     },
     "execution_count": 39,
     "metadata": {},
     "output_type": "execute_result"
    }
   ],
   "source": [
    "to_drop = [\"hired\", \"recommendation_id\", \"tasker_id\", \"created_at\"]\n",
    "\n",
    "y = df[\"hired\"]\n",
    "X = df.drop(to_drop, axis = 1)\n",
    "X.head()"
   ]
  },
  {
   "cell_type": "code",
   "execution_count": 40,
   "id": "643e3632",
   "metadata": {
    "scrolled": true
   },
   "outputs": [
    {
     "data": {
      "text/plain": [
       "position                int64\n",
       "hourly_rate             int64\n",
       "num_completed_tasks     int64\n",
       "category               object\n",
       "day                     int64\n",
       "hour                    int64\n",
       "dtype: object"
      ]
     },
     "execution_count": 40,
     "metadata": {},
     "output_type": "execute_result"
    }
   ],
   "source": [
    "X.dtypes"
   ]
  },
  {
   "cell_type": "code",
   "execution_count": 41,
   "id": "76390e52",
   "metadata": {
    "scrolled": true
   },
   "outputs": [
    {
     "data": {
      "text/html": [
       "<div>\n",
       "<style scoped>\n",
       "    .dataframe tbody tr th:only-of-type {\n",
       "        vertical-align: middle;\n",
       "    }\n",
       "\n",
       "    .dataframe tbody tr th {\n",
       "        vertical-align: top;\n",
       "    }\n",
       "\n",
       "    .dataframe thead th {\n",
       "        text-align: right;\n",
       "    }\n",
       "</style>\n",
       "<table border=\"1\" class=\"dataframe\">\n",
       "  <thead>\n",
       "    <tr style=\"text-align: right;\">\n",
       "      <th></th>\n",
       "      <th>position</th>\n",
       "      <th>hourly_rate</th>\n",
       "      <th>num_completed_tasks</th>\n",
       "      <th>day</th>\n",
       "      <th>hour</th>\n",
       "    </tr>\n",
       "  </thead>\n",
       "  <tbody>\n",
       "    <tr>\n",
       "      <th>position</th>\n",
       "      <td>1.000000</td>\n",
       "      <td>0.140029</td>\n",
       "      <td>0.024309</td>\n",
       "      <td>0.002855</td>\n",
       "      <td>-0.004467</td>\n",
       "    </tr>\n",
       "    <tr>\n",
       "      <th>hourly_rate</th>\n",
       "      <td>0.140029</td>\n",
       "      <td>1.000000</td>\n",
       "      <td>0.287258</td>\n",
       "      <td>0.069686</td>\n",
       "      <td>-0.047935</td>\n",
       "    </tr>\n",
       "    <tr>\n",
       "      <th>num_completed_tasks</th>\n",
       "      <td>0.024309</td>\n",
       "      <td>0.287258</td>\n",
       "      <td>1.000000</td>\n",
       "      <td>-0.001026</td>\n",
       "      <td>-0.013893</td>\n",
       "    </tr>\n",
       "    <tr>\n",
       "      <th>day</th>\n",
       "      <td>0.002855</td>\n",
       "      <td>0.069686</td>\n",
       "      <td>-0.001026</td>\n",
       "      <td>1.000000</td>\n",
       "      <td>-0.053141</td>\n",
       "    </tr>\n",
       "    <tr>\n",
       "      <th>hour</th>\n",
       "      <td>-0.004467</td>\n",
       "      <td>-0.047935</td>\n",
       "      <td>-0.013893</td>\n",
       "      <td>-0.053141</td>\n",
       "      <td>1.000000</td>\n",
       "    </tr>\n",
       "  </tbody>\n",
       "</table>\n",
       "</div>"
      ],
      "text/plain": [
       "                     position  hourly_rate  num_completed_tasks       day  \\\n",
       "position             1.000000     0.140029             0.024309  0.002855   \n",
       "hourly_rate          0.140029     1.000000             0.287258  0.069686   \n",
       "num_completed_tasks  0.024309     0.287258             1.000000 -0.001026   \n",
       "day                  0.002855     0.069686            -0.001026  1.000000   \n",
       "hour                -0.004467    -0.047935            -0.013893 -0.053141   \n",
       "\n",
       "                         hour  \n",
       "position            -0.004467  \n",
       "hourly_rate         -0.047935  \n",
       "num_completed_tasks -0.013893  \n",
       "day                 -0.053141  \n",
       "hour                 1.000000  "
      ]
     },
     "execution_count": 41,
     "metadata": {},
     "output_type": "execute_result"
    }
   ],
   "source": [
    "# check collinearity between numeric predictors\n",
    "df[[\"position\", \"hourly_rate\", \"num_completed_tasks\", \"day\", \"hour\"]].corr()"
   ]
  },
  {
   "cell_type": "code",
   "execution_count": 42,
   "id": "98c0cd4f",
   "metadata": {
    "scrolled": false
   },
   "outputs": [
    {
     "data": {
      "image/png": "[encoded data removed]",
      "text/plain": [
       "<Figure size 432x288 with 2 Axes>"
      ]
     },
     "metadata": {
      "needs_background": "light"
     },
     "output_type": "display_data"
    }
   ],
   "source": [
    "sns.heatmap(df[[\"position\", \"hourly_rate\", \"num_completed_tasks\", \"day\", \"hour\"]].corr());"
   ]
  },
  {
   "cell_type": "markdown",
   "id": "7aa920ee",
   "metadata": {},
   "source": [
    "No significant indication of collinearity. Therefore we proceed without droping any predictors. \n",
    "\n",
    "If we are being really careful, the correlation between `hourly rate` and `num_completed_task` is 0.287, which can be called moderate."
   ]
  },
  {
   "cell_type": "code",
   "execution_count": 43,
   "id": "38f6630c",
   "metadata": {},
   "outputs": [],
   "source": [
    "cat_cols = X.columns[X.dtypes == 'O']\n",
    "num_cols = X.columns[X.dtypes == 'int64']"
   ]
  },
  {
   "cell_type": "code",
   "execution_count": 44,
   "id": "d97a3b56",
   "metadata": {
    "scrolled": true
   },
   "outputs": [
    {
     "data": {
      "text/plain": [
       "Index(['category'], dtype='object')"
      ]
     },
     "execution_count": 44,
     "metadata": {},
     "output_type": "execute_result"
    }
   ],
   "source": [
    "cat_cols"
   ]
  },
  {
   "cell_type": "code",
   "execution_count": 45,
   "id": "09f1585c",
   "metadata": {
    "scrolled": true
   },
   "outputs": [
    {
     "data": {
      "text/plain": [
       "Index(['position', 'hourly_rate', 'num_completed_tasks', 'day', 'hour'], dtype='object')"
      ]
     },
     "execution_count": 45,
     "metadata": {},
     "output_type": "execute_result"
    }
   ],
   "source": [
    "num_cols"
   ]
  },
  {
   "cell_type": "code",
   "execution_count": 46,
   "id": "3fd1c5e7",
   "metadata": {
    "scrolled": true
   },
   "outputs": [
    {
     "data": {
      "text/plain": [
       "1705"
      ]
     },
     "execution_count": 46,
     "metadata": {},
     "output_type": "execute_result"
    }
   ],
   "source": [
    "len(df[df[\"hired\"] == 1])"
   ]
  },
  {
   "cell_type": "code",
   "execution_count": 47,
   "id": "dcdeac62",
   "metadata": {},
   "outputs": [
    {
     "data": {
      "text/plain": [
       "28295"
      ]
     },
     "execution_count": 47,
     "metadata": {},
     "output_type": "execute_result"
    }
   ],
   "source": [
    "len(df[df[\"hired\"] == 0])"
   ]
  },
  {
   "cell_type": "code",
   "execution_count": 48,
   "id": "42924e36",
   "metadata": {
    "scrolled": true
   },
   "outputs": [],
   "source": [
    "# split into traning and testing\n",
    "from sklearn import model_selection\n",
    "\n",
    "X_train, X_test, y_train, y_test = model_selection.train_test_split(X, y, test_size = 0.25, random_state = 561, stratify = y)"
   ]
  },
  {
   "cell_type": "code",
   "execution_count": 49,
   "id": "df0abfb7",
   "metadata": {
    "scrolled": true
   },
   "outputs": [
    {
     "name": "stdout",
     "output_type": "stream",
     "text": [
      "(22500, 6) (7500, 6)\n",
      "(22500,) (7500,)\n",
      "21221 1279\n"
     ]
    }
   ],
   "source": [
    "print(X_train.shape, X_test.shape)\n",
    "print(y_train.shape, y_test.shape)\n",
    "print(len(y_train[y_train==0]), len(y_train[y_train==1]))"
   ]
  },
  {
   "cell_type": "code",
   "execution_count": 50,
   "id": "d97b4394",
   "metadata": {
    "scrolled": true
   },
   "outputs": [
    {
     "data": {
      "text/html": [
       "<div>\n",
       "<style scoped>\n",
       "    .dataframe tbody tr th:only-of-type {\n",
       "        vertical-align: middle;\n",
       "    }\n",
       "\n",
       "    .dataframe tbody tr th {\n",
       "        vertical-align: top;\n",
       "    }\n",
       "\n",
       "    .dataframe thead th {\n",
       "        text-align: right;\n",
       "    }\n",
       "</style>\n",
       "<table border=\"1\" class=\"dataframe\">\n",
       "  <thead>\n",
       "    <tr style=\"text-align: right;\">\n",
       "      <th></th>\n",
       "      <th>position</th>\n",
       "      <th>hourly_rate</th>\n",
       "      <th>num_completed_tasks</th>\n",
       "      <th>category</th>\n",
       "      <th>day</th>\n",
       "      <th>hour</th>\n",
       "    </tr>\n",
       "  </thead>\n",
       "  <tbody>\n",
       "    <tr>\n",
       "      <th>4208</th>\n",
       "      <td>11</td>\n",
       "      <td>60</td>\n",
       "      <td>184</td>\n",
       "      <td>Mounting</td>\n",
       "      <td>6</td>\n",
       "      <td>4</td>\n",
       "    </tr>\n",
       "    <tr>\n",
       "      <th>18622</th>\n",
       "      <td>2</td>\n",
       "      <td>42</td>\n",
       "      <td>227</td>\n",
       "      <td>Furniture Assembly</td>\n",
       "      <td>20</td>\n",
       "      <td>20</td>\n",
       "    </tr>\n",
       "    <tr>\n",
       "      <th>21739</th>\n",
       "      <td>11</td>\n",
       "      <td>38</td>\n",
       "      <td>5</td>\n",
       "      <td>Mounting</td>\n",
       "      <td>23</td>\n",
       "      <td>22</td>\n",
       "    </tr>\n",
       "    <tr>\n",
       "      <th>27515</th>\n",
       "      <td>15</td>\n",
       "      <td>35</td>\n",
       "      <td>1</td>\n",
       "      <td>Mounting</td>\n",
       "      <td>28</td>\n",
       "      <td>21</td>\n",
       "    </tr>\n",
       "    <tr>\n",
       "      <th>290</th>\n",
       "      <td>10</td>\n",
       "      <td>180</td>\n",
       "      <td>172</td>\n",
       "      <td>Moving Help</td>\n",
       "      <td>1</td>\n",
       "      <td>14</td>\n",
       "    </tr>\n",
       "  </tbody>\n",
       "</table>\n",
       "</div>"
      ],
      "text/plain": [
       "       position  hourly_rate  num_completed_tasks            category  day  \\\n",
       "4208         11           60                  184            Mounting    6   \n",
       "18622         2           42                  227  Furniture Assembly   20   \n",
       "21739        11           38                    5            Mounting   23   \n",
       "27515        15           35                    1            Mounting   28   \n",
       "290          10          180                  172         Moving Help    1   \n",
       "\n",
       "       hour  \n",
       "4208      4  \n",
       "18622    20  \n",
       "21739    22  \n",
       "27515    21  \n",
       "290      14  "
      ]
     },
     "execution_count": 50,
     "metadata": {},
     "output_type": "execute_result"
    }
   ],
   "source": [
    "X_train.head()"
   ]
  },
  {
   "cell_type": "code",
   "execution_count": 51,
   "id": "903a1227",
   "metadata": {},
   "outputs": [
    {
     "data": {
      "text/html": [
       "<div>\n",
       "<style scoped>\n",
       "    .dataframe tbody tr th:only-of-type {\n",
       "        vertical-align: middle;\n",
       "    }\n",
       "\n",
       "    .dataframe tbody tr th {\n",
       "        vertical-align: top;\n",
       "    }\n",
       "\n",
       "    .dataframe thead th {\n",
       "        text-align: right;\n",
       "    }\n",
       "</style>\n",
       "<table border=\"1\" class=\"dataframe\">\n",
       "  <thead>\n",
       "    <tr style=\"text-align: right;\">\n",
       "      <th></th>\n",
       "      <th>position</th>\n",
       "      <th>hourly_rate</th>\n",
       "      <th>num_completed_tasks</th>\n",
       "      <th>category</th>\n",
       "      <th>day</th>\n",
       "      <th>hour</th>\n",
       "    </tr>\n",
       "  </thead>\n",
       "  <tbody>\n",
       "    <tr>\n",
       "      <th>4037</th>\n",
       "      <td>5</td>\n",
       "      <td>100</td>\n",
       "      <td>220</td>\n",
       "      <td>Moving Help</td>\n",
       "      <td>6</td>\n",
       "      <td>0</td>\n",
       "    </tr>\n",
       "    <tr>\n",
       "      <th>21386</th>\n",
       "      <td>11</td>\n",
       "      <td>70</td>\n",
       "      <td>175</td>\n",
       "      <td>Furniture Assembly</td>\n",
       "      <td>23</td>\n",
       "      <td>16</td>\n",
       "    </tr>\n",
       "    <tr>\n",
       "      <th>21897</th>\n",
       "      <td>4</td>\n",
       "      <td>60</td>\n",
       "      <td>762</td>\n",
       "      <td>Mounting</td>\n",
       "      <td>24</td>\n",
       "      <td>0</td>\n",
       "    </tr>\n",
       "    <tr>\n",
       "      <th>8266</th>\n",
       "      <td>9</td>\n",
       "      <td>42</td>\n",
       "      <td>197</td>\n",
       "      <td>Furniture Assembly</td>\n",
       "      <td>10</td>\n",
       "      <td>0</td>\n",
       "    </tr>\n",
       "    <tr>\n",
       "      <th>1779</th>\n",
       "      <td>8</td>\n",
       "      <td>27</td>\n",
       "      <td>13</td>\n",
       "      <td>Furniture Assembly</td>\n",
       "      <td>2</td>\n",
       "      <td>22</td>\n",
       "    </tr>\n",
       "  </tbody>\n",
       "</table>\n",
       "</div>"
      ],
      "text/plain": [
       "       position  hourly_rate  num_completed_tasks            category  day  \\\n",
       "4037          5          100                  220         Moving Help    6   \n",
       "21386        11           70                  175  Furniture Assembly   23   \n",
       "21897         4           60                  762            Mounting   24   \n",
       "8266          9           42                  197  Furniture Assembly   10   \n",
       "1779          8           27                   13  Furniture Assembly    2   \n",
       "\n",
       "       hour  \n",
       "4037      0  \n",
       "21386    16  \n",
       "21897     0  \n",
       "8266      0  \n",
       "1779     22  "
      ]
     },
     "execution_count": 51,
     "metadata": {},
     "output_type": "execute_result"
    }
   ],
   "source": [
    "X_test.head()"
   ]
  },
  {
   "cell_type": "code",
   "execution_count": 52,
   "id": "84b07cc3",
   "metadata": {},
   "outputs": [],
   "source": [
    "# one hot encoding\n",
    "from sklearn.preprocessing import OneHotEncoder\n",
    "\n",
    "def OneHotEncoding(df, enc, categories):\n",
    "    transformed = pd.DataFrame(enc.transform(df[categories]).toarray(),\n",
    "                               columns = enc.get_feature_names(categories))\n",
    "    return pd.concat([df.reset_index(drop = True), transformed], axis = 1).drop(categories, axis = 1)\n",
    "\n",
    "categories = [\"category\"]\n",
    "enc_ohe = OneHotEncoder()\n",
    "enc_ohe.fit(X_train[categories])\n",
    "\n",
    "X_train = OneHotEncoding(X_train, enc_ohe, categories)\n",
    "X_test = OneHotEncoding(X_test, enc_ohe, categories)"
   ]
  },
  {
   "cell_type": "code",
   "execution_count": 53,
   "id": "c7b1cb1c",
   "metadata": {},
   "outputs": [
    {
     "data": {
      "text/html": [
       "<div>\n",
       "<style scoped>\n",
       "    .dataframe tbody tr th:only-of-type {\n",
       "        vertical-align: middle;\n",
       "    }\n",
       "\n",
       "    .dataframe tbody tr th {\n",
       "        vertical-align: top;\n",
       "    }\n",
       "\n",
       "    .dataframe thead th {\n",
       "        text-align: right;\n",
       "    }\n",
       "</style>\n",
       "<table border=\"1\" class=\"dataframe\">\n",
       "  <thead>\n",
       "    <tr style=\"text-align: right;\">\n",
       "      <th></th>\n",
       "      <th>position</th>\n",
       "      <th>hourly_rate</th>\n",
       "      <th>num_completed_tasks</th>\n",
       "      <th>day</th>\n",
       "      <th>hour</th>\n",
       "      <th>category_Furniture Assembly</th>\n",
       "      <th>category_Mounting</th>\n",
       "      <th>category_Moving Help</th>\n",
       "    </tr>\n",
       "  </thead>\n",
       "  <tbody>\n",
       "    <tr>\n",
       "      <th>0</th>\n",
       "      <td>11</td>\n",
       "      <td>60</td>\n",
       "      <td>184</td>\n",
       "      <td>6</td>\n",
       "      <td>4</td>\n",
       "      <td>0.0</td>\n",
       "      <td>1.0</td>\n",
       "      <td>0.0</td>\n",
       "    </tr>\n",
       "    <tr>\n",
       "      <th>1</th>\n",
       "      <td>2</td>\n",
       "      <td>42</td>\n",
       "      <td>227</td>\n",
       "      <td>20</td>\n",
       "      <td>20</td>\n",
       "      <td>1.0</td>\n",
       "      <td>0.0</td>\n",
       "      <td>0.0</td>\n",
       "    </tr>\n",
       "    <tr>\n",
       "      <th>2</th>\n",
       "      <td>11</td>\n",
       "      <td>38</td>\n",
       "      <td>5</td>\n",
       "      <td>23</td>\n",
       "      <td>22</td>\n",
       "      <td>0.0</td>\n",
       "      <td>1.0</td>\n",
       "      <td>0.0</td>\n",
       "    </tr>\n",
       "    <tr>\n",
       "      <th>3</th>\n",
       "      <td>15</td>\n",
       "      <td>35</td>\n",
       "      <td>1</td>\n",
       "      <td>28</td>\n",
       "      <td>21</td>\n",
       "      <td>0.0</td>\n",
       "      <td>1.0</td>\n",
       "      <td>0.0</td>\n",
       "    </tr>\n",
       "    <tr>\n",
       "      <th>4</th>\n",
       "      <td>10</td>\n",
       "      <td>180</td>\n",
       "      <td>172</td>\n",
       "      <td>1</td>\n",
       "      <td>14</td>\n",
       "      <td>0.0</td>\n",
       "      <td>0.0</td>\n",
       "      <td>1.0</td>\n",
       "    </tr>\n",
       "  </tbody>\n",
       "</table>\n",
       "</div>"
      ],
      "text/plain": [
       "   position  hourly_rate  num_completed_tasks  day  hour  \\\n",
       "0        11           60                  184    6     4   \n",
       "1         2           42                  227   20    20   \n",
       "2        11           38                    5   23    22   \n",
       "3        15           35                    1   28    21   \n",
       "4        10          180                  172    1    14   \n",
       "\n",
       "   category_Furniture Assembly  category_Mounting  category_Moving Help  \n",
       "0                          0.0                1.0                   0.0  \n",
       "1                          1.0                0.0                   0.0  \n",
       "2                          0.0                1.0                   0.0  \n",
       "3                          0.0                1.0                   0.0  \n",
       "4                          0.0                0.0                   1.0  "
      ]
     },
     "execution_count": 53,
     "metadata": {},
     "output_type": "execute_result"
    }
   ],
   "source": [
    "X_train.head()"
   ]
  },
  {
   "cell_type": "code",
   "execution_count": 54,
   "id": "3cc2457b",
   "metadata": {
    "scrolled": true
   },
   "outputs": [
    {
     "data": {
      "text/plain": [
       "4208     0\n",
       "18622    1\n",
       "21739    0\n",
       "27515    0\n",
       "290      0\n",
       "Name: hired, dtype: int64"
      ]
     },
     "execution_count": 54,
     "metadata": {},
     "output_type": "execute_result"
    }
   ],
   "source": [
    "y_train.head()"
   ]
  },
  {
   "cell_type": "code",
   "execution_count": 55,
   "id": "75dbcb93",
   "metadata": {},
   "outputs": [],
   "source": [
    "# standardization\n",
    "# from sklearn.preprocessing import StandardScaler\n",
    "# scaler = StandardScaler()\n",
    "# scaler.fit(X_train[num_cols])\n",
    "# X_train[num_cols] = scaler.transform(X_train[num_cols])\n",
    "# X_test[num_cols] = scaler.transform(X_test[num_cols])"
   ]
  },
  {
   "cell_type": "code",
   "execution_count": 56,
   "id": "93dda47c",
   "metadata": {},
   "outputs": [
    {
     "data": {
      "text/html": [
       "<div>\n",
       "<style scoped>\n",
       "    .dataframe tbody tr th:only-of-type {\n",
       "        vertical-align: middle;\n",
       "    }\n",
       "\n",
       "    .dataframe tbody tr th {\n",
       "        vertical-align: top;\n",
       "    }\n",
       "\n",
       "    .dataframe thead th {\n",
       "        text-align: right;\n",
       "    }\n",
       "</style>\n",
       "<table border=\"1\" class=\"dataframe\">\n",
       "  <thead>\n",
       "    <tr style=\"text-align: right;\">\n",
       "      <th></th>\n",
       "      <th>position</th>\n",
       "      <th>hourly_rate</th>\n",
       "      <th>num_completed_tasks</th>\n",
       "      <th>day</th>\n",
       "      <th>hour</th>\n",
       "      <th>category_Furniture Assembly</th>\n",
       "      <th>category_Mounting</th>\n",
       "      <th>category_Moving Help</th>\n",
       "    </tr>\n",
       "  </thead>\n",
       "  <tbody>\n",
       "    <tr>\n",
       "      <th>0</th>\n",
       "      <td>11</td>\n",
       "      <td>60</td>\n",
       "      <td>184</td>\n",
       "      <td>6</td>\n",
       "      <td>4</td>\n",
       "      <td>0.0</td>\n",
       "      <td>1.0</td>\n",
       "      <td>0.0</td>\n",
       "    </tr>\n",
       "    <tr>\n",
       "      <th>1</th>\n",
       "      <td>2</td>\n",
       "      <td>42</td>\n",
       "      <td>227</td>\n",
       "      <td>20</td>\n",
       "      <td>20</td>\n",
       "      <td>1.0</td>\n",
       "      <td>0.0</td>\n",
       "      <td>0.0</td>\n",
       "    </tr>\n",
       "    <tr>\n",
       "      <th>2</th>\n",
       "      <td>11</td>\n",
       "      <td>38</td>\n",
       "      <td>5</td>\n",
       "      <td>23</td>\n",
       "      <td>22</td>\n",
       "      <td>0.0</td>\n",
       "      <td>1.0</td>\n",
       "      <td>0.0</td>\n",
       "    </tr>\n",
       "    <tr>\n",
       "      <th>3</th>\n",
       "      <td>15</td>\n",
       "      <td>35</td>\n",
       "      <td>1</td>\n",
       "      <td>28</td>\n",
       "      <td>21</td>\n",
       "      <td>0.0</td>\n",
       "      <td>1.0</td>\n",
       "      <td>0.0</td>\n",
       "    </tr>\n",
       "    <tr>\n",
       "      <th>4</th>\n",
       "      <td>10</td>\n",
       "      <td>180</td>\n",
       "      <td>172</td>\n",
       "      <td>1</td>\n",
       "      <td>14</td>\n",
       "      <td>0.0</td>\n",
       "      <td>0.0</td>\n",
       "      <td>1.0</td>\n",
       "    </tr>\n",
       "  </tbody>\n",
       "</table>\n",
       "</div>"
      ],
      "text/plain": [
       "   position  hourly_rate  num_completed_tasks  day  hour  \\\n",
       "0        11           60                  184    6     4   \n",
       "1         2           42                  227   20    20   \n",
       "2        11           38                    5   23    22   \n",
       "3        15           35                    1   28    21   \n",
       "4        10          180                  172    1    14   \n",
       "\n",
       "   category_Furniture Assembly  category_Mounting  category_Moving Help  \n",
       "0                          0.0                1.0                   0.0  \n",
       "1                          1.0                0.0                   0.0  \n",
       "2                          0.0                1.0                   0.0  \n",
       "3                          0.0                1.0                   0.0  \n",
       "4                          0.0                0.0                   1.0  "
      ]
     },
     "execution_count": 56,
     "metadata": {},
     "output_type": "execute_result"
    }
   ],
   "source": [
    "X_train.head()"
   ]
  },
  {
   "cell_type": "code",
   "execution_count": 57,
   "id": "e4e033f6",
   "metadata": {},
   "outputs": [],
   "source": [
    "# logistic regression\n",
    "from sklearn.linear_model import LogisticRegression\n",
    "\n",
    "classifier_LR = LogisticRegression()"
   ]
  },
  {
   "cell_type": "code",
   "execution_count": 58,
   "id": "34754590",
   "metadata": {},
   "outputs": [],
   "source": [
    "# convert date variables into categories \n",
    "# month of the year, day of the week, morning or night"
   ]
  },
  {
   "cell_type": "code",
   "execution_count": 59,
   "id": "33d4ec72",
   "metadata": {},
   "outputs": [
    {
     "name": "stderr",
     "output_type": "stream",
     "text": [
      "C:\\Users\\lilym\\anaconda3\\lib\\site-packages\\sklearn\\linear_model\\_logistic.py:763: ConvergenceWarning: lbfgs failed to converge (status=1):\n",
      "STOP: TOTAL NO. of ITERATIONS REACHED LIMIT.\n",
      "\n",
      "Increase the number of iterations (max_iter) or scale the data as shown in:\n",
      "    https://scikit-learn.org/stable/modules/preprocessing.html\n",
      "Please also refer to the documentation for alternative solver options:\n",
      "    https://scikit-learn.org/stable/modules/linear_model.html#logistic-regression\n",
      "  n_iter_i = _check_optimize_result(\n"
     ]
    },
    {
     "data": {
      "text/plain": [
       "LogisticRegression()"
      ]
     },
     "execution_count": 59,
     "metadata": {},
     "output_type": "execute_result"
    }
   ],
   "source": [
    "# train the model\n",
    "# classifier_LR.fit(X_train.iloc[:,1:3], y_train)\n",
    "classifier_LR.fit(X_train, y_train)"
   ]
  },
  {
   "cell_type": "code",
   "execution_count": 60,
   "id": "f49e3cec",
   "metadata": {},
   "outputs": [
    {
     "data": {
      "text/plain": [
       "array([0, 0, 0, ..., 0, 0, 0], dtype=int64)"
      ]
     },
     "execution_count": 60,
     "metadata": {},
     "output_type": "execute_result"
    }
   ],
   "source": [
    "# predict the test data\n",
    "classifier_LR.predict(X_test)"
   ]
  },
  {
   "cell_type": "code",
   "execution_count": 61,
   "id": "dca402c2",
   "metadata": {
    "scrolled": true
   },
   "outputs": [
    {
     "data": {
      "text/plain": [
       "0.9432"
      ]
     },
     "execution_count": 61,
     "metadata": {},
     "output_type": "execute_result"
    }
   ],
   "source": [
    "# accuracy of test data\n",
    "classifier_LR.score(X_test, y_test) # accuracy "
   ]
  },
  {
   "cell_type": "code",
   "execution_count": 62,
   "id": "ad51861c",
   "metadata": {},
   "outputs": [
    {
     "data": {
      "text/plain": [
       "(7500,)"
      ]
     },
     "execution_count": 62,
     "metadata": {},
     "output_type": "execute_result"
    }
   ],
   "source": [
    "y_test.shape"
   ]
  },
  {
   "cell_type": "code",
   "execution_count": 63,
   "id": "46996922",
   "metadata": {},
   "outputs": [
    {
     "data": {
      "text/plain": [
       "0.7794052743565341"
      ]
     },
     "execution_count": 63,
     "metadata": {},
     "output_type": "execute_result"
    }
   ],
   "source": [
    "# roc_auc of test data\n",
    "from sklearn.metrics import roc_auc_score\n",
    "roc_auc_score(y_test, classifier_LR.predict_proba(X_test)[:, 1])"
   ]
  },
  {
   "cell_type": "code",
   "execution_count": 64,
   "id": "b979fc1f",
   "metadata": {},
   "outputs": [
    {
     "data": {
      "text/plain": [
       "array([[0.94390266, 0.05609734],\n",
       "       [0.98821172, 0.01178828],\n",
       "       [0.85911818, 0.14088182],\n",
       "       ...,\n",
       "       [0.98429836, 0.01570164],\n",
       "       [0.96927536, 0.03072464],\n",
       "       [0.98363148, 0.01636852]])"
      ]
     },
     "execution_count": 64,
     "metadata": {},
     "output_type": "execute_result"
    }
   ],
   "source": [
    "classifier_LR.predict_proba(X_test)"
   ]
  },
  {
   "cell_type": "code",
   "execution_count": 65,
   "id": "19e4f1f8",
   "metadata": {
    "scrolled": true
   },
   "outputs": [
    {
     "data": {
      "text/plain": [
       "array([0.05609734, 0.01178828, 0.14088182, ..., 0.01570164, 0.03072464,\n",
       "       0.01636852])"
      ]
     },
     "execution_count": 65,
     "metadata": {},
     "output_type": "execute_result"
    }
   ],
   "source": [
    "classifier_LR.predict_proba(X_test)[:, 1]"
   ]
  },
  {
   "cell_type": "code",
   "execution_count": 66,
   "id": "0cc2fc68",
   "metadata": {
    "scrolled": true
   },
   "outputs": [
    {
     "data": {
      "text/plain": [
       "GridSearchCV(cv=5, estimator=LogisticRegression(solver='liblinear'),\n",
       "             param_grid={'C': (0.005, 0.01, 0.05, 0.1),\n",
       "                         'penalty': ('l1', 'l2')},\n",
       "             scoring='roc_auc')"
      ]
     },
     "execution_count": 66,
     "metadata": {},
     "output_type": "execute_result"
    }
   ],
   "source": [
    "# todo: specify the metric as AUC score, not accuracy \n",
    "# use grid search to find the optimal hyperparameter\n",
    "from sklearn.model_selection import GridSearchCV\n",
    "parameters = {\n",
    "    \"penalty\" : (\"l1\", \"l2\"),\n",
    "    \"C\" : (0.005, 0.01, 0.05, 0.1)\n",
    "}\n",
    "grid_LR = GridSearchCV(LogisticRegression(solver = \"liblinear\"), \n",
    "                       parameters, cv = 5, scoring = 'roc_auc')\n",
    "grid_LR.fit(X_train, y_train)"
   ]
  },
  {
   "cell_type": "code",
   "execution_count": 67,
   "id": "a560d49b",
   "metadata": {},
   "outputs": [
    {
     "data": {
      "text/plain": [
       "(0.77428991799508, {'C': 0.1, 'penalty': 'l2'})"
      ]
     },
     "execution_count": 67,
     "metadata": {},
     "output_type": "execute_result"
    }
   ],
   "source": [
    "(grid_LR.best_score_, grid_LR.best_params_)"
   ]
  },
  {
   "cell_type": "code",
   "execution_count": 68,
   "id": "4de43ba9",
   "metadata": {
    "scrolled": true
   },
   "outputs": [
    {
     "data": {
      "text/plain": [
       "0.9432"
      ]
     },
     "execution_count": 68,
     "metadata": {},
     "output_type": "execute_result"
    }
   ],
   "source": [
    "# best model\n",
    "best_LR_model = grid_LR.best_estimator_\n",
    "best_LR_model.predict(X_test)\n",
    "best_LR_model.score(X_test, y_test)"
   ]
  },
  {
   "cell_type": "code",
   "execution_count": 69,
   "id": "6f0d84a1",
   "metadata": {},
   "outputs": [
    {
     "data": {
      "text/plain": [
       "0.7793017410845243"
      ]
     },
     "execution_count": 69,
     "metadata": {},
     "output_type": "execute_result"
    }
   ],
   "source": [
    "roc_auc_score(y_test, best_LR_model.predict_proba(X_test)[:, 1])"
   ]
  },
  {
   "cell_type": "code",
   "execution_count": 70,
   "id": "f5c80c7c",
   "metadata": {
    "scrolled": true
   },
   "outputs": [
    {
     "data": {
      "text/plain": [
       "array([[7074,    0],\n",
       "       [ 426,    0]], dtype=int64)"
      ]
     },
     "execution_count": 70,
     "metadata": {},
     "output_type": "execute_result"
    }
   ],
   "source": [
    "# model evalution \n",
    "from sklearn.metrics import confusion_matrix\n",
    "cm = confusion_matrix(y_test, best_LR_model.predict(X_test))\n",
    "cm"
   ]
  },
  {
   "cell_type": "code",
   "execution_count": 71,
   "id": "66c6cc95",
   "metadata": {
    "scrolled": true
   },
   "outputs": [
    {
     "name": "stderr",
     "output_type": "stream",
     "text": [
      "<ipython-input-71-344bb3b0d023>:6: RuntimeWarning: invalid value encountered in true_divide\n",
      "  precision = tp / (tp + fp + 0.0)\n"
     ]
    }
   ],
   "source": [
    "tn = cm[0][0]\n",
    "fp = cm[0][1]\n",
    "fn = cm[1][0]\n",
    "tp = cm[1][1]\n",
    "accuracy = (tp + tn) / (tp + fp + fn + tn + 0.0)\n",
    "precision = tp / (tp + fp + 0.0)\n",
    "recall = tp / (tp + fn + 0.0)\n",
    "f1 = 2 * precision * recall / (precision + recall)"
   ]
  },
  {
   "cell_type": "code",
   "execution_count": 72,
   "id": "8ea109f2",
   "metadata": {
    "scrolled": false
   },
   "outputs": [
    {
     "data": {
      "text/plain": [
       "(0.9432, nan, 0.0, nan)"
      ]
     },
     "execution_count": 72,
     "metadata": {},
     "output_type": "execute_result"
    }
   ],
   "source": [
    "(accuracy, precision, recall, f1)"
   ]
  },
  {
   "cell_type": "code",
   "execution_count": 73,
   "id": "b749ebdb",
   "metadata": {},
   "outputs": [],
   "source": [
    "fitted = best_LR_model.fit(X_train, y_train)"
   ]
  },
  {
   "cell_type": "code",
   "execution_count": 74,
   "id": "33995ec6",
   "metadata": {
    "scrolled": true
   },
   "outputs": [
    {
     "data": {
      "image/png": "[encoded data removed]",
      "text/plain": [
       "<Figure size 432x288 with 1 Axes>"
      ]
     },
     "metadata": {
      "needs_background": "light"
     },
     "output_type": "display_data"
    }
   ],
   "source": [
    "# ROC curve\n",
    "from sklearn.metrics import roc_curve\n",
    "import matplotlib.pyplot as plt\n",
    "\n",
    "y_pred_lr = fitted.predict_proba(X_test)[:, 1]\n",
    "fpr_lr, tpr_lr, thresh = roc_curve(y_test, y_pred_lr)\n",
    "\n",
    "plt.figure(1)\n",
    "plt.plot([0, 1], [0, 1], label = \"0.5\")\n",
    "plt.plot(fpr_lr, tpr_lr, label = 'LR')\n",
    "plt.xlabel(\"False positive rate\")\n",
    "plt.ylabel(\"True positive rate\")\n",
    "plt.title(\"ROC curve - LR Model\")\n",
    "plt.legend(loc = 'best')\n",
    "plt.show()"
   ]
  },
  {
   "cell_type": "code",
   "execution_count": 75,
   "id": "2fdcb0ea",
   "metadata": {},
   "outputs": [
    {
     "data": {
      "text/plain": [
       "array([0.05781217, 0.01148362, 0.14227323, ..., 0.01559481, 0.03160566,\n",
       "       0.01631132])"
      ]
     },
     "execution_count": 75,
     "metadata": {},
     "output_type": "execute_result"
    }
   ],
   "source": [
    "y_pred_lr"
   ]
  },
  {
   "cell_type": "code",
   "execution_count": 76,
   "id": "e2c68bd3",
   "metadata": {},
   "outputs": [
    {
     "data": {
      "text/plain": [
       "(7074, 426)"
      ]
     },
     "execution_count": 76,
     "metadata": {},
     "output_type": "execute_result"
    }
   ],
   "source": [
    "(y_test == 0).sum(), (y_test == 1).sum()"
   ]
  },
  {
   "cell_type": "code",
   "execution_count": 77,
   "id": "427f3239",
   "metadata": {
    "scrolled": true
   },
   "outputs": [
    {
     "data": {
      "text/plain": [
       "0.7793017410845243"
      ]
     },
     "execution_count": 77,
     "metadata": {},
     "output_type": "execute_result"
    }
   ],
   "source": [
    "# AUC score\n",
    "from sklearn import metrics\n",
    "metrics.auc(fpr_lr, tpr_lr)"
   ]
  },
  {
   "cell_type": "code",
   "execution_count": 78,
   "id": "794f6a61",
   "metadata": {
    "scrolled": true
   },
   "outputs": [
    {
     "name": "stdout",
     "output_type": "stream",
     "text": [
      "[[-0.26392325 -0.00801938  0.00104776  0.00128793 -0.00273227 -0.37085942\n",
      "  -0.29980685 -0.11850982]]\n"
     ]
    },
    {
     "data": {
      "text/plain": [
       "numpy.ndarray"
      ]
     },
     "execution_count": 78,
     "metadata": {},
     "output_type": "execute_result"
    }
   ],
   "source": [
    "# feature importance \n",
    "print(best_LR_model.coef_)\n",
    "type(best_LR_model.coef_)"
   ]
  },
  {
   "cell_type": "code",
   "execution_count": 79,
   "id": "1fc1160d",
   "metadata": {},
   "outputs": [],
   "source": [
    "coef_df = pd.DataFrame(best_LR_model.coef_)"
   ]
  },
  {
   "cell_type": "code",
   "execution_count": 80,
   "id": "78e41e12",
   "metadata": {
    "scrolled": true
   },
   "outputs": [],
   "source": [
    "coef_df.columns = X_train.columns\n",
    "coef_df.index = [\"coefficient\"]"
   ]
  },
  {
   "cell_type": "code",
   "execution_count": 81,
   "id": "f00011fe",
   "metadata": {},
   "outputs": [
    {
     "data": {
      "text/html": [
       "<div>\n",
       "<style scoped>\n",
       "    .dataframe tbody tr th:only-of-type {\n",
       "        vertical-align: middle;\n",
       "    }\n",
       "\n",
       "    .dataframe tbody tr th {\n",
       "        vertical-align: top;\n",
       "    }\n",
       "\n",
       "    .dataframe thead th {\n",
       "        text-align: right;\n",
       "    }\n",
       "</style>\n",
       "<table border=\"1\" class=\"dataframe\">\n",
       "  <thead>\n",
       "    <tr style=\"text-align: right;\">\n",
       "      <th></th>\n",
       "      <th>position</th>\n",
       "      <th>hourly_rate</th>\n",
       "      <th>num_completed_tasks</th>\n",
       "      <th>day</th>\n",
       "      <th>hour</th>\n",
       "      <th>category_Furniture Assembly</th>\n",
       "      <th>category_Mounting</th>\n",
       "      <th>category_Moving Help</th>\n",
       "    </tr>\n",
       "  </thead>\n",
       "  <tbody>\n",
       "    <tr>\n",
       "      <th>coefficient</th>\n",
       "      <td>-0.263923</td>\n",
       "      <td>-0.008019</td>\n",
       "      <td>0.001048</td>\n",
       "      <td>0.001288</td>\n",
       "      <td>-0.002732</td>\n",
       "      <td>-0.370859</td>\n",
       "      <td>-0.299807</td>\n",
       "      <td>-0.11851</td>\n",
       "    </tr>\n",
       "  </tbody>\n",
       "</table>\n",
       "</div>"
      ],
      "text/plain": [
       "             position  hourly_rate  num_completed_tasks       day      hour  \\\n",
       "coefficient -0.263923    -0.008019             0.001048  0.001288 -0.002732   \n",
       "\n",
       "             category_Furniture Assembly  category_Mounting  \\\n",
       "coefficient                    -0.370859          -0.299807   \n",
       "\n",
       "             category_Moving Help  \n",
       "coefficient              -0.11851  "
      ]
     },
     "execution_count": 81,
     "metadata": {},
     "output_type": "execute_result"
    }
   ],
   "source": [
    "coef_df"
   ]
  },
  {
   "cell_type": "code",
   "execution_count": 82,
   "id": "4705975b",
   "metadata": {
    "scrolled": true
   },
   "outputs": [
    {
     "data": {
      "text/html": [
       "<div>\n",
       "<style scoped>\n",
       "    .dataframe tbody tr th:only-of-type {\n",
       "        vertical-align: middle;\n",
       "    }\n",
       "\n",
       "    .dataframe tbody tr th {\n",
       "        vertical-align: top;\n",
       "    }\n",
       "\n",
       "    .dataframe thead th {\n",
       "        text-align: right;\n",
       "    }\n",
       "</style>\n",
       "<table border=\"1\" class=\"dataframe\">\n",
       "  <thead>\n",
       "    <tr style=\"text-align: right;\">\n",
       "      <th></th>\n",
       "      <th>coefficient</th>\n",
       "    </tr>\n",
       "  </thead>\n",
       "  <tbody>\n",
       "    <tr>\n",
       "      <th>category_Furniture Assembly</th>\n",
       "      <td>-0.370859</td>\n",
       "    </tr>\n",
       "    <tr>\n",
       "      <th>category_Mounting</th>\n",
       "      <td>-0.299807</td>\n",
       "    </tr>\n",
       "    <tr>\n",
       "      <th>position</th>\n",
       "      <td>-0.263923</td>\n",
       "    </tr>\n",
       "    <tr>\n",
       "      <th>category_Moving Help</th>\n",
       "      <td>-0.118510</td>\n",
       "    </tr>\n",
       "    <tr>\n",
       "      <th>hourly_rate</th>\n",
       "      <td>-0.008019</td>\n",
       "    </tr>\n",
       "    <tr>\n",
       "      <th>hour</th>\n",
       "      <td>-0.002732</td>\n",
       "    </tr>\n",
       "    <tr>\n",
       "      <th>num_completed_tasks</th>\n",
       "      <td>0.001048</td>\n",
       "    </tr>\n",
       "    <tr>\n",
       "      <th>day</th>\n",
       "      <td>0.001288</td>\n",
       "    </tr>\n",
       "  </tbody>\n",
       "</table>\n",
       "</div>"
      ],
      "text/plain": [
       "                             coefficient\n",
       "category_Furniture Assembly    -0.370859\n",
       "category_Mounting              -0.299807\n",
       "position                       -0.263923\n",
       "category_Moving Help           -0.118510\n",
       "hourly_rate                    -0.008019\n",
       "hour                           -0.002732\n",
       "num_completed_tasks             0.001048\n",
       "day                             0.001288"
      ]
     },
     "execution_count": 82,
     "metadata": {},
     "output_type": "execute_result"
    }
   ],
   "source": [
    "coef_df.transpose().sort_values(by = \"coefficient\")"
   ]
  },
  {
   "cell_type": "markdown",
   "id": "889e43f1",
   "metadata": {},
   "source": [
    "## Answer to question 7: \n",
    "The feature importance are listed above from high to low."
   ]
  },
  {
   "cell_type": "markdown",
   "id": "b9610273",
   "metadata": {},
   "source": [
    "## Q7: Attempt to drop `position`"
   ]
  },
  {
   "cell_type": "code",
   "execution_count": 86,
   "id": "24ff3d4d",
   "metadata": {},
   "outputs": [
    {
     "data": {
      "text/html": [
       "<div>\n",
       "<style scoped>\n",
       "    .dataframe tbody tr th:only-of-type {\n",
       "        vertical-align: middle;\n",
       "    }\n",
       "\n",
       "    .dataframe tbody tr th {\n",
       "        vertical-align: top;\n",
       "    }\n",
       "\n",
       "    .dataframe thead th {\n",
       "        text-align: right;\n",
       "    }\n",
       "</style>\n",
       "<table border=\"1\" class=\"dataframe\">\n",
       "  <thead>\n",
       "    <tr style=\"text-align: right;\">\n",
       "      <th></th>\n",
       "      <th>recommendation_id</th>\n",
       "      <th>created_at</th>\n",
       "      <th>tasker_id</th>\n",
       "      <th>position</th>\n",
       "      <th>hourly_rate</th>\n",
       "      <th>num_completed_tasks</th>\n",
       "      <th>hired</th>\n",
       "      <th>category</th>\n",
       "      <th>day</th>\n",
       "      <th>hour</th>\n",
       "    </tr>\n",
       "  </thead>\n",
       "  <tbody>\n",
       "    <tr>\n",
       "      <th>0</th>\n",
       "      <td>0-0-70cf97d7-37af-4834-901c-ce3ad4893b8c</td>\n",
       "      <td>2017-09-01 00:32:00</td>\n",
       "      <td>1009185352</td>\n",
       "      <td>1</td>\n",
       "      <td>38</td>\n",
       "      <td>151</td>\n",
       "      <td>0</td>\n",
       "      <td>Furniture Assembly</td>\n",
       "      <td>1</td>\n",
       "      <td>0</td>\n",
       "    </tr>\n",
       "    <tr>\n",
       "      <th>1</th>\n",
       "      <td>0-0-70cf97d7-37af-4834-901c-ce3ad4893b8c</td>\n",
       "      <td>2017-09-01 00:32:00</td>\n",
       "      <td>1006892359</td>\n",
       "      <td>2</td>\n",
       "      <td>40</td>\n",
       "      <td>193</td>\n",
       "      <td>0</td>\n",
       "      <td>Furniture Assembly</td>\n",
       "      <td>1</td>\n",
       "      <td>0</td>\n",
       "    </tr>\n",
       "    <tr>\n",
       "      <th>2</th>\n",
       "      <td>0-0-70cf97d7-37af-4834-901c-ce3ad4893b8c</td>\n",
       "      <td>2017-09-01 00:32:00</td>\n",
       "      <td>1012023956</td>\n",
       "      <td>3</td>\n",
       "      <td>28</td>\n",
       "      <td>0</td>\n",
       "      <td>0</td>\n",
       "      <td>Furniture Assembly</td>\n",
       "      <td>1</td>\n",
       "      <td>0</td>\n",
       "    </tr>\n",
       "    <tr>\n",
       "      <th>3</th>\n",
       "      <td>0-0-70cf97d7-37af-4834-901c-ce3ad4893b8c</td>\n",
       "      <td>2017-09-01 00:32:00</td>\n",
       "      <td>1009733517</td>\n",
       "      <td>4</td>\n",
       "      <td>43</td>\n",
       "      <td>303</td>\n",
       "      <td>0</td>\n",
       "      <td>Furniture Assembly</td>\n",
       "      <td>1</td>\n",
       "      <td>0</td>\n",
       "    </tr>\n",
       "    <tr>\n",
       "      <th>4</th>\n",
       "      <td>0-0-70cf97d7-37af-4834-901c-ce3ad4893b8c</td>\n",
       "      <td>2017-09-01 00:32:00</td>\n",
       "      <td>1013579273</td>\n",
       "      <td>5</td>\n",
       "      <td>29</td>\n",
       "      <td>39</td>\n",
       "      <td>0</td>\n",
       "      <td>Furniture Assembly</td>\n",
       "      <td>1</td>\n",
       "      <td>0</td>\n",
       "    </tr>\n",
       "  </tbody>\n",
       "</table>\n",
       "</div>"
      ],
      "text/plain": [
       "                          recommendation_id          created_at   tasker_id  \\\n",
       "0  0-0-70cf97d7-37af-4834-901c-ce3ad4893b8c 2017-09-01 00:32:00  1009185352   \n",
       "1  0-0-70cf97d7-37af-4834-901c-ce3ad4893b8c 2017-09-01 00:32:00  1006892359   \n",
       "2  0-0-70cf97d7-37af-4834-901c-ce3ad4893b8c 2017-09-01 00:32:00  1012023956   \n",
       "3  0-0-70cf97d7-37af-4834-901c-ce3ad4893b8c 2017-09-01 00:32:00  1009733517   \n",
       "4  0-0-70cf97d7-37af-4834-901c-ce3ad4893b8c 2017-09-01 00:32:00  1013579273   \n",
       "\n",
       "   position  hourly_rate  num_completed_tasks  hired            category  day  \\\n",
       "0         1           38                  151      0  Furniture Assembly    1   \n",
       "1         2           40                  193      0  Furniture Assembly    1   \n",
       "2         3           28                    0      0  Furniture Assembly    1   \n",
       "3         4           43                  303      0  Furniture Assembly    1   \n",
       "4         5           29                   39      0  Furniture Assembly    1   \n",
       "\n",
       "   hour  \n",
       "0     0  \n",
       "1     0  \n",
       "2     0  \n",
       "3     0  \n",
       "4     0  "
      ]
     },
     "execution_count": 86,
     "metadata": {},
     "output_type": "execute_result"
    }
   ],
   "source": [
    "df.head()"
   ]
  },
  {
   "cell_type": "code",
   "execution_count": 88,
   "id": "320cb331",
   "metadata": {
    "scrolled": true
   },
   "outputs": [
    {
     "data": {
      "text/html": [
       "<div>\n",
       "<style scoped>\n",
       "    .dataframe tbody tr th:only-of-type {\n",
       "        vertical-align: middle;\n",
       "    }\n",
       "\n",
       "    .dataframe tbody tr th {\n",
       "        vertical-align: top;\n",
       "    }\n",
       "\n",
       "    .dataframe thead th {\n",
       "        text-align: right;\n",
       "    }\n",
       "</style>\n",
       "<table border=\"1\" class=\"dataframe\">\n",
       "  <thead>\n",
       "    <tr style=\"text-align: right;\">\n",
       "      <th></th>\n",
       "      <th>hourly_rate</th>\n",
       "      <th>num_completed_tasks</th>\n",
       "      <th>category</th>\n",
       "      <th>day</th>\n",
       "      <th>hour</th>\n",
       "    </tr>\n",
       "  </thead>\n",
       "  <tbody>\n",
       "    <tr>\n",
       "      <th>0</th>\n",
       "      <td>38</td>\n",
       "      <td>151</td>\n",
       "      <td>Furniture Assembly</td>\n",
       "      <td>1</td>\n",
       "      <td>0</td>\n",
       "    </tr>\n",
       "    <tr>\n",
       "      <th>1</th>\n",
       "      <td>40</td>\n",
       "      <td>193</td>\n",
       "      <td>Furniture Assembly</td>\n",
       "      <td>1</td>\n",
       "      <td>0</td>\n",
       "    </tr>\n",
       "    <tr>\n",
       "      <th>2</th>\n",
       "      <td>28</td>\n",
       "      <td>0</td>\n",
       "      <td>Furniture Assembly</td>\n",
       "      <td>1</td>\n",
       "      <td>0</td>\n",
       "    </tr>\n",
       "    <tr>\n",
       "      <th>3</th>\n",
       "      <td>43</td>\n",
       "      <td>303</td>\n",
       "      <td>Furniture Assembly</td>\n",
       "      <td>1</td>\n",
       "      <td>0</td>\n",
       "    </tr>\n",
       "    <tr>\n",
       "      <th>4</th>\n",
       "      <td>29</td>\n",
       "      <td>39</td>\n",
       "      <td>Furniture Assembly</td>\n",
       "      <td>1</td>\n",
       "      <td>0</td>\n",
       "    </tr>\n",
       "  </tbody>\n",
       "</table>\n",
       "</div>"
      ],
      "text/plain": [
       "   hourly_rate  num_completed_tasks            category  day  hour\n",
       "0           38                  151  Furniture Assembly    1     0\n",
       "1           40                  193  Furniture Assembly    1     0\n",
       "2           28                    0  Furniture Assembly    1     0\n",
       "3           43                  303  Furniture Assembly    1     0\n",
       "4           29                   39  Furniture Assembly    1     0"
      ]
     },
     "execution_count": 88,
     "metadata": {},
     "output_type": "execute_result"
    }
   ],
   "source": [
    "to_drop = [\"position\", \"hired\", \"recommendation_id\", \"tasker_id\", \"created_at\"]\n",
    "\n",
    "y = df[\"hired\"]\n",
    "X = df.drop(to_drop, axis = 1)\n",
    "X.head()"
   ]
  },
  {
   "cell_type": "code",
   "execution_count": 89,
   "id": "0592358d",
   "metadata": {},
   "outputs": [],
   "source": [
    "# split into traning and testing\n",
    "from sklearn import model_selection\n",
    "\n",
    "X_train, X_test, y_train, y_test = model_selection.train_test_split(X, y, test_size = 0.25, random_state = 561, stratify = y)"
   ]
  },
  {
   "cell_type": "code",
   "execution_count": 90,
   "id": "a9738714",
   "metadata": {},
   "outputs": [
    {
     "name": "stdout",
     "output_type": "stream",
     "text": [
      "(22500, 5) (7500, 5)\n",
      "(22500,) (7500,)\n",
      "21221 1279\n"
     ]
    }
   ],
   "source": [
    "print(X_train.shape, X_test.shape)\n",
    "print(y_train.shape, y_test.shape)\n",
    "print(len(y_train[y_train==0]), len(y_train[y_train==1]))"
   ]
  },
  {
   "cell_type": "code",
   "execution_count": 91,
   "id": "9c3ce572",
   "metadata": {},
   "outputs": [
    {
     "data": {
      "text/html": [
       "<div>\n",
       "<style scoped>\n",
       "    .dataframe tbody tr th:only-of-type {\n",
       "        vertical-align: middle;\n",
       "    }\n",
       "\n",
       "    .dataframe tbody tr th {\n",
       "        vertical-align: top;\n",
       "    }\n",
       "\n",
       "    .dataframe thead th {\n",
       "        text-align: right;\n",
       "    }\n",
       "</style>\n",
       "<table border=\"1\" class=\"dataframe\">\n",
       "  <thead>\n",
       "    <tr style=\"text-align: right;\">\n",
       "      <th></th>\n",
       "      <th>hourly_rate</th>\n",
       "      <th>num_completed_tasks</th>\n",
       "      <th>category</th>\n",
       "      <th>day</th>\n",
       "      <th>hour</th>\n",
       "    </tr>\n",
       "  </thead>\n",
       "  <tbody>\n",
       "    <tr>\n",
       "      <th>4208</th>\n",
       "      <td>60</td>\n",
       "      <td>184</td>\n",
       "      <td>Mounting</td>\n",
       "      <td>6</td>\n",
       "      <td>4</td>\n",
       "    </tr>\n",
       "    <tr>\n",
       "      <th>18622</th>\n",
       "      <td>42</td>\n",
       "      <td>227</td>\n",
       "      <td>Furniture Assembly</td>\n",
       "      <td>20</td>\n",
       "      <td>20</td>\n",
       "    </tr>\n",
       "    <tr>\n",
       "      <th>21739</th>\n",
       "      <td>38</td>\n",
       "      <td>5</td>\n",
       "      <td>Mounting</td>\n",
       "      <td>23</td>\n",
       "      <td>22</td>\n",
       "    </tr>\n",
       "    <tr>\n",
       "      <th>27515</th>\n",
       "      <td>35</td>\n",
       "      <td>1</td>\n",
       "      <td>Mounting</td>\n",
       "      <td>28</td>\n",
       "      <td>21</td>\n",
       "    </tr>\n",
       "    <tr>\n",
       "      <th>290</th>\n",
       "      <td>180</td>\n",
       "      <td>172</td>\n",
       "      <td>Moving Help</td>\n",
       "      <td>1</td>\n",
       "      <td>14</td>\n",
       "    </tr>\n",
       "  </tbody>\n",
       "</table>\n",
       "</div>"
      ],
      "text/plain": [
       "       hourly_rate  num_completed_tasks            category  day  hour\n",
       "4208            60                  184            Mounting    6     4\n",
       "18622           42                  227  Furniture Assembly   20    20\n",
       "21739           38                    5            Mounting   23    22\n",
       "27515           35                    1            Mounting   28    21\n",
       "290            180                  172         Moving Help    1    14"
      ]
     },
     "execution_count": 91,
     "metadata": {},
     "output_type": "execute_result"
    }
   ],
   "source": [
    "X_train.head()"
   ]
  },
  {
   "cell_type": "code",
   "execution_count": 92,
   "id": "d8e2942c",
   "metadata": {
    "scrolled": true
   },
   "outputs": [
    {
     "data": {
      "text/html": [
       "<div>\n",
       "<style scoped>\n",
       "    .dataframe tbody tr th:only-of-type {\n",
       "        vertical-align: middle;\n",
       "    }\n",
       "\n",
       "    .dataframe tbody tr th {\n",
       "        vertical-align: top;\n",
       "    }\n",
       "\n",
       "    .dataframe thead th {\n",
       "        text-align: right;\n",
       "    }\n",
       "</style>\n",
       "<table border=\"1\" class=\"dataframe\">\n",
       "  <thead>\n",
       "    <tr style=\"text-align: right;\">\n",
       "      <th></th>\n",
       "      <th>hourly_rate</th>\n",
       "      <th>num_completed_tasks</th>\n",
       "      <th>category</th>\n",
       "      <th>day</th>\n",
       "      <th>hour</th>\n",
       "    </tr>\n",
       "  </thead>\n",
       "  <tbody>\n",
       "    <tr>\n",
       "      <th>4037</th>\n",
       "      <td>100</td>\n",
       "      <td>220</td>\n",
       "      <td>Moving Help</td>\n",
       "      <td>6</td>\n",
       "      <td>0</td>\n",
       "    </tr>\n",
       "    <tr>\n",
       "      <th>21386</th>\n",
       "      <td>70</td>\n",
       "      <td>175</td>\n",
       "      <td>Furniture Assembly</td>\n",
       "      <td>23</td>\n",
       "      <td>16</td>\n",
       "    </tr>\n",
       "    <tr>\n",
       "      <th>21897</th>\n",
       "      <td>60</td>\n",
       "      <td>762</td>\n",
       "      <td>Mounting</td>\n",
       "      <td>24</td>\n",
       "      <td>0</td>\n",
       "    </tr>\n",
       "    <tr>\n",
       "      <th>8266</th>\n",
       "      <td>42</td>\n",
       "      <td>197</td>\n",
       "      <td>Furniture Assembly</td>\n",
       "      <td>10</td>\n",
       "      <td>0</td>\n",
       "    </tr>\n",
       "    <tr>\n",
       "      <th>1779</th>\n",
       "      <td>27</td>\n",
       "      <td>13</td>\n",
       "      <td>Furniture Assembly</td>\n",
       "      <td>2</td>\n",
       "      <td>22</td>\n",
       "    </tr>\n",
       "  </tbody>\n",
       "</table>\n",
       "</div>"
      ],
      "text/plain": [
       "       hourly_rate  num_completed_tasks            category  day  hour\n",
       "4037           100                  220         Moving Help    6     0\n",
       "21386           70                  175  Furniture Assembly   23    16\n",
       "21897           60                  762            Mounting   24     0\n",
       "8266            42                  197  Furniture Assembly   10     0\n",
       "1779            27                   13  Furniture Assembly    2    22"
      ]
     },
     "execution_count": 92,
     "metadata": {},
     "output_type": "execute_result"
    }
   ],
   "source": [
    "X_test.head()"
   ]
  },
  {
   "cell_type": "code",
   "execution_count": 96,
   "id": "dc2d967d",
   "metadata": {},
   "outputs": [],
   "source": [
    "# one hot encoding\n",
    "from sklearn.preprocessing import OneHotEncoder\n",
    "\n",
    "def OneHotEncoding(df, enc, categories):\n",
    "    transformed = pd.DataFrame(enc.transform(df[categories]).toarray(),\n",
    "                               columns = enc.get_feature_names(categories))\n",
    "    return pd.concat([df.reset_index(drop = True), transformed], axis = 1).drop(categories, axis = 1)\n",
    "\n",
    "categories = [\"category\"]\n",
    "enc_ohe = OneHotEncoder()\n",
    "enc_ohe.fit(X_train[categories])\n",
    "\n",
    "X_train = OneHotEncoding(X_train, enc_ohe, categories)\n",
    "X_test = OneHotEncoding(X_test, enc_ohe, categories)"
   ]
  },
  {
   "cell_type": "code",
   "execution_count": 102,
   "id": "80ca6df2",
   "metadata": {
    "scrolled": true
   },
   "outputs": [
    {
     "data": {
      "text/html": [
       "<div>\n",
       "<style scoped>\n",
       "    .dataframe tbody tr th:only-of-type {\n",
       "        vertical-align: middle;\n",
       "    }\n",
       "\n",
       "    .dataframe tbody tr th {\n",
       "        vertical-align: top;\n",
       "    }\n",
       "\n",
       "    .dataframe thead th {\n",
       "        text-align: right;\n",
       "    }\n",
       "</style>\n",
       "<table border=\"1\" class=\"dataframe\">\n",
       "  <thead>\n",
       "    <tr style=\"text-align: right;\">\n",
       "      <th></th>\n",
       "      <th>hourly_rate</th>\n",
       "      <th>num_completed_tasks</th>\n",
       "      <th>day</th>\n",
       "      <th>hour</th>\n",
       "      <th>category_Furniture Assembly</th>\n",
       "      <th>category_Mounting</th>\n",
       "      <th>category_Moving Help</th>\n",
       "    </tr>\n",
       "  </thead>\n",
       "  <tbody>\n",
       "    <tr>\n",
       "      <th>0</th>\n",
       "      <td>60</td>\n",
       "      <td>184</td>\n",
       "      <td>6</td>\n",
       "      <td>4</td>\n",
       "      <td>0.0</td>\n",
       "      <td>1.0</td>\n",
       "      <td>0.0</td>\n",
       "    </tr>\n",
       "    <tr>\n",
       "      <th>1</th>\n",
       "      <td>42</td>\n",
       "      <td>227</td>\n",
       "      <td>20</td>\n",
       "      <td>20</td>\n",
       "      <td>1.0</td>\n",
       "      <td>0.0</td>\n",
       "      <td>0.0</td>\n",
       "    </tr>\n",
       "    <tr>\n",
       "      <th>2</th>\n",
       "      <td>38</td>\n",
       "      <td>5</td>\n",
       "      <td>23</td>\n",
       "      <td>22</td>\n",
       "      <td>0.0</td>\n",
       "      <td>1.0</td>\n",
       "      <td>0.0</td>\n",
       "    </tr>\n",
       "    <tr>\n",
       "      <th>3</th>\n",
       "      <td>35</td>\n",
       "      <td>1</td>\n",
       "      <td>28</td>\n",
       "      <td>21</td>\n",
       "      <td>0.0</td>\n",
       "      <td>1.0</td>\n",
       "      <td>0.0</td>\n",
       "    </tr>\n",
       "    <tr>\n",
       "      <th>4</th>\n",
       "      <td>180</td>\n",
       "      <td>172</td>\n",
       "      <td>1</td>\n",
       "      <td>14</td>\n",
       "      <td>0.0</td>\n",
       "      <td>0.0</td>\n",
       "      <td>1.0</td>\n",
       "    </tr>\n",
       "  </tbody>\n",
       "</table>\n",
       "</div>"
      ],
      "text/plain": [
       "   hourly_rate  num_completed_tasks  day  hour  category_Furniture Assembly  \\\n",
       "0           60                  184    6     4                          0.0   \n",
       "1           42                  227   20    20                          1.0   \n",
       "2           38                    5   23    22                          0.0   \n",
       "3           35                    1   28    21                          0.0   \n",
       "4          180                  172    1    14                          0.0   \n",
       "\n",
       "   category_Mounting  category_Moving Help  \n",
       "0                1.0                   0.0  \n",
       "1                0.0                   0.0  \n",
       "2                1.0                   0.0  \n",
       "3                1.0                   0.0  \n",
       "4                0.0                   1.0  "
      ]
     },
     "execution_count": 102,
     "metadata": {},
     "output_type": "execute_result"
    }
   ],
   "source": [
    "X_train.head()"
   ]
  },
  {
   "cell_type": "code",
   "execution_count": 103,
   "id": "a2fee478",
   "metadata": {},
   "outputs": [
    {
     "data": {
      "text/plain": [
       "4208     0\n",
       "18622    1\n",
       "21739    0\n",
       "27515    0\n",
       "290      0\n",
       "Name: hired, dtype: int64"
      ]
     },
     "execution_count": 103,
     "metadata": {},
     "output_type": "execute_result"
    }
   ],
   "source": [
    "y_train.head()"
   ]
  },
  {
   "cell_type": "code",
   "execution_count": 97,
   "id": "99fae4e8",
   "metadata": {},
   "outputs": [],
   "source": [
    "# logistic regression\n",
    "from sklearn.linear_model import LogisticRegression\n",
    "\n",
    "classifier_LR = LogisticRegression()"
   ]
  },
  {
   "cell_type": "code",
   "execution_count": 98,
   "id": "3be98629",
   "metadata": {
    "scrolled": true
   },
   "outputs": [
    {
     "data": {
      "text/plain": [
       "LogisticRegression()"
      ]
     },
     "execution_count": 98,
     "metadata": {},
     "output_type": "execute_result"
    }
   ],
   "source": [
    "# train the model\n",
    "# classifier_LR.fit(X_train.iloc[:,1:3], y_train)\n",
    "classifier_LR.fit(X_train, y_train)"
   ]
  },
  {
   "cell_type": "code",
   "execution_count": 99,
   "id": "62d93eee",
   "metadata": {
    "scrolled": true
   },
   "outputs": [
    {
     "data": {
      "text/plain": [
       "array([0, 0, 0, ..., 0, 0, 0], dtype=int64)"
      ]
     },
     "execution_count": 99,
     "metadata": {},
     "output_type": "execute_result"
    }
   ],
   "source": [
    "# predict the test data\n",
    "classifier_LR.predict(X_test)"
   ]
  },
  {
   "cell_type": "code",
   "execution_count": 100,
   "id": "e49a73b2",
   "metadata": {},
   "outputs": [
    {
     "data": {
      "text/plain": [
       "0.9432"
      ]
     },
     "execution_count": 100,
     "metadata": {},
     "output_type": "execute_result"
    }
   ],
   "source": [
    "# accuracy of test data\n",
    "classifier_LR.score(X_test, y_test) # accuracy "
   ]
  },
  {
   "cell_type": "code",
   "execution_count": 101,
   "id": "bd5623ad",
   "metadata": {
    "scrolled": true
   },
   "outputs": [
    {
     "data": {
      "text/plain": [
       "0.5835780634234204"
      ]
     },
     "execution_count": 101,
     "metadata": {},
     "output_type": "execute_result"
    }
   ],
   "source": [
    "# roc_auc of test data\n",
    "from sklearn.metrics import roc_auc_score\n",
    "roc_auc_score(y_test, classifier_LR.predict_proba(X_test)[:, 1])"
   ]
  },
  {
   "cell_type": "code",
   "execution_count": 108,
   "id": "fca0a40b",
   "metadata": {},
   "outputs": [
    {
     "data": {
      "text/plain": [
       "GridSearchCV(cv=5, estimator=LogisticRegression(solver='liblinear'),\n",
       "             param_grid={'C': (0.05, 0.1, 0.2, 0.5), 'penalty': ('l1', 'l2')},\n",
       "             scoring='roc_auc')"
      ]
     },
     "execution_count": 108,
     "metadata": {},
     "output_type": "execute_result"
    }
   ],
   "source": [
    "# use grid search to find the optimal hyperparameter\n",
    "from sklearn.model_selection import GridSearchCV\n",
    "parameters = {\n",
    "    \"penalty\" : (\"l1\", \"l2\"),\n",
    "    \"C\" : (0.05, 0.1, 0.2, 0.5)\n",
    "}\n",
    "grid_LR = GridSearchCV(LogisticRegression(solver = \"liblinear\"), \n",
    "                       parameters, cv = 5, scoring = 'roc_auc')\n",
    "grid_LR.fit(X_train, y_train)"
   ]
  },
  {
   "cell_type": "code",
   "execution_count": 109,
   "id": "e1bba5b5",
   "metadata": {},
   "outputs": [
    {
     "data": {
      "text/plain": [
       "(0.6029478548560664, {'C': 0.5, 'penalty': 'l2'})"
      ]
     },
     "execution_count": 109,
     "metadata": {},
     "output_type": "execute_result"
    }
   ],
   "source": [
    "(grid_LR.best_score_, grid_LR.best_params_)"
   ]
  },
  {
   "cell_type": "code",
   "execution_count": 110,
   "id": "bf3941c1",
   "metadata": {},
   "outputs": [
    {
     "data": {
      "text/plain": [
       "0.9432"
      ]
     },
     "execution_count": 110,
     "metadata": {},
     "output_type": "execute_result"
    }
   ],
   "source": [
    "# best model\n",
    "best_LR_model = grid_LR.best_estimator_\n",
    "best_LR_model.predict(X_test)\n",
    "best_LR_model.score(X_test, y_test)"
   ]
  },
  {
   "cell_type": "code",
   "execution_count": 111,
   "id": "69374c98",
   "metadata": {},
   "outputs": [
    {
     "data": {
      "text/plain": [
       "0.583247553362774"
      ]
     },
     "execution_count": 111,
     "metadata": {},
     "output_type": "execute_result"
    }
   ],
   "source": [
    "roc_auc_score(y_test, best_LR_model.predict_proba(X_test)[:, 1])"
   ]
  },
  {
   "cell_type": "code",
   "execution_count": 112,
   "id": "d74032fd",
   "metadata": {},
   "outputs": [],
   "source": [
    "fitted = best_LR_model.fit(X_train, y_train)"
   ]
  },
  {
   "cell_type": "code",
   "execution_count": 113,
   "id": "dd89c5e2",
   "metadata": {
    "scrolled": false
   },
   "outputs": [
    {
     "data": {
      "image/png": "[encoded data removed]",
      "text/plain": [
       "<Figure size 432x288 with 1 Axes>"
      ]
     },
     "metadata": {
      "needs_background": "light"
     },
     "output_type": "display_data"
    }
   ],
   "source": [
    "# ROC curve\n",
    "from sklearn.metrics import roc_curve\n",
    "import matplotlib.pyplot as plt\n",
    "\n",
    "y_pred_lr = fitted.predict_proba(X_test)[:, 1]\n",
    "fpr_lr, tpr_lr, thresh = roc_curve(y_test, y_pred_lr)\n",
    "\n",
    "plt.figure(1)\n",
    "plt.plot([0, 1], [0, 1], label = \"0.5\")\n",
    "plt.plot(fpr_lr, tpr_lr, label = 'LR')\n",
    "plt.xlabel(\"False positive rate\")\n",
    "plt.ylabel(\"True positive rate\")\n",
    "plt.title(\"ROC curve - LR Model\")\n",
    "plt.legend(loc = 'best')\n",
    "plt.show()"
   ]
  },
  {
   "cell_type": "markdown",
   "id": "8457a1e1",
   "metadata": {},
   "source": [
    "## Attempt to drop `position` conclusion:\n",
    "\n",
    "Dropping `position` seems to make the AUC score drop 0.78 from 0.58, so I'm not sure if it is a good idea?"
   ]
  },
  {
   "cell_type": "markdown",
   "id": "e3d112cf",
   "metadata": {},
   "source": [
    "## Suggestions to Task Rabbit: \n",
    "\n",
    "To improve our customer base and make our taskers happy, I will focus on improving the users' decision-making / hiring process and improving the taskers' chances of getting hired. \n",
    "\n",
    "\n",
    "**1. I would suggest Task Rabbit redefine/regroup existing 16 positions into 6 positions (an approximate).** \n",
    "\n",
    "I noticed that the hire rate drops dramatically since position 4-5. More than 60% of the hired taskers are at a position below 6. In addition, the logistic regression model also indicate position has a negative impact on the hire rate. Perhaps we can group the current position 1-3 into a new position A, the current position 4-6 into a new position B, so on and so forth. The logic behind reducing position options is to avoid choice overload: it's harder for people to make decisions when there are too many options. By redefining/ regrouping position numbers, we can save our customer's time and effort to make choices and improve their likelihood to hire a tasker in return. \n",
    "\n",
    "\n",
    "**2. I would suggest Task Rabbit help the tasker achieve higher number of completed tasks.**\n",
    "\n",
    "\n",
    "I noticed that customers perfer to hire taskers with higher number of completed tasks and lower hourly rate. A tasker's hourly rate increases as one's number of completed tasks increase. The higher number of completed tasks a tasker has, the more likely one is going to be hired. However, the higher hourly rate a tasker has, the less likely one is going to be hired.  \n",
    "\n",
    "For example, make arrangements with the new taskers with a few tasks completed. Perhaps tempararily lower their hourly rate to increase their chances of geting hired and completing more tasks. With a higher number of completed tasks, they are more likely to get hired the next time. After they have reached a certain level of completed tasks, they can raise their hourly rate.\n",
    "\n",
    "Another suggestion could be to offer discounts to the users if they choose hire a tasker with a low number of completed tasks. This will provide the customers incentives to hire the taskers with a low number of completed tasks and help these taskers to achieve a higher number of completed tasks. In the long run, these taskers will have a higher chance of getting hired if they can acccumulate more completed tasks. \n"
   ]
  }
 ],
 "metadata": {
  "kernelspec": {
   "display_name": "Python 3",
   "language": "python",
   "name": "python3"
  },
  "language_info": {
   "codemirror_mode": {
    "name": "ipython",
    "version": 3
   },
   "file_extension": ".py",
   "mimetype": "text/x-python",
   "name": "python",
   "nbconvert_exporter": "python",
   "pygments_lexer": "ipython3",
   "version": "3.8.8"
  },
  "toc": {
   "base_numbering": "0",
   "nav_menu": {},
   "number_sections": false,
   "sideBar": true,
   "skip_h1_title": false,
   "title_cell": "Table of Contents",
   "title_sidebar": "Contents",
   "toc_cell": false,
   "toc_position": {},
   "toc_section_display": true,
   "toc_window_display": false
  }
 },
 "nbformat": 4,
 "nbformat_minor": 5
}
